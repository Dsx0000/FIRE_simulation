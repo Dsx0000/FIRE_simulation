{
 "cells": [
  {
   "cell_type": "code",
   "execution_count": 18,
   "metadata": {},
   "outputs": [],
   "source": [
    "# For Jupyter backends:\n",
    "# %matplotlib notebook\n",
    "# %matplotlib inline"
   ]
  },
  {
   "cell_type": "code",
   "execution_count": 19,
   "outputs": [],
   "source": [
    "# For Jupyter + Pycharm\n",
    "import PyQt5\n",
    "import matplotlib\n",
    "matplotlib.use('Qt5Agg')"
   ],
   "metadata": {
    "collapsed": false
   }
  },
  {
   "cell_type": "code",
   "execution_count": 20,
   "outputs": [],
   "source": [
    "from matplotlib import pyplot as plt"
   ],
   "metadata": {
    "collapsed": false
   }
  },
  {
   "cell_type": "code",
   "execution_count": 21,
   "outputs": [],
   "source": [
    "import pandas as pd\n",
    "import numpy as np\n",
    "import yfinance as yf\n",
    "import random\n",
    "import seaborn"
   ],
   "metadata": {
    "collapsed": false
   }
  },
  {
   "cell_type": "markdown",
   "source": [
    "## Optional:\n",
    " Set plot style and print of pandas df"
   ],
   "metadata": {
    "collapsed": false
   }
  },
  {
   "cell_type": "code",
   "execution_count": 22,
   "metadata": {
    "collapsed": false,
    "jupyter": {
     "outputs_hidden": false
    }
   },
   "outputs": [],
   "source": [
    "# OPTIONAL:\n",
    "# set plot style and print of pandas df\n",
    "\n",
    "plt.style.use(\"seaborn-v0_8\")\n",
    "pd.set_option('display.max_rows', None)\n",
    "pd.set_option('display.max_columns', None)\n",
    "pd.set_option('display.width', None)\n",
    "pd.set_option('display.max_colwidth', None)\n",
    "np.set_printoptions(threshold=1000)"
   ]
  },
  {
   "cell_type": "markdown",
   "metadata": {
    "collapsed": false,
    "jupyter": {
     "outputs_hidden": false
    }
   },
   "source": [
    "## Asset and Data Acquisition Section\n",
    "Obtain market data for investment analysis. In this guide, we use the S&P 500, a benchmark for quality investments.\n",
    "Note that the market does not operate every day of the year; the number of trading days varies by asset.\n",
    "To proceed, download the annual returns of the selected financial instrument, adjusting for the specific number of market days in a year if you choose an asset other than the S&P 500.\n"
   ]
  },
  {
   "cell_type": "code",
   "execution_count": 23,
   "metadata": {
    "collapsed": false,
    "jupyter": {
     "outputs_hidden": false
    }
   },
   "outputs": [
    {
     "name": "stderr",
     "output_type": "stream",
     "text": [
      "[*********************100%%**********************]  1 of 1 completed\n"
     ]
    }
   ],
   "source": [
    "# ASSET AND DATA ACQUISITION SECTION\n",
    "# Obtain market data for investment analysis. In this guide, we use the S&P 500, a benchmark for quality investments.\n",
    "# Note that the market does not operate every day of the year; the number of trading days varies by asset.\n",
    "# To proceed, download the annual returns of the selected financial instrument, adjusting for the specific number of\n",
    "# market days in a year if you choose an asset other than the S&P 500.\n",
    "asset = \"^SP500TR\"\n",
    "year_market_days = 253\n",
    "df = yf.download(asset)[\"Adj Close\"].pct_change(year_market_days).dropna()\n",
    "\n",
    "plt.figure(figsize=(12, 8))\n",
    "plt.plot(df)\n",
    "plt.show(block=False)"
   ]
  },
  {
   "cell_type": "markdown",
   "metadata": {
    "collapsed": false,
    "jupyter": {
     "outputs_hidden": false
    }
   },
   "source": [
    "## Earnings Section: Job (Barista FIRE Scenario)\n",
    "This section models a lifestyle that combines employment income with investment returns, ideal for illustrating concepts like \"Barista FIRE,\" where small-scale employment complements investment income. This model also simulates the typical financial behavior of individuals who simultaneously earn and invest.\n",
    "\n",
    "Expenses exceeding income are deducted from investment capital, akin to drawing from a financial independence retire early (FIRE) fund. Conversely, when expenses are less, the surplus is reinvested, mimicking a periodic investment contribution strategy.\n",
    "\n",
    "All financial figures are adjusted for inflation, ensuring that the simulations use realistic, present-day values of earnings and expenses. Therefore, negative withdrawals are treated as deposits, reflecting monthly savings contributions.\n"
   ]
  },
  {
   "cell_type": "code",
   "execution_count": 24,
   "metadata": {
    "collapsed": false,
    "jupyter": {
     "outputs_hidden": false
    }
   },
   "outputs": [],
   "source": [
    "# EARNINGS SECTION: JOB (Barista FIRE Scenario)\n",
    "# This section models a lifestyle that combines employment income with investment returns, ideal for illustrating concepts like\n",
    "# \"Barista FIRE,\" where small-scale employment complements investment income. This model also simulates the typical financial\n",
    "# behavior of individuals who simultaneously earn and invest.\n",
    "# Expenses exceeding income are deducted from investment capital, akin to drawing from a financial independence retire early (FIRE)\n",
    "# fund. Conversely, when expenses are less, the surplus is reinvested, mimicking a periodic investment contribution strategy.\n",
    "# All financial figures are adjusted for inflation, ensuring that the simulations use realistic, present-day values of earnings and\n",
    "# expenses.\n",
    "# Therefore, negative withdrawals are treated as deposits, reflecting monthly savings contributions.\n",
    "avg_net_earnings_job_time = 2000\n",
    "avg_net_expenses_job_time = 1800\n",
    "withdrawal_job_monthly = avg_net_expenses_job_time - avg_net_earnings_job_time\n",
    "years_job = 5"
   ]
  },
  {
   "cell_type": "markdown",
   "metadata": {
    "collapsed": false,
    "jupyter": {
     "outputs_hidden": false
    }
   },
   "source": [
    "## Earnings Section: Pension Retirement scenario\n",
    " Fill in the parameters with expenses and earnings according to today's parameters.\n",
    " The adjustment for inflation will be done automatically"
   ]
  },
  {
   "cell_type": "code",
   "execution_count": 25,
   "metadata": {
    "collapsed": false,
    "jupyter": {
     "outputs_hidden": false
    }
   },
   "outputs": [],
   "source": [
    "# EARNINGS SECTION: PENSION RETIREMENT SCENARIO\n",
    "# Fill in the parameters with expenses and earnings according to today's parameters.\n",
    "# The adjustment for inflation will be done automatically\n",
    "avg_net_earnings_retired = 0\n",
    "avg_net_expenses_retired = 800\n",
    "withdrawal_retired_monthly = avg_net_expenses_retired - avg_net_earnings_retired\n",
    "years_retired = 55"
   ]
  },
  {
   "cell_type": "code",
   "execution_count": 26,
   "metadata": {
    "collapsed": false,
    "jupyter": {
     "outputs_hidden": false
    }
   },
   "outputs": [],
   "source": [
    "withdrawal_job = withdrawal_job_monthly * 12\n",
    "withdrawal_retired = withdrawal_retired_monthly * 12\n",
    "sim_years = years_job + years_retired + 1"
   ]
  },
  {
   "cell_type": "markdown",
   "metadata": {
    "collapsed": false,
    "jupyter": {
     "outputs_hidden": false
    }
   },
   "source": [
    "## Monte Carlo Combinations Section\n",
    "This section introduces a Monte Carlo simulation designed to explore various event combinations in financial markets.\n",
    "The simulation strategically considers events in sets of three, acknowledging the cyclical market trends observed in successive years. By doing so, the realism of the forecast is enhanced as it incorporates economic cycles. This methodology ensures that the simulation does not unrealistically skew towards solely positive or negative outcomes, thus providing a more balanced view of potential financial scenarios.\n"
   ]
  },
  {
   "cell_type": "code",
   "execution_count": 27,
   "metadata": {
    "collapsed": false,
    "jupyter": {
     "outputs_hidden": false
    }
   },
   "outputs": [],
   "source": [
    "# MONTECARLO COMBINATIONS SECTION\n",
    "# This section introduces a Monte Carlo simulation designed to explore various event combinations in financial markets.\n",
    "# The simulation strategically considers events in sets of three, acknowledging the cyclical market trends observed in\n",
    "# successive years.\n",
    "# By doing so, the realism of the forecast is enhanced as it incorporates economic cycles. This methodology ensures that\n",
    "# the simulation does not unrealistically skew towards solely positive or negative outcomes, thus providing a more\n",
    "# balanced view of potential financial scenarios.\n",
    "simulation_num = 10000\n",
    "upper = len(df) - 3 * year_market_days - 1\n",
    "equity_compound_interest_factor = np.zeros((sim_years, simulation_num))\n",
    "equity_compound_interest_factor[0, :] = 1\n",
    "equity_current_interest_factor = np.zeros((sim_years, simulation_num))\n",
    "equity_current_interest_factor[0, :] = 1\n",
    "for simulation in range(simulation_num):\n",
    "    for sim_year in range(1, sim_years, 3):\n",
    "        extracted_rand_earning1 = random.randint(0, upper)\n",
    "        extracted_rand_earning2 = extracted_rand_earning1 + year_market_days\n",
    "        extracted_rand_earning3 = extracted_rand_earning2 + year_market_days\n",
    "\n",
    "        if sim_year < sim_years:\n",
    "            equity_compound_interest_factor[sim_year, simulation] = 1 + df.iloc[extracted_rand_earning1]\n",
    "            equity_current_interest_factor[sim_year, simulation] = equity_current_interest_factor[sim_year - 1, simulation] * (1 + df.iloc[extracted_rand_earning1])\n",
    "        if sim_year + 1 < sim_years:\n",
    "            equity_compound_interest_factor[sim_year + 1, simulation] = 1 + df.iloc[extracted_rand_earning2]\n",
    "            equity_current_interest_factor[sim_year + 1, simulation] = equity_current_interest_factor[sim_year, simulation] * (1 + df.iloc[extracted_rand_earning2])\n",
    "        if sim_year + 2 < sim_years:\n",
    "            equity_compound_interest_factor[sim_year + 2, simulation] = 1 + df.iloc[extracted_rand_earning3]\n",
    "            equity_current_interest_factor[sim_year + 2, simulation] = equity_current_interest_factor[sim_year + 1, simulation] * (1 + df.iloc[extracted_rand_earning3])"
   ]
  },
  {
   "cell_type": "markdown",
   "metadata": {
    "collapsed": false,
    "jupyter": {
     "outputs_hidden": false
    }
   },
   "source": [
    "## Montecarlo Combinations Visual Extra Section\n",
    " Optional: you can visualize the simulations of the investment here"
   ]
  },
  {
   "cell_type": "code",
   "execution_count": 28,
   "metadata": {
    "collapsed": false,
    "jupyter": {
     "outputs_hidden": false
    }
   },
   "outputs": [
    {
     "name": "stderr",
     "output_type": "stream",
     "text": [
      "No artists with labels found to put in legend.  Note that artists whose label start with an underscore are ignored when legend() is called with no argument.\n"
     ]
    }
   ],
   "source": [
    "# MONTECARLO COMBINATIONS VISUAL EXTRA SECTION\n",
    "# Optional: you can visualize the simulations of the investment here\n",
    "plt.figure(figsize=(25, 15))\n",
    "plt.plot(pd.DataFrame(equity_current_interest_factor))\n",
    "plt.legend(loc='best')\n",
    "plt.yscale('log')  # Imposta la scala logaritmica per l'asse y\n",
    "plt.xticks(fontsize=16)\n",
    "plt.yticks(fontsize=16)\n",
    "plt.xlabel(\"Index\", fontsize=16)\n",
    "plt.ylabel(\"Values\", fontsize=16)\n",
    "plt.title(\"Plot of Equity Current Interest Factor\", fontsize=18)\n",
    "plt.show(block=False)"
   ]
  },
  {
   "cell_type": "markdown",
   "metadata": {
    "collapsed": false,
    "jupyter": {
     "outputs_hidden": false
    }
   },
   "source": [
    "## Inflation Data and Simulation Section\n",
    "This section introduces a series of inflation simulations to evaluate its significant impact on estimated annual withdrawals and the true value of financial amounts over time.\n",
    "Various simulation methodologies are offered to accommodate different analysis needs:\n",
    "\n",
    "- **const**: Inflation remains consistent at a predefined average rate, serving as a static parameter throughout the simulation. 3%-4% is recommended.\n",
    "- **real**: Inflation rates are randomly rescaled from historical data spanning 1954 to 2022, specific to Italy.\n",
    "- **real rescaled**: Similar to the real method, but adjusted to match a predefined average inflation rate, correcting for historical biases that typically exceed 5%.\n",
    "- **lognormal**: Inflation rates are modeled using a lognormal distribution, where the mean is set to a predefined rate and the variance is derived from historical inflation data, approximately 0.53.\n"
   ]
  },
  {
   "cell_type": "code",
   "execution_count": 29,
   "metadata": {
    "collapsed": false,
    "jupyter": {
     "outputs_hidden": false
    }
   },
   "outputs": [
    {
     "name": "stdout",
     "output_type": "stream",
     "text": [
      "Inflation Average: 0.03 Inflation Std Dev: 0.0\n",
      "Simulated Inflation History:\n",
      " [[0.03 0.03 0.03 ... 0.03 0.03 0.03]\n",
      " [0.03 0.03 0.03 ... 0.03 0.03 0.03]\n",
      " [0.03 0.03 0.03 ... 0.03 0.03 0.03]\n",
      " ...\n",
      " [0.03 0.03 0.03 ... 0.03 0.03 0.03]\n",
      " [0.03 0.03 0.03 ... 0.03 0.03 0.03]\n",
      " [0.03 0.03 0.03 ... 0.03 0.03 0.03]]\n"
     ]
    }
   ],
   "source": [
    "# INFLATION AND DATA SIMULATION SECTION\n",
    "# This section introduces a series of inflation simulations to evaluate its significant impact on estimated annual withdrawals and\n",
    "# the true value of financial amounts over time.\n",
    "# Various simulation methodologies are offered to accommodate different analysis needs:\n",
    "#\n",
    "# - const: Inflation remains consistent at a predefined average rate, serving as a static parameter throughout the simulation.\n",
    "# 3%-4% is recommended.\n",
    "# - real: Inflation rates are randomly rescaled from historical data spanning 1954 to 2022, specific to Italy.\n",
    "# - real rescaled: Similar to the real method, but adjusted to match a predefined average inflation rate, correcting for\n",
    "# historical biases that typically exceed 5%.\n",
    "# - lognormal: Inflation rates are modeled using a lognormal distribution, where the mean is set to a predefined rate and\n",
    "# the variance is derived from historical inflation data, approximately 0.53.\n",
    "\n",
    "inflation_est_mode = \"const\"\n",
    "inflation_est_average_fixed = 0.03\n",
    "inflation_history = np.array(\n",
    "    [2.3, 3.4, 1.3, 2.8, -0.4, 2.3, 2.1, 4.7, 7.5, 5.9, 4.6, 2.3, 3.7, 1.4, 2.6, 5.0, 4.8, 5.7, 10.8, 19.1, 17.0, 16.8,\n",
    "     17.0, 12.1, 14.8, 21.2, 17.8, 16.5, 14.7, 10.8, 9.2, 5.8, 4.8, 5.0, 6.3, 6.5, 6.2, 5.3, 4.7, 4.1, 5.3, 4.0, 2.0,\n",
    "     2.0, 1.7, 2.5, 2.7, 2.5, 2.7, 2.2, 1.9, 2.1, 1.8, 3.3, 0.8, 1.5, 2.7, 3.0, 1.2, 0.2, 0.1, -0.1, 1.2, 1.2, 0.6,\n",
    "     -0.2, 1.9, 8.1, 8.7]) / 100\n",
    "if inflation_est_mode == \"const\":\n",
    "    inflation = np.ones((sim_years, simulation_num)) * inflation_est_average_fixed\n",
    "elif inflation_est_mode == \"real\":\n",
    "    inflation = inflation_history[np.random.randint(0, len(inflation_history), (sim_years, simulation_num))]\n",
    "elif inflation_est_mode == \"real rescaled\":\n",
    "    inflation = (inflation_history * (inflation_est_average_fixed / inflation_history.mean()))[\n",
    "        np.random.randint(0, len(inflation_history), (sim_years, simulation_num))]\n",
    "elif inflation_est_mode == \"lognormal\":\n",
    "    mu = np.log(inflation_est_average_fixed)\n",
    "    sigma = np.log((1 + np.sqrt(1 + 4 * inflation_history.var() / np.exp(2 * mu))) / 2)\n",
    "    mu = np.log(inflation_est_average_fixed) - sigma ** 2 / 2\n",
    "    sigma = np.log((1 + np.sqrt(1 + 4 * inflation_history.var() / np.exp(2 * mu))) / 2)\n",
    "    mu = np.log(inflation_est_average_fixed) - sigma ** 2 / 2\n",
    "    inflation = np.random.lognormal(mean=mu, sigma=sigma, size=(sim_years, simulation_num))\n",
    "else:\n",
    "    print(\"Unexpected input.\\n\"\n",
    "          \"String for inflation not present among the options so average inflation will be used here.\")\n",
    "    inflation = np.ones((sim_years, simulation_num)) * inflation_est_average_fixed\n",
    "print(\"Inflation Average:\", inflation.mean(), \"Inflation Std Dev:\", inflation.std())\n",
    "print(\"Simulated Inflation History:\\n\", str(inflation))"
   ]
  },
  {
   "cell_type": "markdown",
   "metadata": {
    "collapsed": false,
    "jupyter": {
     "outputs_hidden": false
    }
   },
   "source": [
    "## Inheritance as an Investment Option Section\n",
    "This section introduces the possibility of integrating non-liquid assets or not available at the time being, such as potential inheritances, into investment simulations. Real-life unpredictability regarding the timing of such inheritances allows for the simulation to include randomized scenarios. Users can opt to convert existing assets at a pre-determined future date, adjusting their value for inflation—making this particularly relevant for real estate assets.\n",
    "\n",
    "### Simulation Parameters:\n",
    "- **random**: Inheritances are adjusted for inflation and received randomly within the simulation timeline.\n",
    "- **random fixed**: Similar to 'Random', but with a fixed seed to ensure consistent simulation conditions across multiple runs.\n",
    "- **known**: The timing and amount of the inheritance are predefined, allowing for strategic investment planning.\n",
    "\n",
    "### Estate Deposit Options:\n",
    "- **asset**: Immediate investment of inherited assets.\n",
    "- **buffer**: Placement of assets into a buffer account for liquidity management.\n",
    "\n",
    "An additional parameter allows for the annual adjustment of the inheritance value to reflect inflation, which is advisable when the assets include real estate.\n",
    "All annual values are denoted relative to the current year, designated as year zero in the simulation timeline.\n"
   ]
  },
  {
   "cell_type": "code",
   "execution_count": 30,
   "metadata": {
    "collapsed": false,
    "jupyter": {
     "outputs_hidden": false
    }
   },
   "outputs": [
    {
     "name": "stdout",
     "output_type": "stream",
     "text": [
      "You will receive your inheritance in 25 years.\n"
     ]
    }
   ],
   "source": [
    "# INHERITANCE AS AN INVESTMENT OPTION SECTION\n",
    "# This section introduces the possibility of integrating non-liquid assets or not available at the time being, such as potential\n",
    "# inheritances, into investment simulations. Real-life unpredictability regarding the timing of such inheritances allows for the\n",
    "# simulation to include randomized scenarios. Users can opt to convert existing assets at a pre-determined future date, adjusting\n",
    "# their value for inflation—making this particularly relevant for real estate assets.\n",
    "#\n",
    "# Simulation Parameters:\n",
    "# - random: Inheritances are adjusted for inflation and received randomly within the simulation timeline.\n",
    "# - random fixed: Similar to 'Random', but with a fixed seed to ensure consistent simulation conditions across multiple runs.\n",
    "# - known: The timing and amount of the inheritance are predefined, allowing for strategic investment planning.\n",
    "#\n",
    "# Estate Deposit Options:\n",
    "# - asset: Immediate investment of inherited assets.\n",
    "# - buffer: Placement of assets into a buffer account for liquidity management.\n",
    "#\n",
    "# An additional parameter allows for the annual adjustment of the inheritance value to reflect inflation, which is advisable when\n",
    "# the assets include real estate.\n",
    "# All annual values are denoted relative to the current year, designated as year zero in the simulation timeline.\n",
    "\n",
    "estate = 0\n",
    "seed_num4rand_pick = 4\n",
    "rand_pick_min_year = 10\n",
    "rand_pick_max_year = 60\n",
    "known_pick_year = 40\n",
    "estate_pick_mode = \"random fixed\"\n",
    "estate_deposit = \"asset\"\n",
    "estate_inflation_correction = True\n",
    "\n",
    "if estate_pick_mode == \"random\":\n",
    "    year_estate2invest_conversion = random.randint(rand_pick_min_year, rand_pick_max_year)\n",
    "elif estate_pick_mode == \"random fixed\":\n",
    "    random.seed(seed_num4rand_pick)\n",
    "    year_estate2invest_conversion = random.randint(rand_pick_min_year, rand_pick_max_year)\n",
    "elif estate_pick_mode == \"known\":\n",
    "    year_estate2invest_conversion = known_pick_year\n",
    "else:\n",
    "    print(\"Unexpected input.\\n\"\n",
    "          \"It will be supposed that no inheritance will be obtained in the future nor in a random year neither \"\n",
    "          \"in a known moment.\")\n",
    "    year_estate2invest_conversion = 0\n",
    "    estate = 0\n",
    "\n",
    "if estate_deposit not in [\"asset\", \"buffer\"]:\n",
    "    print(\"Unexpected input.\\n\"\n",
    "                          \"It will be supposed that the inheritance will remain in the buffer account.\")\n",
    "\n",
    "print(f'You will receive your inheritance in {year_estate2invest_conversion} years.')"
   ]
  },
  {
   "cell_type": "markdown",
   "metadata": {
    "collapsed": false,
    "jupyter": {
     "outputs_hidden": false
    }
   },
   "source": [
    "## Buffer-Liquidity-BTP and Bond Section\n",
    "Investment portfolios rarely allocate their entire capital to the stock market. Typically, a portion is kept liquid in bonds, BTPs, or deposit accounts to mitigate the tax implications on withdrawals and provide financial flexibility. This section assumes that the interest on the buffer account equals the inflation rate, and taxes are managed directly from this account.\n",
    "\n",
    "### Purposes of the Buffer Account\n",
    "1. **Simplify Financial Transactions:** It eases the management of payments and tax obligations.\n",
    "2. **Provide Stability in Volatile Markets:** It helps avoid withdrawals from growth-focused accounts during market downturns, preserving long-term investment potential.\n",
    "\n",
    "### Drawbacks\n",
    "- **Reduced Long-Term Returns:** Money held in the buffer account usually yields lower returns compared to more aggressive investments, which can significantly impact the financial viability of smaller portfolios.\n",
    "\n",
    "### Operational Mechanics\n",
    "- **Annual Adjustment:** The buffer is decreased annually by any associated withdrawal fees and replenished during years of positive returns up to a pre-defined limit.\n",
    "- **Saturation Point:** This is calculated based on the desired number of years' worth of withdrawals to be covered, for example, setting aside €10,000 annually for 2 years requires €20,000 initially reserved in the buffer.\n"
   ]
  },
  {
   "cell_type": "code",
   "execution_count": 31,
   "metadata": {
    "collapsed": false,
    "jupyter": {
     "outputs_hidden": false
    }
   },
   "outputs": [],
   "source": [
    "# BUFFER-LIQUIDITY-BTP and BOND SECTION\n",
    "# Investment portfolios rarely allocate their entire capital to the stock market. Typically, a portion is kept liquid in bonds, BTPs,\n",
    "# or deposit accounts to mitigate the tax implications on withdrawals and provide financial flexibility. This section assumes that\n",
    "# the interest on the buffer account equals the inflation rate, and taxes are managed directly from this account.\n",
    "#\n",
    "# Purposes of the Buffer Account\n",
    "# 1. Simplify Financial Transactions: It eases the management of payments and tax obligations.\n",
    "# 2. Provide Stability in Volatile Markets: It helps avoid withdrawals from growth-focused accounts during market downturns,\n",
    "# preserving long-term investment potential.\n",
    "#\n",
    "# Drawbacks\n",
    "# - Reduced Long-Term Returns: Money held in the buffer account usually yields lower returns compared to more aggressive investments,\n",
    "# which can significantly impact the financial viability of smaller portfolios.\n",
    "#\n",
    "# Operational Mechanics\n",
    "# - Annual Adjustment: The buffer is decreased annually by any associated withdrawal fees and replenished during years of positive\n",
    "# returns up to a pre-defined limit.\n",
    "# - Saturation Point: This is calculated based on the desired number of years' worth of withdrawals to be covered, for example,\n",
    "# setting aside €10,000 annually for 2 years requires €20,000 initially reserved in the buffer.\n",
    "years_equivalent_equity_buffer = 1"
   ]
  },
  {
   "cell_type": "markdown",
   "metadata": {
    "collapsed": false,
    "jupyter": {
     "outputs_hidden": false
    }
   },
   "source": [
    "## Taxes and Costs Section\n",
    "This section outlines the fiscal responsibilities associated with holding financial instruments in Italy:\n",
    "\n",
    "- **Stamp Duty**: In Italy, all financial instruments are subject to a stamp duty of 2 per mille, calculated based on the reference price of the securities on the last day of the tax period.\n",
    "- **Capital Gains Tax**: Investments in the stock market are taxed at a rate of 26% on capital gains.\n",
    "- **Fractional Parameter for Illiquid Assets**: A fractional parameter is available to simulate the initial capital from assets that will be subject to taxation before conversion into liquid investment. For instance, if there is €100K in a bond taxed at 12.5%, the effective initial capital is calculated as €87.5K (i.e., 100 - 12.5% of 100). This parameter is adjustable and optional, set to 1.0 for initial simulations to represent 100% of the capital.\n",
    "\n",
    "Adjust the aforementioned tax rates according to the financial regulations of your country of residence and chosen financial instrument (1.0 == 100%).\n"
   ]
  },
  {
   "cell_type": "code",
   "execution_count": 32,
   "metadata": {
    "collapsed": false,
    "jupyter": {
     "outputs_hidden": false
    }
   },
   "outputs": [],
   "source": [
    "# TAXES AND COSTS SECTION\n",
    "# This section outlines the fiscal responsibilities associated with holding financial instruments in Italy:\n",
    "#\n",
    "# - Stamp Duty: In Italy, all financial instruments are subject to a stamp duty of 2 per mille, calculated based on the reference\n",
    "# price of the securities on the last day of the tax period.\n",
    "# - Capital Gains Tax: Investments in the stock market are taxed at a rate of 26% on capital gains.\n",
    "# - Fractional Parameter for Illiquid Assets: A fractional parameter is available to simulate the initial capital from assets that\n",
    "# will be subject to taxation before conversion into liquid investment. For instance, if there is €100K in a bond taxed at 12.5%,\n",
    "# the effective initial capital is calculated as €87.5K (i.e., 100 - 12.5% of 100). This parameter is adjustable and optional, set\n",
    "# to 1.0 for initial simulations to represent 100% of the capital.\n",
    "#\n",
    "# Adjust the aforementioned tax rates according to the financial regulations of your country of residence and chosen financial\n",
    "# instrument (1.0 == 100%).\n",
    "\n",
    "stamp_duty = 0.002\n",
    "inv_tax = 0.26\n",
    "starting_equity_fraction = 1.0"
   ]
  },
  {
   "cell_type": "markdown",
   "metadata": {
    "collapsed": false,
    "jupyter": {
     "outputs_hidden": false
    }
   },
   "source": [
    "## Computation Section\n",
    "This section conducts a Monte Carlo simulation to evaluate the probability of financial survival across various initial capitals, ranging from €0 to €1 million, increased in increments of €50,000. Each year of the simulation is analyzed to determine survival probability based on predefined financial settings.\n"
   ]
  },
  {
   "cell_type": "code",
   "execution_count": 13,
   "metadata": {
    "collapsed": false,
    "jupyter": {
     "outputs_hidden": false
    }
   },
   "outputs": [
    {
     "data": {
      "text/plain": "<Axes: >"
     },
     "execution_count": 13,
     "metadata": {},
     "output_type": "execute_result"
    }
   ],
   "source": [
    "# COMPUTATION SECTION\n",
    "# This section conducts a Monte Carlo simulation to evaluate the probability of financial survival across various initial capitals,\n",
    "# ranging from €0 to €1 million, increased in increments of €50,000. Each year of the simulation is analyzed to determine survival\n",
    "# probability based on predefined financial settings.\n",
    "\n",
    "def safe_divide(numerator, denominator, _epsilon=1e-6):\n",
    "    \"\"\"\n",
    "    Performs safe division to avoid dividing by zero.\n",
    "    Replace values of the denominator that are too small with epsilon\n",
    "\n",
    "    Args:\n",
    "    numerator (np.array): Array containing the numerators.\n",
    "    denominator (np.array): Array containing the denominators.\n",
    "    epsilon (float): A small value to prevent division by zero.\n",
    "\n",
    "    Returns:\n",
    "    np.array: Result of the division.\n",
    "    \"\"\"\n",
    "    safe_denominator = np.where(abs(denominator) < _epsilon, np.copysign(_epsilon, denominator), denominator)\n",
    "    return numerator / safe_denominator\n",
    "\n",
    "def manage_financials(desired_equity_buffers, actual_equity_buffers, _fire_cum_equities, _withdrawals, _capital_gains, _inv_tax):\n",
    "    \"\"\"\n",
    "    Manages investments and buffers after calculating taxes on the money rearrangement.\n",
    "\n",
    "    Parameters:\n",
    "    - _year (int): The current year of the simulation.\n",
    "    - desired_equity_buffers (numpy.ndarray): 2D array representing the desired buffer states before adjustments.\n",
    "    - actual_equity_buffers (numpy.ndarray): 2D array representing the actual buffer states after financial operations.\n",
    "    - _fire_cum_equities (numpy.ndarray): 2D array containing cumulative equities for each year and simulation.\n",
    "    - _withdrawals (numpy.ndarray): 2D array containing planned withdrawal amounts for each year and simulation.\n",
    "    - _capital_gains (numpy.ndarray): 1D array containing capital gains for each simulation.\n",
    "    - _inv_tax (float): Tax rate on investments.\n",
    "    - _epsilon (float): Threshold value used to avoid division by zero.\n",
    "    - new_buffers (numpy.ndarray): Precomputed new buffer values for the current year, used to determine withdrawals.\n",
    "\n",
    "    Returns:\n",
    "    - actual_equity_buffers (numpy.ndarray): Updated 2D array with financial buffers after withdrawals and taxes.\n",
    "    - _fire_cum_equities (numpy.ndarray): Updated 2D array with cumulative equities after withdrawals.\n",
    "    - _capital_gains (numpy.ndarray): Updated 1D array of capital gains after tax application.\n",
    "\n",
    "    Description:\n",
    "    The function uses the provided desired equity buffer values to determine the actual amount to withdraw from the investments\n",
    "    account, ensuring it is not negative. This happens whenever the money needed for withdrawals must be transferred in the\n",
    "    buffer/cash account:\n",
    "    - When the asset annual returns are positive\n",
    "    - When there are not enough money available for withdrawals in the current year\n",
    "    - When the buffer must be set at the very beginning with the expected withdrawals amount\n",
    "    It calculates applicable taxes if the withdrawal amount is positive and the savings in the investment account aren't already\n",
    "    depleted and updates the capital gains by reducing them proportionally based on the taxable amount.\n",
    "    Finally, updates the investment equities and buffers with net values after withdrawals and taxes.\n",
    "    \"\"\"\n",
    "    withdrawals_amount = np.maximum(0, desired_equity_buffers - actual_equity_buffers)\n",
    "    _taxes = np.where(_fire_cum_equities * withdrawals_amount > 0,\n",
    "                     withdrawals_amount * (1 - safe_divide(_capital_gains, _fire_cum_equities)) * _inv_tax,\n",
    "                     0)\n",
    "    _capital_gains = np.where(_taxes == 0,\n",
    "                              _capital_gains,\n",
    "                              _capital_gains * (1 - safe_divide(withdrawals_amount, _fire_cum_equities)))\n",
    "    _fire_cum_equities = _fire_cum_equities - withdrawals_amount\n",
    "    actual_equity_buffers = actual_equity_buffers + withdrawals_amount - _taxes\n",
    "    return actual_equity_buffers, _fire_cum_equities, _capital_gains\n",
    "\n",
    "\n",
    "\n",
    "epsilon = 1e-6\n",
    "starting_equities = list(range(0, 1000001, 50000))\n",
    "summaryTable = pd.DataFrame(np.zeros((years_job + years_retired, len(starting_equities))),\n",
    "                            columns=starting_equities,\n",
    "                            index=list(range(1, sim_years)))\n",
    "\n",
    "withdrawals = np.zeros((sim_years, simulation_num))\n",
    "# The first year each month I withdraw what was declared at work\n",
    "withdrawals[0, :] = withdrawal_job\n",
    "# Create an array of inflation rates up to `sim_years`, with appropriate padding for the first year\n",
    "inflation_rates = np.vstack([np.zeros(simulation_num), inflation[:sim_years-1, :]])\n",
    "# Calculate the compound inflation factor for each year\n",
    "inflation_compound_interest_factor = np.cumprod(1 + inflation_rates, axis=0)\n",
    "# Update withdrawals based on compounded inflation\n",
    "withdrawals[1:years_job+1] = withdrawal_job * inflation_compound_interest_factor[1:years_job+1]\n",
    "withdrawals[years_job+1:sim_years] = withdrawal_retired *  inflation_compound_interest_factor[years_job+1: sim_years]\n",
    "if estate_inflation_correction:\n",
    "    estate_corrected = estate * inflation_compound_interest_factor[1:min(year_estate2invest_conversion + 2, sim_years)]\n",
    "else:\n",
    "    estate_corrected = np.ones((min(year_estate2invest_conversion + 2, sim_years), simulation_num)) * estate\n",
    "\n",
    "\n",
    "for starting_equity in starting_equities:\n",
    "    buffers = np.zeros((sim_years, simulation_num))\n",
    "    fire_cum_equities = np.zeros((sim_years, simulation_num))\n",
    "    capital_gains = np.ones(simulation_num) * starting_equity_fraction * starting_equity\n",
    "\n",
    "    # Simulate the first year separately due to the initialization of buffers\n",
    "    year = 0\n",
    "    fire_cum_equities[0, :] = starting_equity\n",
    "\n",
    "    # Create the equity buffer based on how many equivalent years of spending I want to have in the buffer account without exceeding the threshold of the maximum\n",
    "    # initial capital that I am simulating in the current iteration\n",
    "    # In the first year, I always make withdrawals, so if the years for the equity buffer are set to a value less than 1 by mistake or to put\n",
    "    # 0, they are set to 1\n",
    "    # I then simulate that the money is taken from the investment account and taxed for the amount withdrawn in proportion to the capital gains\n",
    "    # (initially none, but I use the same function always even though the tax calculation in this sense is not needed in the first year so it's as\n",
    "    # if I created the necessary account for the buffer directly and took the equivalent of the buffer from the investment fund in order to have\n",
    "    # a total amount equal to the simulation capital)\n",
    "    new_buffers = np.minimum(fire_cum_equities[year, :] + buffers[year, :],\n",
    "                             withdrawals[year, :] * max(years_equivalent_equity_buffer, 1))\n",
    "    buffers[year, :], fire_cum_equities[year, :], capital_gains = manage_financials(\n",
    "    desired_equity_buffers=new_buffers,\n",
    "    actual_equity_buffers=buffers[year, :],\n",
    "    _fire_cum_equities=fire_cum_equities[year, :],\n",
    "    _withdrawals=withdrawals[year, :],\n",
    "    _capital_gains=capital_gains,\n",
    "    _inv_tax=inv_tax\n",
    "    )\n",
    "    # The withdrawal is then executed.\n",
    "    # If there is no need to withdraw because the personal balance is positive, the buffer remains as is and the gain is added to the\n",
    "    # investments as if it were a systematic investment plan\n",
    "    # Finally Rounding errors on investment funds that went default are corrected by setting them to 0.\n",
    "    buffers[year, :] = np.where(withdrawals[year, :] >= 0,\n",
    "                                buffers[year, :] - withdrawals[year, :],\n",
    "                                buffers[year, :])\n",
    "    fire_cum_equities[year, :] = np.where(withdrawals[year, :] >= 0,\n",
    "                                          fire_cum_equities[year, :],\n",
    "                                          fire_cum_equities[year, :] - withdrawals[year, :])\n",
    "    fire_cum_equities[year, :] = np.where(fire_cum_equities[year, :] < withdrawals[year, :] * epsilon, 0,\n",
    "                          fire_cum_equities[year, :])\n",
    "    # Simulate the remaining years\n",
    "    for year in range(1, sim_years):\n",
    "        # The previous year ends, and the portfolio value is updated based on the simulated returns and losses of the asset\n",
    "        # The previous year ends, and the value of the buffer is increased in line with inflation as is usual with the interest\n",
    "        # of a deposit account or conservative bonds\n",
    "        # Stamp duty is paid\n",
    "        fire_cum_equities[year, :] = fire_cum_equities[year - 1, :] * equity_compound_interest_factor[year, :]\n",
    "        buffers[year, :] = buffers[year, :] * (1 + inflation[year, :])\n",
    "        buffers[year, :] = buffers[year - 1, :] - (fire_cum_equities[year, :] + buffers[year - 1, :]) * stamp_duty\n",
    "        # The buffer, which may have been reduced by withdrawals in the previous cycle, needs to be replenished\n",
    "        # This is done only if there were positive returns that were higher than the previous year\n",
    "        # This caution improves the long-term performance of the portfolio during market crash scenarios\n",
    "        new_buffers = np.where(equity_current_interest_factor[year, :] > np.maximum(equity_current_interest_factor[year - 1, :], 0),\n",
    "                              np.minimum(fire_cum_equities[year, :] + buffers[year, :],\n",
    "                                         withdrawals[year, :] * years_equivalent_equity_buffer),\n",
    "                                         buffers[year, :])\n",
    "        buffers[year, :], fire_cum_equities[year, :], capital_gains = manage_financials(\n",
    "        desired_equity_buffers=new_buffers,\n",
    "        actual_equity_buffers=buffers[year, :],\n",
    "        _fire_cum_equities=fire_cum_equities[year, :],\n",
    "        _withdrawals=withdrawals[year, :],\n",
    "        _capital_gains=capital_gains,\n",
    "        _inv_tax=inv_tax\n",
    "        )\n",
    "        # Given the stringent conditions with which the buffer is replenished, there can be prolonged lean periods or excessive withdrawals\n",
    "        # Therefore, the buffer can reduce well beyond the value of equivalent years until it is no longer able to support withdrawals\n",
    "        # for a single year.\n",
    "        # In such cases, it is necessary to replenish the buffer for at least one year's withdrawals as long as capital is available.\n",
    "        new_buffers = np.minimum(fire_cum_equities[year, :] + buffers[year, :], np.maximum(buffers[year, :], withdrawals[year, :]))\n",
    "        buffers[year, :], fire_cum_equities[year, :], capital_gains = manage_financials(\n",
    "        desired_equity_buffers=new_buffers,\n",
    "        actual_equity_buffers=buffers[year, :],\n",
    "        _fire_cum_equities=fire_cum_equities[year, :],\n",
    "        _withdrawals=withdrawals[year, :],\n",
    "        _capital_gains=capital_gains,\n",
    "        _inv_tax=inv_tax\n",
    "        )\n",
    "        # The withdrawal is then executed.\n",
    "        # If there is no need to withdraw because the personal balance is positive, the buffer remains as is and the gain is added to the\n",
    "        # investments as if it were a systematic investment plan\n",
    "        # It is also checked if the current year coincides with the year of conversion of the inheritance into investments.\n",
    "        # The amount of the inheritance is then added to the buffers after executing the scheduled withdrawal for the year.\n",
    "        # Otherwise, the normal scheduled withdrawal is performed without additions.\n",
    "        # In principle, if this were to happen in reality, it would be advisable to put the value of the inheritance directly among the investments\n",
    "        # with an average interest higher than that of the buffer\n",
    "        # Finally Rounding errors on investment funds that went default are corrected by setting them to 0.\n",
    "        if year == year_estate2invest_conversion:\n",
    "            if estate_deposit == \"asset\":\n",
    "                fire_cum_equities[year, :] = fire_cum_equities[year, :] + estate_corrected[year,:]\n",
    "            elif estate_deposit == \"buffer\":\n",
    "                buffers[year, :] = buffers[year, :] + estate_corrected[year,:]\n",
    "            else:\n",
    "                buffers[year, :] = buffers[year, :] + estate_corrected[year,:]\n",
    "\n",
    "        buffers[year, :] = np.where(withdrawals[year, :] >= 0, buffers[year, :] - withdrawals[year, :], buffers[year, :])\n",
    "        fire_cum_equities[year, :] = np.where(withdrawals[year, :] >= 0, fire_cum_equities[year, :], fire_cum_equities[year, :] - withdrawals[year, :])\n",
    "        fire_cum_equities[year, :] = np.where(fire_cum_equities[year, :] < withdrawals[year, :] * 1e-6, 0,\n",
    "                              fire_cum_equities[year, :])\n",
    "\n",
    "    for sim_year in range(1, sim_years):\n",
    "        summaryTable.loc[[sim_year], [starting_equity]] = round(((fire_cum_equities[sim_year, :] + buffers[sim_year, :]) >= 0).mean(), 2)\n",
    "\n",
    "plt.figure(figsize=(25, 25))\n",
    "seaborn.set(font_scale=1.3)\n",
    "seaborn.heatmap(summaryTable, cmap=\"Reds\", annot=True, annot_kws={\"size\": 16})"
   ]
  },
  {
   "cell_type": "code",
   "execution_count": 33,
   "metadata": {
    "collapsed": false,
    "jupyter": {
     "outputs_hidden": false
    }
   },
   "outputs": [],
   "source": [
    "# COMPUTATION SECTION\n",
    "# This section conducts a Monte Carlo simulation to evaluate the probability of financial survival across various initial capitals,\n",
    "# ranging from €0 to €1 million, increased in increments of €50,000. Each year of the simulation is analyzed to determine survival\n",
    "# probability based on predefined financial settings.\n",
    "\n",
    "def safe_divide(numerator, denominator, _epsilon=1e-6):\n",
    "    \"\"\"\n",
    "    Performs safe division to avoid dividing by zero.\n",
    "    Replace values of the denominator that are too small with epsilon\n",
    "\n",
    "    Args:\n",
    "    numerator (np.array): Array containing the numerators.\n",
    "    denominator (np.array): Array containing the denominators.\n",
    "    epsilon (float): A small value to prevent division by zero.\n",
    "\n",
    "    Returns:\n",
    "    np.array: Result of the division.\n",
    "    \"\"\"\n",
    "    safe_denominator = np.where(abs(denominator) < _epsilon, np.copysign(_epsilon, denominator), denominator)\n",
    "    return numerator / safe_denominator\n",
    "\n",
    "def manage_financials(desired_equity_buffers, actual_equity_buffers, _fire_cum_equities, _withdrawals, _capital_gains, _inv_tax):\n",
    "    \"\"\"\n",
    "    Manages investments and buffers after calculating taxes on the money rearrangement.\n",
    "\n",
    "    Parameters:\n",
    "    - _year (int): The current year of the simulation.\n",
    "    - desired_equity_buffers (numpy.ndarray): 2D array representing the desired buffer states before adjustments.\n",
    "    - actual_equity_buffers (numpy.ndarray): 2D array representing the actual buffer states after financial operations.\n",
    "    - _fire_cum_equities (numpy.ndarray): 2D array containing cumulative equities for each year and simulation.\n",
    "    - _withdrawals (numpy.ndarray): 2D array containing planned withdrawal amounts for each year and simulation.\n",
    "    - _capital_gains (numpy.ndarray): 1D array containing capital gains for each simulation.\n",
    "    - _inv_tax (float): Tax rate on investments.\n",
    "    - _epsilon (float): Threshold value used to avoid division by zero.\n",
    "    - new_buffers (numpy.ndarray): Precomputed new buffer values for the current year, used to determine withdrawals.\n",
    "\n",
    "    Returns:\n",
    "    - actual_equity_buffers (numpy.ndarray): Updated 2D array with financial buffers after withdrawals and taxes.\n",
    "    - _fire_cum_equities (numpy.ndarray): Updated 2D array with cumulative equities after withdrawals.\n",
    "    - _capital_gains (numpy.ndarray): Updated 1D array of capital gains after tax application.\n",
    "\n",
    "    Description:\n",
    "    The function uses the provided desired equity buffer values to determine the actual amount to withdraw from the investments\n",
    "    account, ensuring it is not negative. This happens whenever the money needed for withdrawals must be transferred in the\n",
    "    buffer/cash account:\n",
    "    - When the asset annual returns are positive\n",
    "    - When there are not enough money available for withdrawals in the current year\n",
    "    - When the buffer must be set at the very beginning with the expected withdrawals amount\n",
    "    It calculates applicable taxes if the withdrawal amount is positive and the savings in the investment account aren't already\n",
    "    depleted and updates the capital gains by reducing them proportionally based on the taxable amount.\n",
    "    Finally, updates the investment equities and buffers with net values after withdrawals and taxes.\n",
    "    \"\"\"\n",
    "    withdrawals_amount = np.maximum(0, desired_equity_buffers - actual_equity_buffers)\n",
    "    _taxes = np.where(_fire_cum_equities * withdrawals_amount > 0,\n",
    "                     withdrawals_amount * (1 - safe_divide(_capital_gains, _fire_cum_equities)) * _inv_tax,\n",
    "                     0)\n",
    "    _capital_gains = np.where(_taxes == 0,\n",
    "                              _capital_gains,\n",
    "                              _capital_gains * (1 - safe_divide(withdrawals_amount, _fire_cum_equities)))\n",
    "    _fire_cum_equities = _fire_cum_equities - withdrawals_amount\n",
    "    actual_equity_buffers = actual_equity_buffers + withdrawals_amount - _taxes\n",
    "    return actual_equity_buffers, _fire_cum_equities, _capital_gains\n",
    "\n",
    "\n",
    "\n",
    "epsilon = 1e-6\n",
    "starting_equities = list(range(0, 1000001, 50000))\n",
    "chances_table = pd.DataFrame(np.zeros((years_job + years_retired, len(starting_equities))),\n",
    "                            columns=starting_equities,\n",
    "                            index=list(range(1, sim_years)))\n",
    "avg_equities_table = chances_table.copy()\n",
    "avg_withdrawals_table = chances_table.copy()\n",
    "\n",
    "\n",
    "\n",
    "withdrawals = np.zeros((sim_years, simulation_num))\n",
    "# The first year each month I withdraw what was declared at work\n",
    "withdrawals[0, :] = withdrawal_job\n",
    "# Create an array of inflation rates up to `sim_years`, with appropriate padding for the first year\n",
    "inflation_rates = np.vstack([np.zeros(simulation_num), inflation[:sim_years-1, :]])\n",
    "# Calculate the compound inflation factor for each year\n",
    "inflation_compound_interest_factor = np.cumprod(1 + inflation_rates, axis=0)\n",
    "# Update withdrawals based on compounded inflation\n",
    "withdrawals[1:years_job+1] = withdrawal_job * inflation_compound_interest_factor[1:years_job+1]\n",
    "withdrawals[years_job+1:sim_years] = withdrawal_retired *  inflation_compound_interest_factor[years_job+1: sim_years]\n",
    "if estate_inflation_correction:\n",
    "    estate_corrected = estate * inflation_compound_interest_factor[1:min(year_estate2invest_conversion + 2, sim_years)]\n",
    "else:\n",
    "    estate_corrected = np.ones((min(year_estate2invest_conversion + 2, sim_years), simulation_num)) * estate\n",
    "\n",
    "\n",
    "for starting_equity in starting_equities:\n",
    "    buffers = np.zeros((sim_years, simulation_num))\n",
    "    fire_cum_equities = np.zeros((sim_years, simulation_num))\n",
    "    capital_gains = np.ones(simulation_num) * starting_equity_fraction * starting_equity\n",
    "\n",
    "    # Simulate the first year separately due to the initialization of buffers\n",
    "    year = 0\n",
    "    fire_cum_equities[0, :] = starting_equity\n",
    "\n",
    "    # Create the equity buffer based on how many equivalent years of spending I want to have in the buffer account without exceeding the threshold of the maximum\n",
    "    # initial capital that I am simulating in the current iteration\n",
    "    # In the first year, I always make withdrawals, so if the years for the equity buffer are set to a value less than 1 by mistake or to put\n",
    "    # 0, they are set to 1\n",
    "    # I then simulate that the money is taken from the investment account and taxed for the amount withdrawn in proportion to the capital gains\n",
    "    # (initially none, but I use the same function always even though the tax calculation in this sense is not needed in the first year so it's as\n",
    "    # if I created the necessary account for the buffer directly and took the equivalent of the buffer from the investment fund in order to have\n",
    "    # a total amount equal to the simulation capital)\n",
    "    new_buffers = np.minimum(fire_cum_equities[year, :] + buffers[year, :],\n",
    "                             withdrawals[year, :] * max(years_equivalent_equity_buffer, 1))\n",
    "    buffers[year, :], fire_cum_equities[year, :], capital_gains = manage_financials(\n",
    "    desired_equity_buffers=new_buffers,\n",
    "    actual_equity_buffers=buffers[year, :],\n",
    "    _fire_cum_equities=fire_cum_equities[year, :],\n",
    "    _withdrawals=withdrawals[year, :],\n",
    "    _capital_gains=capital_gains,\n",
    "    _inv_tax=inv_tax\n",
    "    )\n",
    "    # The withdrawal is then executed.\n",
    "    # If there is no need to withdraw because the personal balance is positive, the buffer remains as is and the gain is added to the\n",
    "    # investments as if it were a systematic investment plan\n",
    "    # Finally Rounding errors on investment funds that went default are corrected by setting them to 0.\n",
    "    buffers[year, :] = np.where(withdrawals[year, :] >= 0,\n",
    "                                buffers[year, :] - withdrawals[year, :],\n",
    "                                buffers[year, :])\n",
    "    fire_cum_equities[year, :] = np.where(withdrawals[year, :] >= 0,\n",
    "                                          fire_cum_equities[year, :],\n",
    "                                          fire_cum_equities[year, :] - withdrawals[year, :])\n",
    "    fire_cum_equities[year, :] = np.where(fire_cum_equities[year, :] < withdrawals[year, :] * epsilon, 0,\n",
    "                          fire_cum_equities[year, :])\n",
    "    # Simulate the remaining years\n",
    "    for year in range(1, sim_years):\n",
    "        # The previous year ends, and the portfolio value is updated based on the simulated returns and losses of the asset\n",
    "        # The previous year ends, and the value of the buffer is increased in line with inflation as is usual with the interest\n",
    "        # of a deposit account or conservative bonds\n",
    "        # Stamp duty is paid\n",
    "        fire_cum_equities[year, :] = fire_cum_equities[year - 1, :] * equity_compound_interest_factor[year, :]\n",
    "        buffers[year, :] = buffers[year, :] * (1 + inflation[year, :])\n",
    "        buffers[year, :] = buffers[year - 1, :] - (fire_cum_equities[year, :] + buffers[year - 1, :]) * stamp_duty\n",
    "        # The buffer, which may have been reduced by withdrawals in the previous cycle, needs to be replenished\n",
    "        # This is done only if there were positive returns that were higher than the previous year\n",
    "        # This caution improves the long-term performance of the portfolio during market crash scenarios\n",
    "        new_buffers = np.where(equity_current_interest_factor[year, :] > np.maximum(equity_current_interest_factor[year - 1, :], 0),\n",
    "                              np.minimum(fire_cum_equities[year, :] + buffers[year, :],\n",
    "                                         withdrawals[year, :] * years_equivalent_equity_buffer),\n",
    "                                         buffers[year, :])\n",
    "        buffers[year, :], fire_cum_equities[year, :], capital_gains = manage_financials(\n",
    "        desired_equity_buffers=new_buffers,\n",
    "        actual_equity_buffers=buffers[year, :],\n",
    "        _fire_cum_equities=fire_cum_equities[year, :],\n",
    "        _withdrawals=withdrawals[year, :],\n",
    "        _capital_gains=capital_gains,\n",
    "        _inv_tax=inv_tax\n",
    "        )\n",
    "        # Given the stringent conditions with which the buffer is replenished, there can be prolonged lean periods or excessive withdrawals\n",
    "        # Therefore, the buffer can reduce well beyond the value of equivalent years until it is no longer able to support withdrawals\n",
    "        # for a single year.\n",
    "        # In such cases, it is necessary to replenish the buffer for at least one year's withdrawals as long as capital is available.\n",
    "        new_buffers = np.minimum(fire_cum_equities[year, :] + buffers[year, :], np.maximum(buffers[year, :], withdrawals[year, :]))\n",
    "        buffers[year, :], fire_cum_equities[year, :], capital_gains = manage_financials(\n",
    "        desired_equity_buffers=new_buffers,\n",
    "        actual_equity_buffers=buffers[year, :],\n",
    "        _fire_cum_equities=fire_cum_equities[year, :],\n",
    "        _withdrawals=withdrawals[year, :],\n",
    "        _capital_gains=capital_gains,\n",
    "        _inv_tax=inv_tax\n",
    "        )\n",
    "        # The withdrawal is then executed.\n",
    "        # If there is no need to withdraw because the personal balance is positive, the buffer remains as is and the gain is added to the\n",
    "        # investments as if it were a systematic investment plan\n",
    "        # It is also checked if the current year coincides with the year of conversion of the inheritance into investments.\n",
    "        # The amount of the inheritance is then added to the buffers after executing the scheduled withdrawal for the year.\n",
    "        # Otherwise, the normal scheduled withdrawal is performed without additions.\n",
    "        # In principle, if this were to happen in reality, it would be advisable to put the value of the inheritance directly among the investments\n",
    "        # with an average interest higher than that of the buffer\n",
    "        # Finally Rounding errors on investment funds that went default are corrected by setting them to 0.\n",
    "        if year == year_estate2invest_conversion:\n",
    "            if estate_deposit == \"asset\":\n",
    "                fire_cum_equities[year, :] = fire_cum_equities[year, :] + estate_corrected[year,:]\n",
    "            elif estate_deposit == \"buffer\":\n",
    "                buffers[year, :] = buffers[year, :] + estate_corrected[year,:]\n",
    "            else:\n",
    "                buffers[year, :] = buffers[year, :] + estate_corrected[year,:]\n",
    "\n",
    "        buffers[year, :] = np.where(withdrawals[year, :] >= 0, buffers[year, :] - withdrawals[year, :], buffers[year, :])\n",
    "        fire_cum_equities[year, :] = np.where(withdrawals[year, :] >= 0, fire_cum_equities[year, :], fire_cum_equities[year, :] - withdrawals[year, :])\n",
    "        fire_cum_equities[year, :] = np.where(fire_cum_equities[year, :] < withdrawals[year, :] * 1e-6, 0,\n",
    "                              fire_cum_equities[year, :])\n",
    "\n",
    "\n",
    "\n",
    "        chances_table.loc[[year], [starting_equity]] = round(((fire_cum_equities[year, :] + buffers[year, :]) >= 0).mean(), 2)\n",
    "        avg_equities_table.loc[year, starting_equity] = np.mean(fire_cum_equities[year, :] + buffers[year, :])\n",
    "        avg_withdrawals_table.loc[year, starting_equity] = np.mean(withdrawals[year, :])\n",
    "\n",
    "\n",
    "plt.figure(figsize=(25, 25))\n",
    "seaborn.set(font_scale=1.3)\n",
    "seaborn.heatmap(chances_table, cmap=\"Reds\", annot=True, annot_kws={\"size\": 16})\n",
    "plt.show(block=False)\n",
    "\n",
    "\n",
    "plt.figure(figsize=(12, 8))\n",
    "for equity in avg_equities_table:\n",
    "    plt.plot(avg_equities_table[equity], label=f'Starting Equity: ${equity}')\n",
    "\n",
    "plt.title('Evolution of Mean Total Equity and Buffer Over Years')\n",
    "plt.xlabel('Year')\n",
    "plt.ylabel('Mean Total Value ($)')\n",
    "plt.legend(title='Starting Equity')\n",
    "plt.grid(True)\n",
    "plt.interactive(True)\n",
    "plt.show(block=False)"
   ]
  },
  {
   "cell_type": "code",
   "execution_count": 15,
   "metadata": {
    "collapsed": false,
    "jupyter": {
     "outputs_hidden": false
    }
   },
   "outputs": [
    {
     "name": "stdout",
     "output_type": "stream",
     "text": [
      "-2701.2211440000005\n"
     ]
    }
   ],
   "source": [
    "\n",
    "print(avg_withdrawals_table.loc[4,100_000])\n",
    "plt.figure(figsize=(12, 8))\n",
    "for equity in avg_withdrawals_table[1:2]:\n",
    "    plt.plot(avg_withdrawals_table[equity], label=f'Starting Equity: ${equity}')\n",
    "\n",
    "plt.title('Evolution of Mean Total Equity and Buffer Over Years')\n",
    "plt.xlabel('Year')\n",
    "plt.ylabel('Mean Total Value ($)')\n",
    "plt.legend(title='Starting Equity')\n",
    "plt.grid(True)\n",
    "plt.interactive(True)\n",
    "plt.show()"
   ]
  },
  {
   "cell_type": "code",
   "execution_count": 16,
   "metadata": {
    "collapsed": false,
    "jupyter": {
     "outputs_hidden": false
    }
   },
   "outputs": [
    {
     "name": "stderr",
     "output_type": "stream",
     "text": [
      "C:\\Users\\dario\\AppData\\Local\\Temp\\ipykernel_424\\2609926584.py:20: UserWarning: Tight layout not applied. tight_layout cannot make axes height small enough to accommodate all axes decorations.\n",
      "  plt.tight_layout()\n"
     ]
    }
   ],
   "source": [
    "\n",
    "# Numero di subplot da creare, uno per ogni equity\n",
    "num_plots = len(avg_equities_table.columns)\n",
    "fig, axes = plt.subplots(num_plots, 1, figsize=(12, num_plots * 4))  # Modifica la dimensione verticale in base al numero di subplot\n",
    "\n",
    "# Verifica se c'è più di un subplot, altrimenti, axes non sarà un array\n",
    "if num_plots == 1:\n",
    "    axes = [axes]\n",
    "\n",
    "# Riempie ogni subplot con i dati corrispondenti\n",
    "for ax, equity in zip(axes, avg_equities_table.columns):\n",
    "    ax.plot(avg_equities_table.index, avg_equities_table[equity], label=f'Starting Equity: ${equity}')\n",
    "    ax.set_title(f'Starting Equity: ${equity}')\n",
    "    ax.set_xlabel('Year')\n",
    "    ax.set_ylabel('Mean Total Value ($)')\n",
    "    ax.legend()\n",
    "    ax.grid(True)\n",
    "\n",
    "\n",
    "# Regola gli spazi tra i subplot per evitare sovrapposizioni\n",
    "plt.tight_layout()\n",
    "plt.show()\n"
   ]
  },
  {
   "cell_type": "code",
   "execution_count": 17,
   "metadata": {
    "collapsed": false,
    "jupyter": {
     "outputs_hidden": false
    }
   },
   "outputs": [
    {
     "name": "stdout",
     "output_type": "stream",
     "text": [
      "172191.79955089718\n"
     ]
    }
   ],
   "source": [
    "\n",
    "print(avg_equities_table.loc[4,100_000])\n",
    "plt.figure(figsize=(12, 8))\n",
    "for equity in avg_equities_table[:-45]:\n",
    "    plt.plot(avg_equities_table[equity], label=f'Starting Equity: ${equity}')\n",
    "\n",
    "plt.title('Evolution of Mean Total Equity and Buffer Over Years')\n",
    "plt.xlabel('Year')\n",
    "plt.ylabel('Mean Total Value ($)')\n",
    "plt.legend(title='Starting Equity')\n",
    "plt.grid(True)\n",
    "plt.show()"
   ]
  },
  {
   "cell_type": "code",
   "execution_count": 18,
   "metadata": {
    "collapsed": false,
    "jupyter": {
     "outputs_hidden": false
    }
   },
   "outputs": [
    {
     "data": {
      "text/plain": "         0             50000         100000        150000        200000   \\\n1   5.154207e+03  6.103351e+04  1.169128e+05  1.727921e+05  2.286714e+05   \n2   8.321665e+03  7.099915e+04  1.336766e+05  1.963541e+05  2.590316e+05   \n3   1.190196e+04  8.178438e+04  1.516668e+05  2.215492e+05  2.914316e+05   \n4   1.599774e+04  9.409477e+04  1.721918e+05  2.502888e+05  3.283792e+05   \n5   2.072789e+04  1.083884e+05  1.960488e+05  2.837007e+05  3.713028e+05   \n6   8.010958e+03  1.075484e+05  2.054790e+05  3.032851e+05  4.010158e+05   \n7  -5.183864e+03  1.064241e+05  2.161270e+05  3.255741e+05  4.349040e+05   \n8  -1.745933e+04  1.051103e+05  2.284832e+05  3.514556e+05  4.742640e+05   \n9  -2.995320e+04  1.021484e+05  2.398269e+05  3.769474e+05  5.138540e+05   \n10 -4.279489e+04  9.859884e+04  2.526575e+05  4.060053e+05  5.590833e+05   \n11 -5.599794e+04  9.430278e+04  2.667574e+05  4.384633e+05  6.098351e+05   \n12 -6.957325e+04  8.847996e+04  2.800338e+05  4.710815e+05  6.617264e+05   \n13 -8.353203e+04  8.224745e+04  2.955113e+05  5.090019e+05  7.220349e+05   \n14 -9.788583e+04  7.529352e+04  3.121161e+05  5.505609e+05  7.885266e+05   \n15 -1.126465e+05  6.775360e+04  3.298186e+05  5.956060e+05  8.609747e+05   \n16 -1.278264e+05  6.002991e+04  3.505944e+05  6.480579e+05  9.453049e+05   \n17 -1.434381e+05  5.164306e+04  3.734535e+05  7.065358e+05  1.039822e+06   \n18 -1.594946e+05  4.252154e+04  3.961930e+05  7.665060e+05  1.137665e+06   \n19 -1.760093e+05  3.372804e+04  4.237928e+05  8.372698e+05  1.252563e+06   \n20 -1.929959e+05  2.441539e+04  4.542573e+05  9.159912e+05  1.380949e+06   \n21 -2.104688e+05  1.421538e+04  4.844297e+05  9.962287e+05  1.513103e+06   \n22 -2.284424e+05  4.353729e+03  5.193967e+05  1.087779e+06  1.663587e+06   \n23 -2.469320e+05 -5.522537e+03  5.601542e+05  1.193383e+06  1.836897e+06   \n24 -2.659529e+05 -1.626175e+04  6.011039e+05  1.301313e+06  2.015278e+06   \n25 -2.855213e+05 -2.665319e+04  6.486156e+05  1.425231e+06  2.219662e+06   \n26 -3.056535e+05 -3.677910e+04  7.047590e+05  1.570067e+06  2.457898e+06   \n27 -3.263666e+05 -4.775986e+04  7.610354e+05  1.717722e+06  2.702354e+06   \n28 -3.476779e+05 -5.791612e+04  8.290708e+05  1.893684e+06  2.992929e+06   \n29 -3.696056e+05 -6.686150e+04  9.110575e+05  2.101033e+06  3.333414e+06   \n30 -3.921681e+05 -7.770881e+04  9.894973e+05  2.306270e+06  3.674087e+06   \n31 -4.153846e+05 -8.481129e+04  1.091382e+06  2.559216e+06  4.088605e+06   \n32 -4.392746e+05 -9.154161e+04  1.205345e+06  2.842738e+06  4.553941e+06   \n33 -4.638585e+05 -9.890248e+04  1.325313e+06  3.144505e+06  5.050495e+06   \n34 -4.891570e+05 -1.075663e+05  1.452397e+06  3.468822e+06  5.587847e+06   \n35 -5.151918e+05 -1.117799e+05  1.611691e+06  3.862666e+06  6.235095e+06   \n36 -5.419849e+05 -1.162182e+05  1.775411e+06  4.273366e+06  6.912872e+06   \n37 -5.695591e+05 -1.202100e+05  1.964861e+06  4.749003e+06  7.698837e+06   \n38 -5.979379e+05 -1.233793e+05  2.174932e+06  5.278557e+06  8.576290e+06   \n39 -6.271455e+05 -1.214674e+05  2.408393e+06  5.857397e+06  9.531225e+06   \n40 -6.572068e+05 -1.173680e+05  2.673521e+06  6.508014e+06  1.060155e+07   \n41 -6.881474e+05 -1.091540e+05  2.986253e+06  7.271362e+06  1.185680e+07   \n42 -7.199938e+05 -1.008214e+05  3.308802e+06  8.069536e+06  1.317489e+07   \n43 -7.527731e+05 -9.342215e+04  3.664056e+06  8.960368e+06  1.465423e+07   \n44 -7.865135e+05 -7.548882e+04  4.093542e+06  1.000400e+07  1.636713e+07   \n45 -8.212438e+05 -5.728344e+04  4.544231e+06  1.109900e+07  1.816825e+07   \n46 -8.569937e+05 -3.096283e+04  5.048778e+06  1.232191e+07  2.018443e+07   \n47 -8.937940e+05  4.724781e+03  5.644773e+06  1.376637e+07  2.255965e+07   \n48 -9.316760e+05  4.010490e+04  6.252834e+06  1.524729e+07  2.499734e+07   \n49 -9.706723e+05  8.099413e+04  6.961810e+06  1.697175e+07  2.783742e+07   \n50 -1.010816e+06  1.440907e+05  7.829883e+06  1.904132e+07  3.122757e+07   \n51 -1.052143e+06  2.104610e+05  8.747500e+06  2.123435e+07  3.481776e+07   \n52 -1.094687e+06  2.777679e+05  9.720657e+06  2.359400e+07  3.870593e+07   \n53 -1.138486e+06  3.543292e+05  1.082439e+07  2.627095e+07  4.312149e+07   \n54 -1.183576e+06  4.470084e+05  1.204862e+07  2.924078e+07  4.802316e+07   \n55 -1.229998e+06  5.744229e+05  1.351116e+07  3.272408e+07  5.373822e+07   \n56 -1.277790e+06  7.124124e+05  1.513463e+07  3.664627e+07  6.019368e+07   \n57 -1.326994e+06  8.501222e+05  1.676913e+07  4.057490e+07  6.666678e+07   \n58 -1.377653e+06  1.032245e+06  1.871172e+07  4.519842e+07  7.424783e+07   \n59 -1.429810e+06  1.216326e+06  2.087108e+07  5.040866e+07  8.283639e+07   \n60 -1.483510e+06  1.408485e+06  2.320585e+07  5.602767e+07  9.209455e+07   \n\n         250000        300000        350000        400000        450000   \\\n1   2.845507e+05  3.404300e+05  3.963093e+05  4.521887e+05  5.080680e+05   \n2   3.217091e+05  3.843866e+05  4.470641e+05  5.097413e+05  5.724166e+05   \n3   3.613136e+05  4.311881e+05  5.010508e+05  5.709014e+05  6.407485e+05   \n4   4.064461e+05  4.844820e+05  5.625034e+05  6.405092e+05  7.185105e+05   \n5   4.588504e+05  5.463619e+05  6.338547e+05  7.213279e+05  8.087937e+05   \n6   4.986763e+05  5.962846e+05  6.938637e+05  7.914152e+05  8.889556e+05   \n7   5.441413e+05  6.533127e+05  7.624473e+05  8.715486e+05  9.806356e+05   \n8   5.969545e+05  7.195638e+05  8.421274e+05  9.646511e+05  1.087157e+06   \n9   6.506162e+05  7.872810e+05  9.238911e+05  1.060454e+06  1.196995e+06   \n10  7.119869e+05  8.647754e+05  1.017499e+06  1.170167e+06  1.322810e+06   \n11  7.809994e+05  9.520285e+05  1.122981e+06  1.293869e+06  1.464728e+06   \n12  8.521275e+05  1.042372e+06  1.232528e+06  1.422611e+06  1.612658e+06   \n13  9.347816e+05  1.147348e+06  1.359811e+06  1.572191e+06  1.784530e+06   \n14  1.026160e+06  1.263586e+06  1.500894e+06  1.738106e+06  1.975271e+06   \n15  1.125967e+06  1.390720e+06  1.655339e+06  1.919849e+06  2.184306e+06   \n16  1.242137e+06  1.538697e+06  1.835101e+06  2.131382e+06  2.427601e+06   \n17  1.372678e+06  1.705230e+06  2.037604e+06  2.369837e+06  2.702000e+06   \n18  1.508416e+06  1.878832e+06  2.249048e+06  2.619105e+06  2.989083e+06   \n19  1.667529e+06  2.082136e+06  2.496521e+06  2.910725e+06  3.324839e+06   \n20  1.845750e+06  2.310185e+06  2.774377e+06  3.238366e+06  3.702253e+06   \n21  2.030093e+06  2.546734e+06  3.063115e+06  3.579273e+06  4.095318e+06   \n22  2.239930e+06  2.815964e+06  3.391725e+06  3.967240e+06  4.542629e+06   \n23  2.481526e+06  3.125913e+06  3.770019e+06  4.413852e+06  5.057546e+06   \n24  2.731153e+06  3.446900e+06  4.162370e+06  4.877547e+06  5.592573e+06   \n25  3.016898e+06  3.814162e+06  4.611174e+06  5.407869e+06  6.204400e+06   \n26  3.349899e+06  4.242181e+06  5.134273e+06  6.026031e+06  6.917611e+06   \n27  3.692725e+06  4.683738e+06  5.674649e+06  6.665231e+06  7.655627e+06   \n28  4.099854e+06  5.207903e+06  6.315973e+06  7.423727e+06  8.531294e+06   \n29  4.575688e+06  5.819654e+06  7.063808e+06  8.307677e+06  9.551359e+06   \n30  5.054501e+06  6.437305e+06  7.820494e+06  9.203435e+06  1.058620e+07   \n31  5.633685e+06  7.181995e+06  8.730949e+06  1.027973e+07  1.182836e+07   \n32  6.284762e+06  8.020040e+06  9.756377e+06  1.149267e+07  1.322884e+07   \n33  6.980299e+06  8.915740e+06  1.085265e+07  1.278965e+07  1.472656e+07   \n34  7.735623e+06  9.890520e+06  1.204738e+07  1.420447e+07  1.636155e+07   \n35  8.642144e+06  1.105803e+07  1.347649e+07  1.589540e+07  1.831438e+07   \n36  9.593759e+06  1.228577e+07  1.498105e+07  1.767706e+07  2.037329e+07   \n37  1.069794e+07  1.371051e+07  1.672730e+07  1.974510e+07  2.276322e+07   \n38  1.193257e+07  1.530531e+07  1.868332e+07  2.206266e+07  2.544250e+07   \n39  1.327349e+07  1.703545e+07  2.080383e+07  2.457391e+07  2.834476e+07   \n40  1.477504e+07  1.897200e+07  2.317671e+07  2.738368e+07  3.159171e+07   \n41  1.653695e+07  2.124559e+07  2.596339e+07  3.068405e+07  3.540614e+07   \n42  1.839055e+07  2.363957e+07  2.889923e+07  3.416235e+07  3.942735e+07   \n43  2.047668e+07  2.633784e+07  3.221158e+07  3.808961e+07  4.397005e+07   \n44  2.288031e+07  2.943837e+07  3.601141e+07  4.258958e+07  4.917072e+07   \n45  2.540914e+07  3.270273e+07  4.001399e+07  4.733150e+07  5.465261e+07   \n46  2.824405e+07  3.636539e+07  4.450791e+07  5.265789e+07  6.081228e+07   \n47  3.157916e+07  4.067165e+07  4.978896e+07  5.891543e+07  6.804730e+07   \n48  3.500386e+07  4.509540e+07  5.521547e+07  6.534602e+07  7.548280e+07   \n49  3.899109e+07  5.023994e+07  6.152178e+07  7.281585e+07  8.411723e+07   \n50  4.374236e+07  5.636628e+07  6.902830e+07  8.170441e+07  9.438906e+07   \n51  4.877287e+07  6.285262e+07  7.697710e+07  9.111806e+07  1.052687e+08   \n52  5.423535e+07  6.990825e+07  8.563220e+07  1.013749e+08  1.171290e+08   \n53  6.044857e+07  7.793981e+07  9.548932e+07  1.130607e+08  1.306454e+08   \n54  6.734055e+07  8.684139e+07  1.064086e+08  1.260005e+08  1.456076e+08   \n55  7.536055e+07  9.718825e+07  1.190923e+08  1.410243e+08  1.629733e+08   \n56  8.443536e+07  1.089145e+08  1.334825e+08  1.580827e+08  1.827023e+08   \n57  9.354540e+07  1.206940e+08  1.479433e+08  1.752292e+08  2.025371e+08   \n58  1.041789e+08  1.344164e+08  1.647683e+08  1.951624e+08  2.255828e+08   \n59  1.162651e+08  1.500431e+08  1.839505e+08  2.179068e+08  2.518934e+08   \n60  1.292912e+08  1.668833e+08  2.046200e+08  2.424126e+08  2.802390e+08   \n\n         500000        550000        600000        650000        700000   \\\n1   5.639473e+05  6.198266e+05  6.757059e+05  7.315852e+05  7.874645e+05   \n2   6.350875e+05  6.977537e+05  7.604165e+05  8.230789e+05  8.857413e+05   \n3   7.105908e+05  7.804292e+05  8.502609e+05  9.200911e+05  9.899214e+05   \n4   7.965053e+05  8.744940e+05  9.524734e+05  1.030450e+06  1.108428e+06   \n5   8.962508e+05  9.837010e+05  1.071141e+06  1.158578e+06  1.246015e+06   \n6   9.864846e+05  1.084005e+06  1.181512e+06  1.279016e+06  1.376519e+06   \n7   1.089709e+06  1.198771e+06  1.307818e+06  1.416861e+06  1.525903e+06   \n8   1.209646e+06  1.332122e+06  1.454580e+06  1.577033e+06  1.699484e+06   \n9   1.333517e+06  1.470022e+06  1.606508e+06  1.742987e+06  1.879464e+06   \n10  1.475429e+06  1.628029e+06  1.780607e+06  1.933176e+06  2.085743e+06   \n11  1.635558e+06  1.806367e+06  1.977150e+06  2.147923e+06  2.318693e+06   \n12  1.802674e+06  1.992665e+06  2.182626e+06  2.372577e+06  2.562523e+06   \n13  1.996832e+06  2.209106e+06  2.421346e+06  2.633574e+06  2.845796e+06   \n14  2.212395e+06  2.449486e+06  2.686538e+06  2.923576e+06  3.160609e+06   \n15  2.448715e+06  2.713087e+06  2.977417e+06  3.241729e+06  3.506035e+06   \n16  2.723766e+06  3.019890e+06  3.315964e+06  3.612020e+06  3.908067e+06   \n17  3.034102e+06  3.366156e+06  3.698155e+06  4.030132e+06  4.362099e+06   \n18  3.358992e+06  3.728846e+06  4.098639e+06  4.468408e+06  4.838165e+06   \n19  3.738874e+06  4.152849e+06  4.566754e+06  4.980631e+06  5.394496e+06   \n20  4.166051e+06  4.629780e+06  5.093431e+06  5.557051e+06  6.020657e+06   \n21  4.611262e+06  5.127129e+06  5.642909e+06  6.158654e+06  6.674383e+06   \n22  5.117907e+06  5.693097e+06  6.268191e+06  6.843244e+06  7.418279e+06   \n23  5.701115e+06  6.344586e+06  6.987948e+06  7.631264e+06  8.274560e+06   \n24  6.307462e+06  7.022242e+06  7.736901e+06  8.451509e+06  9.166094e+06   \n25  7.000778e+06  7.797036e+06  8.593158e+06  9.389224e+06  1.018526e+07   \n26  7.809024e+06  8.700303e+06  9.591430e+06  1.048249e+07  1.137353e+07   \n27  8.645845e+06  9.635917e+06  1.062582e+07  1.161565e+07  1.260545e+07   \n28  9.638674e+06  1.074590e+07  1.185293e+07  1.295988e+07  1.406680e+07   \n29  1.079484e+07  1.203815e+07  1.328125e+07  1.452426e+07  1.576724e+07   \n30  1.196876e+07  1.335114e+07  1.473329e+07  1.611534e+07  1.749734e+07   \n31  1.337679e+07  1.492502e+07  1.647300e+07  1.802087e+07  1.956869e+07   \n32  1.496480e+07  1.670055e+07  1.843602e+07  2.017138e+07  2.190668e+07   \n33  1.666326e+07  1.859973e+07  2.053592e+07  2.247197e+07  2.440796e+07   \n34  1.851842e+07  2.067507e+07  2.283140e+07  2.498758e+07  2.714369e+07   \n35  2.073315e+07  2.315168e+07  2.556986e+07  2.798788e+07  3.040582e+07   \n36  2.306930e+07  2.576505e+07  2.846041e+07  3.115561e+07  3.385072e+07   \n37  2.578114e+07  2.879878e+07  3.181599e+07  3.483303e+07  3.784998e+07   \n38  2.882218e+07  3.220157e+07  3.558049e+07  3.895922e+07  4.233787e+07   \n39  3.211546e+07  3.588586e+07  3.965577e+07  4.342548e+07  4.719510e+07   \n40  3.579965e+07  4.000727e+07  4.421436e+07  4.842125e+07  5.262803e+07   \n41  4.012824e+07  4.485004e+07  4.957125e+07  5.429228e+07  5.901320e+07   \n42  4.469249e+07  4.995734e+07  5.522154e+07  6.048557e+07  6.574946e+07   \n43  4.985077e+07  5.573124e+07  6.161103e+07  6.749068e+07  7.337020e+07   \n44  5.575226e+07  6.233362e+07  6.891422e+07  7.549472e+07  8.207510e+07   \n45  6.197435e+07  6.929597e+07  7.661678e+07  8.393755e+07  9.125820e+07   \n46  6.896760e+07  7.712286e+07  8.527718e+07  9.343146e+07  1.015856e+08   \n47  7.718037e+07  8.631348e+07  9.544557e+07  1.045776e+08  1.137096e+08   \n48  8.562100e+07  9.575926e+07  1.058964e+08  1.160335e+08  1.261706e+08   \n49  9.542033e+07  1.067236e+08  1.180256e+08  1.293278e+08  1.406299e+08   \n50  1.070760e+08  1.197632e+08  1.324491e+08  1.451351e+08  1.578211e+08   \n51  1.194220e+08  1.335760e+08  1.477284e+08  1.618811e+08  1.760338e+08   \n52  1.328866e+08  1.486451e+08  1.644020e+08  1.801591e+08  1.959163e+08   \n53  1.482344e+08  1.658244e+08  1.834128e+08  2.010013e+08  2.185900e+08   \n54  1.652199e+08  1.848335e+08  2.044452e+08  2.240571e+08  2.436690e+08   \n55  1.849285e+08  2.068854e+08  2.288404e+08  2.507956e+08  2.727510e+08   \n56  2.073292e+08  2.319580e+08  2.565849e+08  2.812118e+08  3.058389e+08   \n57  2.298536e+08  2.571726e+08  2.844895e+08  3.118066e+08  3.391239e+08   \n58  2.560131e+08  2.864467e+08  3.168783e+08  3.473101e+08  3.777423e+08   \n59  2.858920e+08  3.198947e+08  3.538949e+08  3.878953e+08  4.218960e+08   \n60  3.180794e+08  3.559249e+08  3.937680e+08  4.316117e+08  4.694558e+08   \n\n         750000        800000        850000        900000        950000   \\\n1   8.433438e+05  8.992230e+05  9.551022e+05  1.010981e+06  1.066860e+06   \n2   9.484040e+05  1.011067e+06  1.073730e+06  1.136394e+06  1.199057e+06   \n3   1.059752e+06  1.129581e+06  1.199410e+06  1.269238e+06  1.339065e+06   \n4   1.186405e+06  1.264381e+06  1.342357e+06  1.420332e+06  1.498305e+06   \n5   1.333452e+06  1.420889e+06  1.508325e+06  1.595760e+06  1.683193e+06   \n6   1.474022e+06  1.571524e+06  1.669024e+06  1.766523e+06  1.864021e+06   \n7   1.634944e+06  1.743983e+06  1.853021e+06  1.962057e+06  2.071091e+06   \n8   1.821934e+06  1.944382e+06  2.066828e+06  2.189271e+06  2.311712e+06   \n9   2.015938e+06  2.152411e+06  2.288881e+06  2.425348e+06  2.561812e+06   \n10  2.238307e+06  2.390868e+06  2.543426e+06  2.695981e+06  2.848533e+06   \n11  2.489460e+06  2.660223e+06  2.830983e+06  3.001738e+06  3.172490e+06   \n12  2.752465e+06  2.942403e+06  3.132337e+06  3.322266e+06  3.512191e+06   \n13  3.058014e+06  3.270227e+06  3.482435e+06  3.694638e+06  3.906835e+06   \n14  3.397635e+06  3.634656e+06  3.871672e+06  4.108682e+06  4.345685e+06   \n15  3.770334e+06  4.034627e+06  4.298914e+06  4.563194e+06  4.827467e+06   \n16  4.204107e+06  4.500140e+06  4.796166e+06  5.092183e+06  5.388194e+06   \n17  4.694058e+06  5.026009e+06  5.357951e+06  5.689885e+06  6.021810e+06   \n18  5.207913e+06  5.577652e+06  5.947380e+06  6.317099e+06  6.686809e+06   \n19  5.808349e+06  6.222193e+06  6.636025e+06  7.049846e+06  7.463656e+06   \n20  6.484250e+06  6.947831e+06  7.411399e+06  7.874955e+06  8.338499e+06   \n21  7.190097e+06  7.705798e+06  8.221485e+06  8.737157e+06  9.252816e+06   \n22  7.993298e+06  8.568302e+06  9.143290e+06  9.718262e+06  1.029322e+07   \n23  8.917838e+06  9.561099e+06  1.020434e+07  1.084757e+07  1.149078e+07   \n24  9.880658e+06  1.059520e+07  1.130973e+07  1.202424e+07  1.273872e+07   \n25  1.098128e+07  1.177728e+07  1.257325e+07  1.336920e+07  1.416513e+07   \n26  1.226454e+07  1.315552e+07  1.404648e+07  1.493741e+07  1.582832e+07   \n27  1.359522e+07  1.458497e+07  1.557468e+07  1.656437e+07  1.755403e+07   \n28  1.517369e+07  1.628054e+07  1.738737e+07  1.849416e+07  1.960092e+07   \n29  1.701017e+07  1.825307e+07  1.949594e+07  2.073877e+07  2.198157e+07   \n30  1.887931e+07  2.026123e+07  2.164312e+07  2.302497e+07  2.440678e+07   \n31  2.111646e+07  2.266419e+07  2.421188e+07  2.575953e+07  2.730713e+07   \n32  2.364193e+07  2.537713e+07  2.711228e+07  2.884739e+07  3.058244e+07   \n33  2.634390e+07  2.827978e+07  3.021561e+07  3.215138e+07  3.408710e+07   \n34  2.929974e+07  3.145574e+07  3.361167e+07  3.576753e+07  3.792334e+07   \n35  3.282370e+07  3.524151e+07  3.765925e+07  4.007692e+07  4.249453e+07   \n36  3.654577e+07  3.924074e+07  4.193563e+07  4.463045e+07  4.732519e+07   \n37  4.086685e+07  4.388365e+07  4.690035e+07  4.991697e+07  5.293350e+07   \n38  4.571642e+07  4.909489e+07  5.247325e+07  5.585152e+07  5.922970e+07   \n39  5.096463e+07  5.473406e+07  5.850338e+07  6.227259e+07  6.604170e+07   \n40  5.683472e+07  6.104129e+07  6.524774e+07  6.945407e+07  7.366029e+07   \n41  6.373401e+07  6.845471e+07  7.317526e+07  7.789568e+07  8.261597e+07   \n42  7.101326e+07  7.627694e+07  8.154045e+07  8.680382e+07  9.206704e+07   \n43  7.924961e+07  8.512888e+07  9.100799e+07  9.688693e+07  1.027657e+08   \n44  8.865537e+07  9.523549e+07  1.018154e+08  1.083952e+08  1.149747e+08   \n45  9.857872e+07  1.058991e+08  1.132193e+08  1.205392e+08  1.278590e+08   \n46  1.097397e+08  1.178936e+08  1.260472e+08  1.342006e+08  1.423538e+08   \n47  1.228414e+08  1.319731e+08  1.411045e+08  1.502356e+08  1.593665e+08   \n48  1.363075e+08  1.464443e+08  1.565808e+08  1.667170e+08  1.768529e+08   \n49  1.519318e+08  1.632336e+08  1.745351e+08  1.858363e+08  1.971372e+08   \n50  1.705069e+08  1.831925e+08  1.958779e+08  2.085629e+08  2.212476e+08   \n51  1.901864e+08  2.043388e+08  2.184908e+08  2.326424e+08  2.467937e+08   \n52  2.116733e+08  2.274302e+08  2.431867e+08  2.589428e+08  2.746985e+08   \n53  2.361786e+08  2.537670e+08  2.713550e+08  2.889425e+08  3.065296e+08   \n54  2.632809e+08  2.828926e+08  3.025039e+08  3.221147e+08  3.417250e+08   \n55  2.947064e+08  3.166616e+08  3.386162e+08  3.605704e+08  3.825240e+08   \n56  3.304660e+08  3.550929e+08  3.797193e+08  4.043451e+08  4.289703e+08   \n57  3.664412e+08  3.937583e+08  4.210749e+08  4.483907e+08  4.757060e+08   \n58  4.081745e+08  4.386064e+08  4.690377e+08  4.994683e+08  5.298982e+08   \n59  4.558969e+08  4.898974e+08  5.238973e+08  5.578964e+08  5.918946e+08   \n60  5.073002e+08  5.451443e+08  5.829877e+08  6.208300e+08  6.586716e+08   \n\n         1000000  \n1   1.122738e+06  \n2   1.261718e+06  \n3   1.408890e+06  \n4   1.576276e+06  \n5   1.770624e+06  \n6   1.961515e+06  \n7   2.180121e+06  \n8   2.434149e+06  \n9   2.698272e+06  \n10  3.001079e+06  \n11  3.343236e+06  \n12  3.702109e+06  \n13  4.119026e+06  \n14  4.582681e+06  \n15  5.091730e+06  \n16  5.684193e+06  \n17  6.353722e+06  \n18  7.056504e+06  \n19  7.877451e+06  \n20  8.802025e+06  \n21  9.768455e+06  \n22  1.086815e+07  \n23  1.213396e+07  \n24  1.345318e+07  \n25  1.496103e+07  \n26  1.671920e+07  \n27  1.854365e+07  \n28  2.070764e+07  \n29  2.322432e+07  \n30  2.578854e+07  \n31  2.885467e+07  \n32  3.231743e+07  \n33  3.602274e+07  \n34  4.007907e+07  \n35  4.491204e+07  \n36  5.001983e+07  \n37  5.594992e+07  \n38  6.260775e+07  \n39  6.981067e+07  \n40  7.786635e+07  \n41  8.733608e+07  \n42  9.733006e+07  \n43  1.086443e+08  \n44  1.215541e+08  \n45  1.351785e+08  \n46  1.505067e+08  \n47  1.684971e+08  \n48  1.869885e+08  \n49  2.084377e+08  \n50  2.339318e+08  \n51  2.609445e+08  \n52  2.904536e+08  \n53  3.241161e+08  \n54  3.613345e+08  \n55  4.044768e+08  \n56  4.535946e+08  \n57  5.030202e+08  \n58  5.603270e+08  \n59  6.258917e+08  \n60  6.965118e+08  ",
      "text/html": "<div>\n<style scoped>\n    .dataframe tbody tr th:only-of-type {\n        vertical-align: middle;\n    }\n\n    .dataframe tbody tr th {\n        vertical-align: top;\n    }\n\n    .dataframe thead th {\n        text-align: right;\n    }\n</style>\n<table border=\"1\" class=\"dataframe\">\n  <thead>\n    <tr style=\"text-align: right;\">\n      <th></th>\n      <th>0</th>\n      <th>50000</th>\n      <th>100000</th>\n      <th>150000</th>\n      <th>200000</th>\n      <th>250000</th>\n      <th>300000</th>\n      <th>350000</th>\n      <th>400000</th>\n      <th>450000</th>\n      <th>500000</th>\n      <th>550000</th>\n      <th>600000</th>\n      <th>650000</th>\n      <th>700000</th>\n      <th>750000</th>\n      <th>800000</th>\n      <th>850000</th>\n      <th>900000</th>\n      <th>950000</th>\n      <th>1000000</th>\n    </tr>\n  </thead>\n  <tbody>\n    <tr>\n      <th>1</th>\n      <td>5.154207e+03</td>\n      <td>6.103351e+04</td>\n      <td>1.169128e+05</td>\n      <td>1.727921e+05</td>\n      <td>2.286714e+05</td>\n      <td>2.845507e+05</td>\n      <td>3.404300e+05</td>\n      <td>3.963093e+05</td>\n      <td>4.521887e+05</td>\n      <td>5.080680e+05</td>\n      <td>5.639473e+05</td>\n      <td>6.198266e+05</td>\n      <td>6.757059e+05</td>\n      <td>7.315852e+05</td>\n      <td>7.874645e+05</td>\n      <td>8.433438e+05</td>\n      <td>8.992230e+05</td>\n      <td>9.551022e+05</td>\n      <td>1.010981e+06</td>\n      <td>1.066860e+06</td>\n      <td>1.122738e+06</td>\n    </tr>\n    <tr>\n      <th>2</th>\n      <td>8.321665e+03</td>\n      <td>7.099915e+04</td>\n      <td>1.336766e+05</td>\n      <td>1.963541e+05</td>\n      <td>2.590316e+05</td>\n      <td>3.217091e+05</td>\n      <td>3.843866e+05</td>\n      <td>4.470641e+05</td>\n      <td>5.097413e+05</td>\n      <td>5.724166e+05</td>\n      <td>6.350875e+05</td>\n      <td>6.977537e+05</td>\n      <td>7.604165e+05</td>\n      <td>8.230789e+05</td>\n      <td>8.857413e+05</td>\n      <td>9.484040e+05</td>\n      <td>1.011067e+06</td>\n      <td>1.073730e+06</td>\n      <td>1.136394e+06</td>\n      <td>1.199057e+06</td>\n      <td>1.261718e+06</td>\n    </tr>\n    <tr>\n      <th>3</th>\n      <td>1.190196e+04</td>\n      <td>8.178438e+04</td>\n      <td>1.516668e+05</td>\n      <td>2.215492e+05</td>\n      <td>2.914316e+05</td>\n      <td>3.613136e+05</td>\n      <td>4.311881e+05</td>\n      <td>5.010508e+05</td>\n      <td>5.709014e+05</td>\n      <td>6.407485e+05</td>\n      <td>7.105908e+05</td>\n      <td>7.804292e+05</td>\n      <td>8.502609e+05</td>\n      <td>9.200911e+05</td>\n      <td>9.899214e+05</td>\n      <td>1.059752e+06</td>\n      <td>1.129581e+06</td>\n      <td>1.199410e+06</td>\n      <td>1.269238e+06</td>\n      <td>1.339065e+06</td>\n      <td>1.408890e+06</td>\n    </tr>\n    <tr>\n      <th>4</th>\n      <td>1.599774e+04</td>\n      <td>9.409477e+04</td>\n      <td>1.721918e+05</td>\n      <td>2.502888e+05</td>\n      <td>3.283792e+05</td>\n      <td>4.064461e+05</td>\n      <td>4.844820e+05</td>\n      <td>5.625034e+05</td>\n      <td>6.405092e+05</td>\n      <td>7.185105e+05</td>\n      <td>7.965053e+05</td>\n      <td>8.744940e+05</td>\n      <td>9.524734e+05</td>\n      <td>1.030450e+06</td>\n      <td>1.108428e+06</td>\n      <td>1.186405e+06</td>\n      <td>1.264381e+06</td>\n      <td>1.342357e+06</td>\n      <td>1.420332e+06</td>\n      <td>1.498305e+06</td>\n      <td>1.576276e+06</td>\n    </tr>\n    <tr>\n      <th>5</th>\n      <td>2.072789e+04</td>\n      <td>1.083884e+05</td>\n      <td>1.960488e+05</td>\n      <td>2.837007e+05</td>\n      <td>3.713028e+05</td>\n      <td>4.588504e+05</td>\n      <td>5.463619e+05</td>\n      <td>6.338547e+05</td>\n      <td>7.213279e+05</td>\n      <td>8.087937e+05</td>\n      <td>8.962508e+05</td>\n      <td>9.837010e+05</td>\n      <td>1.071141e+06</td>\n      <td>1.158578e+06</td>\n      <td>1.246015e+06</td>\n      <td>1.333452e+06</td>\n      <td>1.420889e+06</td>\n      <td>1.508325e+06</td>\n      <td>1.595760e+06</td>\n      <td>1.683193e+06</td>\n      <td>1.770624e+06</td>\n    </tr>\n    <tr>\n      <th>6</th>\n      <td>8.010958e+03</td>\n      <td>1.075484e+05</td>\n      <td>2.054790e+05</td>\n      <td>3.032851e+05</td>\n      <td>4.010158e+05</td>\n      <td>4.986763e+05</td>\n      <td>5.962846e+05</td>\n      <td>6.938637e+05</td>\n      <td>7.914152e+05</td>\n      <td>8.889556e+05</td>\n      <td>9.864846e+05</td>\n      <td>1.084005e+06</td>\n      <td>1.181512e+06</td>\n      <td>1.279016e+06</td>\n      <td>1.376519e+06</td>\n      <td>1.474022e+06</td>\n      <td>1.571524e+06</td>\n      <td>1.669024e+06</td>\n      <td>1.766523e+06</td>\n      <td>1.864021e+06</td>\n      <td>1.961515e+06</td>\n    </tr>\n    <tr>\n      <th>7</th>\n      <td>-5.183864e+03</td>\n      <td>1.064241e+05</td>\n      <td>2.161270e+05</td>\n      <td>3.255741e+05</td>\n      <td>4.349040e+05</td>\n      <td>5.441413e+05</td>\n      <td>6.533127e+05</td>\n      <td>7.624473e+05</td>\n      <td>8.715486e+05</td>\n      <td>9.806356e+05</td>\n      <td>1.089709e+06</td>\n      <td>1.198771e+06</td>\n      <td>1.307818e+06</td>\n      <td>1.416861e+06</td>\n      <td>1.525903e+06</td>\n      <td>1.634944e+06</td>\n      <td>1.743983e+06</td>\n      <td>1.853021e+06</td>\n      <td>1.962057e+06</td>\n      <td>2.071091e+06</td>\n      <td>2.180121e+06</td>\n    </tr>\n    <tr>\n      <th>8</th>\n      <td>-1.745933e+04</td>\n      <td>1.051103e+05</td>\n      <td>2.284832e+05</td>\n      <td>3.514556e+05</td>\n      <td>4.742640e+05</td>\n      <td>5.969545e+05</td>\n      <td>7.195638e+05</td>\n      <td>8.421274e+05</td>\n      <td>9.646511e+05</td>\n      <td>1.087157e+06</td>\n      <td>1.209646e+06</td>\n      <td>1.332122e+06</td>\n      <td>1.454580e+06</td>\n      <td>1.577033e+06</td>\n      <td>1.699484e+06</td>\n      <td>1.821934e+06</td>\n      <td>1.944382e+06</td>\n      <td>2.066828e+06</td>\n      <td>2.189271e+06</td>\n      <td>2.311712e+06</td>\n      <td>2.434149e+06</td>\n    </tr>\n    <tr>\n      <th>9</th>\n      <td>-2.995320e+04</td>\n      <td>1.021484e+05</td>\n      <td>2.398269e+05</td>\n      <td>3.769474e+05</td>\n      <td>5.138540e+05</td>\n      <td>6.506162e+05</td>\n      <td>7.872810e+05</td>\n      <td>9.238911e+05</td>\n      <td>1.060454e+06</td>\n      <td>1.196995e+06</td>\n      <td>1.333517e+06</td>\n      <td>1.470022e+06</td>\n      <td>1.606508e+06</td>\n      <td>1.742987e+06</td>\n      <td>1.879464e+06</td>\n      <td>2.015938e+06</td>\n      <td>2.152411e+06</td>\n      <td>2.288881e+06</td>\n      <td>2.425348e+06</td>\n      <td>2.561812e+06</td>\n      <td>2.698272e+06</td>\n    </tr>\n    <tr>\n      <th>10</th>\n      <td>-4.279489e+04</td>\n      <td>9.859884e+04</td>\n      <td>2.526575e+05</td>\n      <td>4.060053e+05</td>\n      <td>5.590833e+05</td>\n      <td>7.119869e+05</td>\n      <td>8.647754e+05</td>\n      <td>1.017499e+06</td>\n      <td>1.170167e+06</td>\n      <td>1.322810e+06</td>\n      <td>1.475429e+06</td>\n      <td>1.628029e+06</td>\n      <td>1.780607e+06</td>\n      <td>1.933176e+06</td>\n      <td>2.085743e+06</td>\n      <td>2.238307e+06</td>\n      <td>2.390868e+06</td>\n      <td>2.543426e+06</td>\n      <td>2.695981e+06</td>\n      <td>2.848533e+06</td>\n      <td>3.001079e+06</td>\n    </tr>\n    <tr>\n      <th>11</th>\n      <td>-5.599794e+04</td>\n      <td>9.430278e+04</td>\n      <td>2.667574e+05</td>\n      <td>4.384633e+05</td>\n      <td>6.098351e+05</td>\n      <td>7.809994e+05</td>\n      <td>9.520285e+05</td>\n      <td>1.122981e+06</td>\n      <td>1.293869e+06</td>\n      <td>1.464728e+06</td>\n      <td>1.635558e+06</td>\n      <td>1.806367e+06</td>\n      <td>1.977150e+06</td>\n      <td>2.147923e+06</td>\n      <td>2.318693e+06</td>\n      <td>2.489460e+06</td>\n      <td>2.660223e+06</td>\n      <td>2.830983e+06</td>\n      <td>3.001738e+06</td>\n      <td>3.172490e+06</td>\n      <td>3.343236e+06</td>\n    </tr>\n    <tr>\n      <th>12</th>\n      <td>-6.957325e+04</td>\n      <td>8.847996e+04</td>\n      <td>2.800338e+05</td>\n      <td>4.710815e+05</td>\n      <td>6.617264e+05</td>\n      <td>8.521275e+05</td>\n      <td>1.042372e+06</td>\n      <td>1.232528e+06</td>\n      <td>1.422611e+06</td>\n      <td>1.612658e+06</td>\n      <td>1.802674e+06</td>\n      <td>1.992665e+06</td>\n      <td>2.182626e+06</td>\n      <td>2.372577e+06</td>\n      <td>2.562523e+06</td>\n      <td>2.752465e+06</td>\n      <td>2.942403e+06</td>\n      <td>3.132337e+06</td>\n      <td>3.322266e+06</td>\n      <td>3.512191e+06</td>\n      <td>3.702109e+06</td>\n    </tr>\n    <tr>\n      <th>13</th>\n      <td>-8.353203e+04</td>\n      <td>8.224745e+04</td>\n      <td>2.955113e+05</td>\n      <td>5.090019e+05</td>\n      <td>7.220349e+05</td>\n      <td>9.347816e+05</td>\n      <td>1.147348e+06</td>\n      <td>1.359811e+06</td>\n      <td>1.572191e+06</td>\n      <td>1.784530e+06</td>\n      <td>1.996832e+06</td>\n      <td>2.209106e+06</td>\n      <td>2.421346e+06</td>\n      <td>2.633574e+06</td>\n      <td>2.845796e+06</td>\n      <td>3.058014e+06</td>\n      <td>3.270227e+06</td>\n      <td>3.482435e+06</td>\n      <td>3.694638e+06</td>\n      <td>3.906835e+06</td>\n      <td>4.119026e+06</td>\n    </tr>\n    <tr>\n      <th>14</th>\n      <td>-9.788583e+04</td>\n      <td>7.529352e+04</td>\n      <td>3.121161e+05</td>\n      <td>5.505609e+05</td>\n      <td>7.885266e+05</td>\n      <td>1.026160e+06</td>\n      <td>1.263586e+06</td>\n      <td>1.500894e+06</td>\n      <td>1.738106e+06</td>\n      <td>1.975271e+06</td>\n      <td>2.212395e+06</td>\n      <td>2.449486e+06</td>\n      <td>2.686538e+06</td>\n      <td>2.923576e+06</td>\n      <td>3.160609e+06</td>\n      <td>3.397635e+06</td>\n      <td>3.634656e+06</td>\n      <td>3.871672e+06</td>\n      <td>4.108682e+06</td>\n      <td>4.345685e+06</td>\n      <td>4.582681e+06</td>\n    </tr>\n    <tr>\n      <th>15</th>\n      <td>-1.126465e+05</td>\n      <td>6.775360e+04</td>\n      <td>3.298186e+05</td>\n      <td>5.956060e+05</td>\n      <td>8.609747e+05</td>\n      <td>1.125967e+06</td>\n      <td>1.390720e+06</td>\n      <td>1.655339e+06</td>\n      <td>1.919849e+06</td>\n      <td>2.184306e+06</td>\n      <td>2.448715e+06</td>\n      <td>2.713087e+06</td>\n      <td>2.977417e+06</td>\n      <td>3.241729e+06</td>\n      <td>3.506035e+06</td>\n      <td>3.770334e+06</td>\n      <td>4.034627e+06</td>\n      <td>4.298914e+06</td>\n      <td>4.563194e+06</td>\n      <td>4.827467e+06</td>\n      <td>5.091730e+06</td>\n    </tr>\n    <tr>\n      <th>16</th>\n      <td>-1.278264e+05</td>\n      <td>6.002991e+04</td>\n      <td>3.505944e+05</td>\n      <td>6.480579e+05</td>\n      <td>9.453049e+05</td>\n      <td>1.242137e+06</td>\n      <td>1.538697e+06</td>\n      <td>1.835101e+06</td>\n      <td>2.131382e+06</td>\n      <td>2.427601e+06</td>\n      <td>2.723766e+06</td>\n      <td>3.019890e+06</td>\n      <td>3.315964e+06</td>\n      <td>3.612020e+06</td>\n      <td>3.908067e+06</td>\n      <td>4.204107e+06</td>\n      <td>4.500140e+06</td>\n      <td>4.796166e+06</td>\n      <td>5.092183e+06</td>\n      <td>5.388194e+06</td>\n      <td>5.684193e+06</td>\n    </tr>\n    <tr>\n      <th>17</th>\n      <td>-1.434381e+05</td>\n      <td>5.164306e+04</td>\n      <td>3.734535e+05</td>\n      <td>7.065358e+05</td>\n      <td>1.039822e+06</td>\n      <td>1.372678e+06</td>\n      <td>1.705230e+06</td>\n      <td>2.037604e+06</td>\n      <td>2.369837e+06</td>\n      <td>2.702000e+06</td>\n      <td>3.034102e+06</td>\n      <td>3.366156e+06</td>\n      <td>3.698155e+06</td>\n      <td>4.030132e+06</td>\n      <td>4.362099e+06</td>\n      <td>4.694058e+06</td>\n      <td>5.026009e+06</td>\n      <td>5.357951e+06</td>\n      <td>5.689885e+06</td>\n      <td>6.021810e+06</td>\n      <td>6.353722e+06</td>\n    </tr>\n    <tr>\n      <th>18</th>\n      <td>-1.594946e+05</td>\n      <td>4.252154e+04</td>\n      <td>3.961930e+05</td>\n      <td>7.665060e+05</td>\n      <td>1.137665e+06</td>\n      <td>1.508416e+06</td>\n      <td>1.878832e+06</td>\n      <td>2.249048e+06</td>\n      <td>2.619105e+06</td>\n      <td>2.989083e+06</td>\n      <td>3.358992e+06</td>\n      <td>3.728846e+06</td>\n      <td>4.098639e+06</td>\n      <td>4.468408e+06</td>\n      <td>4.838165e+06</td>\n      <td>5.207913e+06</td>\n      <td>5.577652e+06</td>\n      <td>5.947380e+06</td>\n      <td>6.317099e+06</td>\n      <td>6.686809e+06</td>\n      <td>7.056504e+06</td>\n    </tr>\n    <tr>\n      <th>19</th>\n      <td>-1.760093e+05</td>\n      <td>3.372804e+04</td>\n      <td>4.237928e+05</td>\n      <td>8.372698e+05</td>\n      <td>1.252563e+06</td>\n      <td>1.667529e+06</td>\n      <td>2.082136e+06</td>\n      <td>2.496521e+06</td>\n      <td>2.910725e+06</td>\n      <td>3.324839e+06</td>\n      <td>3.738874e+06</td>\n      <td>4.152849e+06</td>\n      <td>4.566754e+06</td>\n      <td>4.980631e+06</td>\n      <td>5.394496e+06</td>\n      <td>5.808349e+06</td>\n      <td>6.222193e+06</td>\n      <td>6.636025e+06</td>\n      <td>7.049846e+06</td>\n      <td>7.463656e+06</td>\n      <td>7.877451e+06</td>\n    </tr>\n    <tr>\n      <th>20</th>\n      <td>-1.929959e+05</td>\n      <td>2.441539e+04</td>\n      <td>4.542573e+05</td>\n      <td>9.159912e+05</td>\n      <td>1.380949e+06</td>\n      <td>1.845750e+06</td>\n      <td>2.310185e+06</td>\n      <td>2.774377e+06</td>\n      <td>3.238366e+06</td>\n      <td>3.702253e+06</td>\n      <td>4.166051e+06</td>\n      <td>4.629780e+06</td>\n      <td>5.093431e+06</td>\n      <td>5.557051e+06</td>\n      <td>6.020657e+06</td>\n      <td>6.484250e+06</td>\n      <td>6.947831e+06</td>\n      <td>7.411399e+06</td>\n      <td>7.874955e+06</td>\n      <td>8.338499e+06</td>\n      <td>8.802025e+06</td>\n    </tr>\n    <tr>\n      <th>21</th>\n      <td>-2.104688e+05</td>\n      <td>1.421538e+04</td>\n      <td>4.844297e+05</td>\n      <td>9.962287e+05</td>\n      <td>1.513103e+06</td>\n      <td>2.030093e+06</td>\n      <td>2.546734e+06</td>\n      <td>3.063115e+06</td>\n      <td>3.579273e+06</td>\n      <td>4.095318e+06</td>\n      <td>4.611262e+06</td>\n      <td>5.127129e+06</td>\n      <td>5.642909e+06</td>\n      <td>6.158654e+06</td>\n      <td>6.674383e+06</td>\n      <td>7.190097e+06</td>\n      <td>7.705798e+06</td>\n      <td>8.221485e+06</td>\n      <td>8.737157e+06</td>\n      <td>9.252816e+06</td>\n      <td>9.768455e+06</td>\n    </tr>\n    <tr>\n      <th>22</th>\n      <td>-2.284424e+05</td>\n      <td>4.353729e+03</td>\n      <td>5.193967e+05</td>\n      <td>1.087779e+06</td>\n      <td>1.663587e+06</td>\n      <td>2.239930e+06</td>\n      <td>2.815964e+06</td>\n      <td>3.391725e+06</td>\n      <td>3.967240e+06</td>\n      <td>4.542629e+06</td>\n      <td>5.117907e+06</td>\n      <td>5.693097e+06</td>\n      <td>6.268191e+06</td>\n      <td>6.843244e+06</td>\n      <td>7.418279e+06</td>\n      <td>7.993298e+06</td>\n      <td>8.568302e+06</td>\n      <td>9.143290e+06</td>\n      <td>9.718262e+06</td>\n      <td>1.029322e+07</td>\n      <td>1.086815e+07</td>\n    </tr>\n    <tr>\n      <th>23</th>\n      <td>-2.469320e+05</td>\n      <td>-5.522537e+03</td>\n      <td>5.601542e+05</td>\n      <td>1.193383e+06</td>\n      <td>1.836897e+06</td>\n      <td>2.481526e+06</td>\n      <td>3.125913e+06</td>\n      <td>3.770019e+06</td>\n      <td>4.413852e+06</td>\n      <td>5.057546e+06</td>\n      <td>5.701115e+06</td>\n      <td>6.344586e+06</td>\n      <td>6.987948e+06</td>\n      <td>7.631264e+06</td>\n      <td>8.274560e+06</td>\n      <td>8.917838e+06</td>\n      <td>9.561099e+06</td>\n      <td>1.020434e+07</td>\n      <td>1.084757e+07</td>\n      <td>1.149078e+07</td>\n      <td>1.213396e+07</td>\n    </tr>\n    <tr>\n      <th>24</th>\n      <td>-2.659529e+05</td>\n      <td>-1.626175e+04</td>\n      <td>6.011039e+05</td>\n      <td>1.301313e+06</td>\n      <td>2.015278e+06</td>\n      <td>2.731153e+06</td>\n      <td>3.446900e+06</td>\n      <td>4.162370e+06</td>\n      <td>4.877547e+06</td>\n      <td>5.592573e+06</td>\n      <td>6.307462e+06</td>\n      <td>7.022242e+06</td>\n      <td>7.736901e+06</td>\n      <td>8.451509e+06</td>\n      <td>9.166094e+06</td>\n      <td>9.880658e+06</td>\n      <td>1.059520e+07</td>\n      <td>1.130973e+07</td>\n      <td>1.202424e+07</td>\n      <td>1.273872e+07</td>\n      <td>1.345318e+07</td>\n    </tr>\n    <tr>\n      <th>25</th>\n      <td>-2.855213e+05</td>\n      <td>-2.665319e+04</td>\n      <td>6.486156e+05</td>\n      <td>1.425231e+06</td>\n      <td>2.219662e+06</td>\n      <td>3.016898e+06</td>\n      <td>3.814162e+06</td>\n      <td>4.611174e+06</td>\n      <td>5.407869e+06</td>\n      <td>6.204400e+06</td>\n      <td>7.000778e+06</td>\n      <td>7.797036e+06</td>\n      <td>8.593158e+06</td>\n      <td>9.389224e+06</td>\n      <td>1.018526e+07</td>\n      <td>1.098128e+07</td>\n      <td>1.177728e+07</td>\n      <td>1.257325e+07</td>\n      <td>1.336920e+07</td>\n      <td>1.416513e+07</td>\n      <td>1.496103e+07</td>\n    </tr>\n    <tr>\n      <th>26</th>\n      <td>-3.056535e+05</td>\n      <td>-3.677910e+04</td>\n      <td>7.047590e+05</td>\n      <td>1.570067e+06</td>\n      <td>2.457898e+06</td>\n      <td>3.349899e+06</td>\n      <td>4.242181e+06</td>\n      <td>5.134273e+06</td>\n      <td>6.026031e+06</td>\n      <td>6.917611e+06</td>\n      <td>7.809024e+06</td>\n      <td>8.700303e+06</td>\n      <td>9.591430e+06</td>\n      <td>1.048249e+07</td>\n      <td>1.137353e+07</td>\n      <td>1.226454e+07</td>\n      <td>1.315552e+07</td>\n      <td>1.404648e+07</td>\n      <td>1.493741e+07</td>\n      <td>1.582832e+07</td>\n      <td>1.671920e+07</td>\n    </tr>\n    <tr>\n      <th>27</th>\n      <td>-3.263666e+05</td>\n      <td>-4.775986e+04</td>\n      <td>7.610354e+05</td>\n      <td>1.717722e+06</td>\n      <td>2.702354e+06</td>\n      <td>3.692725e+06</td>\n      <td>4.683738e+06</td>\n      <td>5.674649e+06</td>\n      <td>6.665231e+06</td>\n      <td>7.655627e+06</td>\n      <td>8.645845e+06</td>\n      <td>9.635917e+06</td>\n      <td>1.062582e+07</td>\n      <td>1.161565e+07</td>\n      <td>1.260545e+07</td>\n      <td>1.359522e+07</td>\n      <td>1.458497e+07</td>\n      <td>1.557468e+07</td>\n      <td>1.656437e+07</td>\n      <td>1.755403e+07</td>\n      <td>1.854365e+07</td>\n    </tr>\n    <tr>\n      <th>28</th>\n      <td>-3.476779e+05</td>\n      <td>-5.791612e+04</td>\n      <td>8.290708e+05</td>\n      <td>1.893684e+06</td>\n      <td>2.992929e+06</td>\n      <td>4.099854e+06</td>\n      <td>5.207903e+06</td>\n      <td>6.315973e+06</td>\n      <td>7.423727e+06</td>\n      <td>8.531294e+06</td>\n      <td>9.638674e+06</td>\n      <td>1.074590e+07</td>\n      <td>1.185293e+07</td>\n      <td>1.295988e+07</td>\n      <td>1.406680e+07</td>\n      <td>1.517369e+07</td>\n      <td>1.628054e+07</td>\n      <td>1.738737e+07</td>\n      <td>1.849416e+07</td>\n      <td>1.960092e+07</td>\n      <td>2.070764e+07</td>\n    </tr>\n    <tr>\n      <th>29</th>\n      <td>-3.696056e+05</td>\n      <td>-6.686150e+04</td>\n      <td>9.110575e+05</td>\n      <td>2.101033e+06</td>\n      <td>3.333414e+06</td>\n      <td>4.575688e+06</td>\n      <td>5.819654e+06</td>\n      <td>7.063808e+06</td>\n      <td>8.307677e+06</td>\n      <td>9.551359e+06</td>\n      <td>1.079484e+07</td>\n      <td>1.203815e+07</td>\n      <td>1.328125e+07</td>\n      <td>1.452426e+07</td>\n      <td>1.576724e+07</td>\n      <td>1.701017e+07</td>\n      <td>1.825307e+07</td>\n      <td>1.949594e+07</td>\n      <td>2.073877e+07</td>\n      <td>2.198157e+07</td>\n      <td>2.322432e+07</td>\n    </tr>\n    <tr>\n      <th>30</th>\n      <td>-3.921681e+05</td>\n      <td>-7.770881e+04</td>\n      <td>9.894973e+05</td>\n      <td>2.306270e+06</td>\n      <td>3.674087e+06</td>\n      <td>5.054501e+06</td>\n      <td>6.437305e+06</td>\n      <td>7.820494e+06</td>\n      <td>9.203435e+06</td>\n      <td>1.058620e+07</td>\n      <td>1.196876e+07</td>\n      <td>1.335114e+07</td>\n      <td>1.473329e+07</td>\n      <td>1.611534e+07</td>\n      <td>1.749734e+07</td>\n      <td>1.887931e+07</td>\n      <td>2.026123e+07</td>\n      <td>2.164312e+07</td>\n      <td>2.302497e+07</td>\n      <td>2.440678e+07</td>\n      <td>2.578854e+07</td>\n    </tr>\n    <tr>\n      <th>31</th>\n      <td>-4.153846e+05</td>\n      <td>-8.481129e+04</td>\n      <td>1.091382e+06</td>\n      <td>2.559216e+06</td>\n      <td>4.088605e+06</td>\n      <td>5.633685e+06</td>\n      <td>7.181995e+06</td>\n      <td>8.730949e+06</td>\n      <td>1.027973e+07</td>\n      <td>1.182836e+07</td>\n      <td>1.337679e+07</td>\n      <td>1.492502e+07</td>\n      <td>1.647300e+07</td>\n      <td>1.802087e+07</td>\n      <td>1.956869e+07</td>\n      <td>2.111646e+07</td>\n      <td>2.266419e+07</td>\n      <td>2.421188e+07</td>\n      <td>2.575953e+07</td>\n      <td>2.730713e+07</td>\n      <td>2.885467e+07</td>\n    </tr>\n    <tr>\n      <th>32</th>\n      <td>-4.392746e+05</td>\n      <td>-9.154161e+04</td>\n      <td>1.205345e+06</td>\n      <td>2.842738e+06</td>\n      <td>4.553941e+06</td>\n      <td>6.284762e+06</td>\n      <td>8.020040e+06</td>\n      <td>9.756377e+06</td>\n      <td>1.149267e+07</td>\n      <td>1.322884e+07</td>\n      <td>1.496480e+07</td>\n      <td>1.670055e+07</td>\n      <td>1.843602e+07</td>\n      <td>2.017138e+07</td>\n      <td>2.190668e+07</td>\n      <td>2.364193e+07</td>\n      <td>2.537713e+07</td>\n      <td>2.711228e+07</td>\n      <td>2.884739e+07</td>\n      <td>3.058244e+07</td>\n      <td>3.231743e+07</td>\n    </tr>\n    <tr>\n      <th>33</th>\n      <td>-4.638585e+05</td>\n      <td>-9.890248e+04</td>\n      <td>1.325313e+06</td>\n      <td>3.144505e+06</td>\n      <td>5.050495e+06</td>\n      <td>6.980299e+06</td>\n      <td>8.915740e+06</td>\n      <td>1.085265e+07</td>\n      <td>1.278965e+07</td>\n      <td>1.472656e+07</td>\n      <td>1.666326e+07</td>\n      <td>1.859973e+07</td>\n      <td>2.053592e+07</td>\n      <td>2.247197e+07</td>\n      <td>2.440796e+07</td>\n      <td>2.634390e+07</td>\n      <td>2.827978e+07</td>\n      <td>3.021561e+07</td>\n      <td>3.215138e+07</td>\n      <td>3.408710e+07</td>\n      <td>3.602274e+07</td>\n    </tr>\n    <tr>\n      <th>34</th>\n      <td>-4.891570e+05</td>\n      <td>-1.075663e+05</td>\n      <td>1.452397e+06</td>\n      <td>3.468822e+06</td>\n      <td>5.587847e+06</td>\n      <td>7.735623e+06</td>\n      <td>9.890520e+06</td>\n      <td>1.204738e+07</td>\n      <td>1.420447e+07</td>\n      <td>1.636155e+07</td>\n      <td>1.851842e+07</td>\n      <td>2.067507e+07</td>\n      <td>2.283140e+07</td>\n      <td>2.498758e+07</td>\n      <td>2.714369e+07</td>\n      <td>2.929974e+07</td>\n      <td>3.145574e+07</td>\n      <td>3.361167e+07</td>\n      <td>3.576753e+07</td>\n      <td>3.792334e+07</td>\n      <td>4.007907e+07</td>\n    </tr>\n    <tr>\n      <th>35</th>\n      <td>-5.151918e+05</td>\n      <td>-1.117799e+05</td>\n      <td>1.611691e+06</td>\n      <td>3.862666e+06</td>\n      <td>6.235095e+06</td>\n      <td>8.642144e+06</td>\n      <td>1.105803e+07</td>\n      <td>1.347649e+07</td>\n      <td>1.589540e+07</td>\n      <td>1.831438e+07</td>\n      <td>2.073315e+07</td>\n      <td>2.315168e+07</td>\n      <td>2.556986e+07</td>\n      <td>2.798788e+07</td>\n      <td>3.040582e+07</td>\n      <td>3.282370e+07</td>\n      <td>3.524151e+07</td>\n      <td>3.765925e+07</td>\n      <td>4.007692e+07</td>\n      <td>4.249453e+07</td>\n      <td>4.491204e+07</td>\n    </tr>\n    <tr>\n      <th>36</th>\n      <td>-5.419849e+05</td>\n      <td>-1.162182e+05</td>\n      <td>1.775411e+06</td>\n      <td>4.273366e+06</td>\n      <td>6.912872e+06</td>\n      <td>9.593759e+06</td>\n      <td>1.228577e+07</td>\n      <td>1.498105e+07</td>\n      <td>1.767706e+07</td>\n      <td>2.037329e+07</td>\n      <td>2.306930e+07</td>\n      <td>2.576505e+07</td>\n      <td>2.846041e+07</td>\n      <td>3.115561e+07</td>\n      <td>3.385072e+07</td>\n      <td>3.654577e+07</td>\n      <td>3.924074e+07</td>\n      <td>4.193563e+07</td>\n      <td>4.463045e+07</td>\n      <td>4.732519e+07</td>\n      <td>5.001983e+07</td>\n    </tr>\n    <tr>\n      <th>37</th>\n      <td>-5.695591e+05</td>\n      <td>-1.202100e+05</td>\n      <td>1.964861e+06</td>\n      <td>4.749003e+06</td>\n      <td>7.698837e+06</td>\n      <td>1.069794e+07</td>\n      <td>1.371051e+07</td>\n      <td>1.672730e+07</td>\n      <td>1.974510e+07</td>\n      <td>2.276322e+07</td>\n      <td>2.578114e+07</td>\n      <td>2.879878e+07</td>\n      <td>3.181599e+07</td>\n      <td>3.483303e+07</td>\n      <td>3.784998e+07</td>\n      <td>4.086685e+07</td>\n      <td>4.388365e+07</td>\n      <td>4.690035e+07</td>\n      <td>4.991697e+07</td>\n      <td>5.293350e+07</td>\n      <td>5.594992e+07</td>\n    </tr>\n    <tr>\n      <th>38</th>\n      <td>-5.979379e+05</td>\n      <td>-1.233793e+05</td>\n      <td>2.174932e+06</td>\n      <td>5.278557e+06</td>\n      <td>8.576290e+06</td>\n      <td>1.193257e+07</td>\n      <td>1.530531e+07</td>\n      <td>1.868332e+07</td>\n      <td>2.206266e+07</td>\n      <td>2.544250e+07</td>\n      <td>2.882218e+07</td>\n      <td>3.220157e+07</td>\n      <td>3.558049e+07</td>\n      <td>3.895922e+07</td>\n      <td>4.233787e+07</td>\n      <td>4.571642e+07</td>\n      <td>4.909489e+07</td>\n      <td>5.247325e+07</td>\n      <td>5.585152e+07</td>\n      <td>5.922970e+07</td>\n      <td>6.260775e+07</td>\n    </tr>\n    <tr>\n      <th>39</th>\n      <td>-6.271455e+05</td>\n      <td>-1.214674e+05</td>\n      <td>2.408393e+06</td>\n      <td>5.857397e+06</td>\n      <td>9.531225e+06</td>\n      <td>1.327349e+07</td>\n      <td>1.703545e+07</td>\n      <td>2.080383e+07</td>\n      <td>2.457391e+07</td>\n      <td>2.834476e+07</td>\n      <td>3.211546e+07</td>\n      <td>3.588586e+07</td>\n      <td>3.965577e+07</td>\n      <td>4.342548e+07</td>\n      <td>4.719510e+07</td>\n      <td>5.096463e+07</td>\n      <td>5.473406e+07</td>\n      <td>5.850338e+07</td>\n      <td>6.227259e+07</td>\n      <td>6.604170e+07</td>\n      <td>6.981067e+07</td>\n    </tr>\n    <tr>\n      <th>40</th>\n      <td>-6.572068e+05</td>\n      <td>-1.173680e+05</td>\n      <td>2.673521e+06</td>\n      <td>6.508014e+06</td>\n      <td>1.060155e+07</td>\n      <td>1.477504e+07</td>\n      <td>1.897200e+07</td>\n      <td>2.317671e+07</td>\n      <td>2.738368e+07</td>\n      <td>3.159171e+07</td>\n      <td>3.579965e+07</td>\n      <td>4.000727e+07</td>\n      <td>4.421436e+07</td>\n      <td>4.842125e+07</td>\n      <td>5.262803e+07</td>\n      <td>5.683472e+07</td>\n      <td>6.104129e+07</td>\n      <td>6.524774e+07</td>\n      <td>6.945407e+07</td>\n      <td>7.366029e+07</td>\n      <td>7.786635e+07</td>\n    </tr>\n    <tr>\n      <th>41</th>\n      <td>-6.881474e+05</td>\n      <td>-1.091540e+05</td>\n      <td>2.986253e+06</td>\n      <td>7.271362e+06</td>\n      <td>1.185680e+07</td>\n      <td>1.653695e+07</td>\n      <td>2.124559e+07</td>\n      <td>2.596339e+07</td>\n      <td>3.068405e+07</td>\n      <td>3.540614e+07</td>\n      <td>4.012824e+07</td>\n      <td>4.485004e+07</td>\n      <td>4.957125e+07</td>\n      <td>5.429228e+07</td>\n      <td>5.901320e+07</td>\n      <td>6.373401e+07</td>\n      <td>6.845471e+07</td>\n      <td>7.317526e+07</td>\n      <td>7.789568e+07</td>\n      <td>8.261597e+07</td>\n      <td>8.733608e+07</td>\n    </tr>\n    <tr>\n      <th>42</th>\n      <td>-7.199938e+05</td>\n      <td>-1.008214e+05</td>\n      <td>3.308802e+06</td>\n      <td>8.069536e+06</td>\n      <td>1.317489e+07</td>\n      <td>1.839055e+07</td>\n      <td>2.363957e+07</td>\n      <td>2.889923e+07</td>\n      <td>3.416235e+07</td>\n      <td>3.942735e+07</td>\n      <td>4.469249e+07</td>\n      <td>4.995734e+07</td>\n      <td>5.522154e+07</td>\n      <td>6.048557e+07</td>\n      <td>6.574946e+07</td>\n      <td>7.101326e+07</td>\n      <td>7.627694e+07</td>\n      <td>8.154045e+07</td>\n      <td>8.680382e+07</td>\n      <td>9.206704e+07</td>\n      <td>9.733006e+07</td>\n    </tr>\n    <tr>\n      <th>43</th>\n      <td>-7.527731e+05</td>\n      <td>-9.342215e+04</td>\n      <td>3.664056e+06</td>\n      <td>8.960368e+06</td>\n      <td>1.465423e+07</td>\n      <td>2.047668e+07</td>\n      <td>2.633784e+07</td>\n      <td>3.221158e+07</td>\n      <td>3.808961e+07</td>\n      <td>4.397005e+07</td>\n      <td>4.985077e+07</td>\n      <td>5.573124e+07</td>\n      <td>6.161103e+07</td>\n      <td>6.749068e+07</td>\n      <td>7.337020e+07</td>\n      <td>7.924961e+07</td>\n      <td>8.512888e+07</td>\n      <td>9.100799e+07</td>\n      <td>9.688693e+07</td>\n      <td>1.027657e+08</td>\n      <td>1.086443e+08</td>\n    </tr>\n    <tr>\n      <th>44</th>\n      <td>-7.865135e+05</td>\n      <td>-7.548882e+04</td>\n      <td>4.093542e+06</td>\n      <td>1.000400e+07</td>\n      <td>1.636713e+07</td>\n      <td>2.288031e+07</td>\n      <td>2.943837e+07</td>\n      <td>3.601141e+07</td>\n      <td>4.258958e+07</td>\n      <td>4.917072e+07</td>\n      <td>5.575226e+07</td>\n      <td>6.233362e+07</td>\n      <td>6.891422e+07</td>\n      <td>7.549472e+07</td>\n      <td>8.207510e+07</td>\n      <td>8.865537e+07</td>\n      <td>9.523549e+07</td>\n      <td>1.018154e+08</td>\n      <td>1.083952e+08</td>\n      <td>1.149747e+08</td>\n      <td>1.215541e+08</td>\n    </tr>\n    <tr>\n      <th>45</th>\n      <td>-8.212438e+05</td>\n      <td>-5.728344e+04</td>\n      <td>4.544231e+06</td>\n      <td>1.109900e+07</td>\n      <td>1.816825e+07</td>\n      <td>2.540914e+07</td>\n      <td>3.270273e+07</td>\n      <td>4.001399e+07</td>\n      <td>4.733150e+07</td>\n      <td>5.465261e+07</td>\n      <td>6.197435e+07</td>\n      <td>6.929597e+07</td>\n      <td>7.661678e+07</td>\n      <td>8.393755e+07</td>\n      <td>9.125820e+07</td>\n      <td>9.857872e+07</td>\n      <td>1.058991e+08</td>\n      <td>1.132193e+08</td>\n      <td>1.205392e+08</td>\n      <td>1.278590e+08</td>\n      <td>1.351785e+08</td>\n    </tr>\n    <tr>\n      <th>46</th>\n      <td>-8.569937e+05</td>\n      <td>-3.096283e+04</td>\n      <td>5.048778e+06</td>\n      <td>1.232191e+07</td>\n      <td>2.018443e+07</td>\n      <td>2.824405e+07</td>\n      <td>3.636539e+07</td>\n      <td>4.450791e+07</td>\n      <td>5.265789e+07</td>\n      <td>6.081228e+07</td>\n      <td>6.896760e+07</td>\n      <td>7.712286e+07</td>\n      <td>8.527718e+07</td>\n      <td>9.343146e+07</td>\n      <td>1.015856e+08</td>\n      <td>1.097397e+08</td>\n      <td>1.178936e+08</td>\n      <td>1.260472e+08</td>\n      <td>1.342006e+08</td>\n      <td>1.423538e+08</td>\n      <td>1.505067e+08</td>\n    </tr>\n    <tr>\n      <th>47</th>\n      <td>-8.937940e+05</td>\n      <td>4.724781e+03</td>\n      <td>5.644773e+06</td>\n      <td>1.376637e+07</td>\n      <td>2.255965e+07</td>\n      <td>3.157916e+07</td>\n      <td>4.067165e+07</td>\n      <td>4.978896e+07</td>\n      <td>5.891543e+07</td>\n      <td>6.804730e+07</td>\n      <td>7.718037e+07</td>\n      <td>8.631348e+07</td>\n      <td>9.544557e+07</td>\n      <td>1.045776e+08</td>\n      <td>1.137096e+08</td>\n      <td>1.228414e+08</td>\n      <td>1.319731e+08</td>\n      <td>1.411045e+08</td>\n      <td>1.502356e+08</td>\n      <td>1.593665e+08</td>\n      <td>1.684971e+08</td>\n    </tr>\n    <tr>\n      <th>48</th>\n      <td>-9.316760e+05</td>\n      <td>4.010490e+04</td>\n      <td>6.252834e+06</td>\n      <td>1.524729e+07</td>\n      <td>2.499734e+07</td>\n      <td>3.500386e+07</td>\n      <td>4.509540e+07</td>\n      <td>5.521547e+07</td>\n      <td>6.534602e+07</td>\n      <td>7.548280e+07</td>\n      <td>8.562100e+07</td>\n      <td>9.575926e+07</td>\n      <td>1.058964e+08</td>\n      <td>1.160335e+08</td>\n      <td>1.261706e+08</td>\n      <td>1.363075e+08</td>\n      <td>1.464443e+08</td>\n      <td>1.565808e+08</td>\n      <td>1.667170e+08</td>\n      <td>1.768529e+08</td>\n      <td>1.869885e+08</td>\n    </tr>\n    <tr>\n      <th>49</th>\n      <td>-9.706723e+05</td>\n      <td>8.099413e+04</td>\n      <td>6.961810e+06</td>\n      <td>1.697175e+07</td>\n      <td>2.783742e+07</td>\n      <td>3.899109e+07</td>\n      <td>5.023994e+07</td>\n      <td>6.152178e+07</td>\n      <td>7.281585e+07</td>\n      <td>8.411723e+07</td>\n      <td>9.542033e+07</td>\n      <td>1.067236e+08</td>\n      <td>1.180256e+08</td>\n      <td>1.293278e+08</td>\n      <td>1.406299e+08</td>\n      <td>1.519318e+08</td>\n      <td>1.632336e+08</td>\n      <td>1.745351e+08</td>\n      <td>1.858363e+08</td>\n      <td>1.971372e+08</td>\n      <td>2.084377e+08</td>\n    </tr>\n    <tr>\n      <th>50</th>\n      <td>-1.010816e+06</td>\n      <td>1.440907e+05</td>\n      <td>7.829883e+06</td>\n      <td>1.904132e+07</td>\n      <td>3.122757e+07</td>\n      <td>4.374236e+07</td>\n      <td>5.636628e+07</td>\n      <td>6.902830e+07</td>\n      <td>8.170441e+07</td>\n      <td>9.438906e+07</td>\n      <td>1.070760e+08</td>\n      <td>1.197632e+08</td>\n      <td>1.324491e+08</td>\n      <td>1.451351e+08</td>\n      <td>1.578211e+08</td>\n      <td>1.705069e+08</td>\n      <td>1.831925e+08</td>\n      <td>1.958779e+08</td>\n      <td>2.085629e+08</td>\n      <td>2.212476e+08</td>\n      <td>2.339318e+08</td>\n    </tr>\n    <tr>\n      <th>51</th>\n      <td>-1.052143e+06</td>\n      <td>2.104610e+05</td>\n      <td>8.747500e+06</td>\n      <td>2.123435e+07</td>\n      <td>3.481776e+07</td>\n      <td>4.877287e+07</td>\n      <td>6.285262e+07</td>\n      <td>7.697710e+07</td>\n      <td>9.111806e+07</td>\n      <td>1.052687e+08</td>\n      <td>1.194220e+08</td>\n      <td>1.335760e+08</td>\n      <td>1.477284e+08</td>\n      <td>1.618811e+08</td>\n      <td>1.760338e+08</td>\n      <td>1.901864e+08</td>\n      <td>2.043388e+08</td>\n      <td>2.184908e+08</td>\n      <td>2.326424e+08</td>\n      <td>2.467937e+08</td>\n      <td>2.609445e+08</td>\n    </tr>\n    <tr>\n      <th>52</th>\n      <td>-1.094687e+06</td>\n      <td>2.777679e+05</td>\n      <td>9.720657e+06</td>\n      <td>2.359400e+07</td>\n      <td>3.870593e+07</td>\n      <td>5.423535e+07</td>\n      <td>6.990825e+07</td>\n      <td>8.563220e+07</td>\n      <td>1.013749e+08</td>\n      <td>1.171290e+08</td>\n      <td>1.328866e+08</td>\n      <td>1.486451e+08</td>\n      <td>1.644020e+08</td>\n      <td>1.801591e+08</td>\n      <td>1.959163e+08</td>\n      <td>2.116733e+08</td>\n      <td>2.274302e+08</td>\n      <td>2.431867e+08</td>\n      <td>2.589428e+08</td>\n      <td>2.746985e+08</td>\n      <td>2.904536e+08</td>\n    </tr>\n    <tr>\n      <th>53</th>\n      <td>-1.138486e+06</td>\n      <td>3.543292e+05</td>\n      <td>1.082439e+07</td>\n      <td>2.627095e+07</td>\n      <td>4.312149e+07</td>\n      <td>6.044857e+07</td>\n      <td>7.793981e+07</td>\n      <td>9.548932e+07</td>\n      <td>1.130607e+08</td>\n      <td>1.306454e+08</td>\n      <td>1.482344e+08</td>\n      <td>1.658244e+08</td>\n      <td>1.834128e+08</td>\n      <td>2.010013e+08</td>\n      <td>2.185900e+08</td>\n      <td>2.361786e+08</td>\n      <td>2.537670e+08</td>\n      <td>2.713550e+08</td>\n      <td>2.889425e+08</td>\n      <td>3.065296e+08</td>\n      <td>3.241161e+08</td>\n    </tr>\n    <tr>\n      <th>54</th>\n      <td>-1.183576e+06</td>\n      <td>4.470084e+05</td>\n      <td>1.204862e+07</td>\n      <td>2.924078e+07</td>\n      <td>4.802316e+07</td>\n      <td>6.734055e+07</td>\n      <td>8.684139e+07</td>\n      <td>1.064086e+08</td>\n      <td>1.260005e+08</td>\n      <td>1.456076e+08</td>\n      <td>1.652199e+08</td>\n      <td>1.848335e+08</td>\n      <td>2.044452e+08</td>\n      <td>2.240571e+08</td>\n      <td>2.436690e+08</td>\n      <td>2.632809e+08</td>\n      <td>2.828926e+08</td>\n      <td>3.025039e+08</td>\n      <td>3.221147e+08</td>\n      <td>3.417250e+08</td>\n      <td>3.613345e+08</td>\n    </tr>\n    <tr>\n      <th>55</th>\n      <td>-1.229998e+06</td>\n      <td>5.744229e+05</td>\n      <td>1.351116e+07</td>\n      <td>3.272408e+07</td>\n      <td>5.373822e+07</td>\n      <td>7.536055e+07</td>\n      <td>9.718825e+07</td>\n      <td>1.190923e+08</td>\n      <td>1.410243e+08</td>\n      <td>1.629733e+08</td>\n      <td>1.849285e+08</td>\n      <td>2.068854e+08</td>\n      <td>2.288404e+08</td>\n      <td>2.507956e+08</td>\n      <td>2.727510e+08</td>\n      <td>2.947064e+08</td>\n      <td>3.166616e+08</td>\n      <td>3.386162e+08</td>\n      <td>3.605704e+08</td>\n      <td>3.825240e+08</td>\n      <td>4.044768e+08</td>\n    </tr>\n    <tr>\n      <th>56</th>\n      <td>-1.277790e+06</td>\n      <td>7.124124e+05</td>\n      <td>1.513463e+07</td>\n      <td>3.664627e+07</td>\n      <td>6.019368e+07</td>\n      <td>8.443536e+07</td>\n      <td>1.089145e+08</td>\n      <td>1.334825e+08</td>\n      <td>1.580827e+08</td>\n      <td>1.827023e+08</td>\n      <td>2.073292e+08</td>\n      <td>2.319580e+08</td>\n      <td>2.565849e+08</td>\n      <td>2.812118e+08</td>\n      <td>3.058389e+08</td>\n      <td>3.304660e+08</td>\n      <td>3.550929e+08</td>\n      <td>3.797193e+08</td>\n      <td>4.043451e+08</td>\n      <td>4.289703e+08</td>\n      <td>4.535946e+08</td>\n    </tr>\n    <tr>\n      <th>57</th>\n      <td>-1.326994e+06</td>\n      <td>8.501222e+05</td>\n      <td>1.676913e+07</td>\n      <td>4.057490e+07</td>\n      <td>6.666678e+07</td>\n      <td>9.354540e+07</td>\n      <td>1.206940e+08</td>\n      <td>1.479433e+08</td>\n      <td>1.752292e+08</td>\n      <td>2.025371e+08</td>\n      <td>2.298536e+08</td>\n      <td>2.571726e+08</td>\n      <td>2.844895e+08</td>\n      <td>3.118066e+08</td>\n      <td>3.391239e+08</td>\n      <td>3.664412e+08</td>\n      <td>3.937583e+08</td>\n      <td>4.210749e+08</td>\n      <td>4.483907e+08</td>\n      <td>4.757060e+08</td>\n      <td>5.030202e+08</td>\n    </tr>\n    <tr>\n      <th>58</th>\n      <td>-1.377653e+06</td>\n      <td>1.032245e+06</td>\n      <td>1.871172e+07</td>\n      <td>4.519842e+07</td>\n      <td>7.424783e+07</td>\n      <td>1.041789e+08</td>\n      <td>1.344164e+08</td>\n      <td>1.647683e+08</td>\n      <td>1.951624e+08</td>\n      <td>2.255828e+08</td>\n      <td>2.560131e+08</td>\n      <td>2.864467e+08</td>\n      <td>3.168783e+08</td>\n      <td>3.473101e+08</td>\n      <td>3.777423e+08</td>\n      <td>4.081745e+08</td>\n      <td>4.386064e+08</td>\n      <td>4.690377e+08</td>\n      <td>4.994683e+08</td>\n      <td>5.298982e+08</td>\n      <td>5.603270e+08</td>\n    </tr>\n    <tr>\n      <th>59</th>\n      <td>-1.429810e+06</td>\n      <td>1.216326e+06</td>\n      <td>2.087108e+07</td>\n      <td>5.040866e+07</td>\n      <td>8.283639e+07</td>\n      <td>1.162651e+08</td>\n      <td>1.500431e+08</td>\n      <td>1.839505e+08</td>\n      <td>2.179068e+08</td>\n      <td>2.518934e+08</td>\n      <td>2.858920e+08</td>\n      <td>3.198947e+08</td>\n      <td>3.538949e+08</td>\n      <td>3.878953e+08</td>\n      <td>4.218960e+08</td>\n      <td>4.558969e+08</td>\n      <td>4.898974e+08</td>\n      <td>5.238973e+08</td>\n      <td>5.578964e+08</td>\n      <td>5.918946e+08</td>\n      <td>6.258917e+08</td>\n    </tr>\n    <tr>\n      <th>60</th>\n      <td>-1.483510e+06</td>\n      <td>1.408485e+06</td>\n      <td>2.320585e+07</td>\n      <td>5.602767e+07</td>\n      <td>9.209455e+07</td>\n      <td>1.292912e+08</td>\n      <td>1.668833e+08</td>\n      <td>2.046200e+08</td>\n      <td>2.424126e+08</td>\n      <td>2.802390e+08</td>\n      <td>3.180794e+08</td>\n      <td>3.559249e+08</td>\n      <td>3.937680e+08</td>\n      <td>4.316117e+08</td>\n      <td>4.694558e+08</td>\n      <td>5.073002e+08</td>\n      <td>5.451443e+08</td>\n      <td>5.829877e+08</td>\n      <td>6.208300e+08</td>\n      <td>6.586716e+08</td>\n      <td>6.965118e+08</td>\n    </tr>\n  </tbody>\n</table>\n</div>"
     },
     "execution_count": 18,
     "metadata": {},
     "output_type": "execute_result"
    }
   ],
   "source": [
    "avg_equities_table"
   ]
  },
  {
   "cell_type": "code",
   "execution_count": 19,
   "metadata": {
    "collapsed": false,
    "jupyter": {
     "outputs_hidden": false
    }
   },
   "outputs": [
    {
     "data": {
      "text/plain": "         0             50000         100000        150000        200000   \\\n1   -2472.000000  -2472.000000  -2472.000000  -2472.000000  -2472.000000   \n2   -2546.160000  -2546.160000  -2546.160000  -2546.160000  -2546.160000   \n3   -2622.544800  -2622.544800  -2622.544800  -2622.544800  -2622.544800   \n4   -2701.221144  -2701.221144  -2701.221144  -2701.221144  -2701.221144   \n5   -2782.257778  -2782.257778  -2782.257778  -2782.257778  -2782.257778   \n6   11462.902047  11462.902047  11462.902047  11462.902047  11462.902047   \n7   11806.789108  11806.789108  11806.789108  11806.789108  11806.789108   \n8   12160.992781  12160.992781  12160.992781  12160.992781  12160.992781   \n9   12525.822565  12525.822565  12525.822565  12525.822565  12525.822565   \n10  12901.597242  12901.597242  12901.597242  12901.597242  12901.597242   \n11  13288.645159  13288.645159  13288.645159  13288.645159  13288.645159   \n12  13687.304514  13687.304514  13687.304514  13687.304514  13687.304514   \n13  14097.923649  14097.923649  14097.923649  14097.923649  14097.923649   \n14  14520.861359  14520.861359  14520.861359  14520.861359  14520.861359   \n15  14956.487199  14956.487199  14956.487199  14956.487199  14956.487199   \n16  15405.181815  15405.181815  15405.181815  15405.181815  15405.181815   \n17  15867.337270  15867.337270  15867.337270  15867.337270  15867.337270   \n18  16343.357388  16343.357388  16343.357388  16343.357388  16343.357388   \n19  16833.658110  16833.658110  16833.658110  16833.658110  16833.658110   \n20  17338.667853  17338.667853  17338.667853  17338.667853  17338.667853   \n21  17858.827888  17858.827888  17858.827888  17858.827888  17858.827888   \n22  18394.592725  18394.592725  18394.592725  18394.592725  18394.592725   \n23  18946.430507  18946.430507  18946.430507  18946.430507  18946.430507   \n24  19514.823422  19514.823422  19514.823422  19514.823422  19514.823422   \n25  20100.268125  20100.268125  20100.268125  20100.268125  20100.268125   \n26  20703.276168  20703.276168  20703.276168  20703.276168  20703.276168   \n27  21324.374453  21324.374453  21324.374453  21324.374453  21324.374453   \n28  21964.105687  21964.105687  21964.105687  21964.105687  21964.105687   \n29  22623.028858  22623.028858  22623.028858  22623.028858  22623.028858   \n30  23301.719723  23301.719723  23301.719723  23301.719723  23301.719723   \n31  24000.771315  24000.771315  24000.771315  24000.771315  24000.771315   \n32  24720.794455  24720.794455  24720.794455  24720.794455  24720.794455   \n33  25462.418288  25462.418288  25462.418288  25462.418288  25462.418288   \n34  26226.290837  26226.290837  26226.290837  26226.290837  26226.290837   \n35  27013.079562  27013.079562  27013.079562  27013.079562  27013.079562   \n36  27823.471949  27823.471949  27823.471949  27823.471949  27823.471949   \n37  28658.176107  28658.176107  28658.176107  28658.176107  28658.176107   \n38  29517.921391  29517.921391  29517.921391  29517.921391  29517.921391   \n39  30403.459032  30403.459032  30403.459032  30403.459032  30403.459032   \n40  31315.562803  31315.562803  31315.562803  31315.562803  31315.562803   \n41  32255.029687  32255.029687  32255.029687  32255.029687  32255.029687   \n42  33222.680578  33222.680578  33222.680578  33222.680578  33222.680578   \n43  34219.360995  34219.360995  34219.360995  34219.360995  34219.360995   \n44  35245.941825  35245.941825  35245.941825  35245.941825  35245.941825   \n45  36303.320080  36303.320080  36303.320080  36303.320080  36303.320080   \n46  37392.419682  37392.419682  37392.419682  37392.419682  37392.419682   \n47  38514.192273  38514.192273  38514.192273  38514.192273  38514.192273   \n48  39669.618041  39669.618041  39669.618041  39669.618041  39669.618041   \n49  40859.706582  40859.706582  40859.706582  40859.706582  40859.706582   \n50  42085.497780  42085.497780  42085.497780  42085.497780  42085.497780   \n51  43348.062713  43348.062713  43348.062713  43348.062713  43348.062713   \n52  44648.504594  44648.504594  44648.504594  44648.504594  44648.504594   \n53  45987.959732  45987.959732  45987.959732  45987.959732  45987.959732   \n54  47367.598524  47367.598524  47367.598524  47367.598524  47367.598524   \n55  48788.626480  48788.626480  48788.626480  48788.626480  48788.626480   \n56  50252.285274  50252.285274  50252.285274  50252.285274  50252.285274   \n57  51759.853833  51759.853833  51759.853833  51759.853833  51759.853833   \n58  53312.649447  53312.649447  53312.649447  53312.649447  53312.649447   \n59  54912.028931  54912.028931  54912.028931  54912.028931  54912.028931   \n60  56559.389799  56559.389799  56559.389799  56559.389799  56559.389799   \n\n         250000        300000        350000        400000        450000   \\\n1   -2472.000000  -2472.000000  -2472.000000  -2472.000000  -2472.000000   \n2   -2546.160000  -2546.160000  -2546.160000  -2546.160000  -2546.160000   \n3   -2622.544800  -2622.544800  -2622.544800  -2622.544800  -2622.544800   \n4   -2701.221144  -2701.221144  -2701.221144  -2701.221144  -2701.221144   \n5   -2782.257778  -2782.257778  -2782.257778  -2782.257778  -2782.257778   \n6   11462.902047  11462.902047  11462.902047  11462.902047  11462.902047   \n7   11806.789108  11806.789108  11806.789108  11806.789108  11806.789108   \n8   12160.992781  12160.992781  12160.992781  12160.992781  12160.992781   \n9   12525.822565  12525.822565  12525.822565  12525.822565  12525.822565   \n10  12901.597242  12901.597242  12901.597242  12901.597242  12901.597242   \n11  13288.645159  13288.645159  13288.645159  13288.645159  13288.645159   \n12  13687.304514  13687.304514  13687.304514  13687.304514  13687.304514   \n13  14097.923649  14097.923649  14097.923649  14097.923649  14097.923649   \n14  14520.861359  14520.861359  14520.861359  14520.861359  14520.861359   \n15  14956.487199  14956.487199  14956.487199  14956.487199  14956.487199   \n16  15405.181815  15405.181815  15405.181815  15405.181815  15405.181815   \n17  15867.337270  15867.337270  15867.337270  15867.337270  15867.337270   \n18  16343.357388  16343.357388  16343.357388  16343.357388  16343.357388   \n19  16833.658110  16833.658110  16833.658110  16833.658110  16833.658110   \n20  17338.667853  17338.667853  17338.667853  17338.667853  17338.667853   \n21  17858.827888  17858.827888  17858.827888  17858.827888  17858.827888   \n22  18394.592725  18394.592725  18394.592725  18394.592725  18394.592725   \n23  18946.430507  18946.430507  18946.430507  18946.430507  18946.430507   \n24  19514.823422  19514.823422  19514.823422  19514.823422  19514.823422   \n25  20100.268125  20100.268125  20100.268125  20100.268125  20100.268125   \n26  20703.276168  20703.276168  20703.276168  20703.276168  20703.276168   \n27  21324.374453  21324.374453  21324.374453  21324.374453  21324.374453   \n28  21964.105687  21964.105687  21964.105687  21964.105687  21964.105687   \n29  22623.028858  22623.028858  22623.028858  22623.028858  22623.028858   \n30  23301.719723  23301.719723  23301.719723  23301.719723  23301.719723   \n31  24000.771315  24000.771315  24000.771315  24000.771315  24000.771315   \n32  24720.794455  24720.794455  24720.794455  24720.794455  24720.794455   \n33  25462.418288  25462.418288  25462.418288  25462.418288  25462.418288   \n34  26226.290837  26226.290837  26226.290837  26226.290837  26226.290837   \n35  27013.079562  27013.079562  27013.079562  27013.079562  27013.079562   \n36  27823.471949  27823.471949  27823.471949  27823.471949  27823.471949   \n37  28658.176107  28658.176107  28658.176107  28658.176107  28658.176107   \n38  29517.921391  29517.921391  29517.921391  29517.921391  29517.921391   \n39  30403.459032  30403.459032  30403.459032  30403.459032  30403.459032   \n40  31315.562803  31315.562803  31315.562803  31315.562803  31315.562803   \n41  32255.029687  32255.029687  32255.029687  32255.029687  32255.029687   \n42  33222.680578  33222.680578  33222.680578  33222.680578  33222.680578   \n43  34219.360995  34219.360995  34219.360995  34219.360995  34219.360995   \n44  35245.941825  35245.941825  35245.941825  35245.941825  35245.941825   \n45  36303.320080  36303.320080  36303.320080  36303.320080  36303.320080   \n46  37392.419682  37392.419682  37392.419682  37392.419682  37392.419682   \n47  38514.192273  38514.192273  38514.192273  38514.192273  38514.192273   \n48  39669.618041  39669.618041  39669.618041  39669.618041  39669.618041   \n49  40859.706582  40859.706582  40859.706582  40859.706582  40859.706582   \n50  42085.497780  42085.497780  42085.497780  42085.497780  42085.497780   \n51  43348.062713  43348.062713  43348.062713  43348.062713  43348.062713   \n52  44648.504594  44648.504594  44648.504594  44648.504594  44648.504594   \n53  45987.959732  45987.959732  45987.959732  45987.959732  45987.959732   \n54  47367.598524  47367.598524  47367.598524  47367.598524  47367.598524   \n55  48788.626480  48788.626480  48788.626480  48788.626480  48788.626480   \n56  50252.285274  50252.285274  50252.285274  50252.285274  50252.285274   \n57  51759.853833  51759.853833  51759.853833  51759.853833  51759.853833   \n58  53312.649447  53312.649447  53312.649447  53312.649447  53312.649447   \n59  54912.028931  54912.028931  54912.028931  54912.028931  54912.028931   \n60  56559.389799  56559.389799  56559.389799  56559.389799  56559.389799   \n\n         500000        550000        600000        650000        700000   \\\n1   -2472.000000  -2472.000000  -2472.000000  -2472.000000  -2472.000000   \n2   -2546.160000  -2546.160000  -2546.160000  -2546.160000  -2546.160000   \n3   -2622.544800  -2622.544800  -2622.544800  -2622.544800  -2622.544800   \n4   -2701.221144  -2701.221144  -2701.221144  -2701.221144  -2701.221144   \n5   -2782.257778  -2782.257778  -2782.257778  -2782.257778  -2782.257778   \n6   11462.902047  11462.902047  11462.902047  11462.902047  11462.902047   \n7   11806.789108  11806.789108  11806.789108  11806.789108  11806.789108   \n8   12160.992781  12160.992781  12160.992781  12160.992781  12160.992781   \n9   12525.822565  12525.822565  12525.822565  12525.822565  12525.822565   \n10  12901.597242  12901.597242  12901.597242  12901.597242  12901.597242   \n11  13288.645159  13288.645159  13288.645159  13288.645159  13288.645159   \n12  13687.304514  13687.304514  13687.304514  13687.304514  13687.304514   \n13  14097.923649  14097.923649  14097.923649  14097.923649  14097.923649   \n14  14520.861359  14520.861359  14520.861359  14520.861359  14520.861359   \n15  14956.487199  14956.487199  14956.487199  14956.487199  14956.487199   \n16  15405.181815  15405.181815  15405.181815  15405.181815  15405.181815   \n17  15867.337270  15867.337270  15867.337270  15867.337270  15867.337270   \n18  16343.357388  16343.357388  16343.357388  16343.357388  16343.357388   \n19  16833.658110  16833.658110  16833.658110  16833.658110  16833.658110   \n20  17338.667853  17338.667853  17338.667853  17338.667853  17338.667853   \n21  17858.827888  17858.827888  17858.827888  17858.827888  17858.827888   \n22  18394.592725  18394.592725  18394.592725  18394.592725  18394.592725   \n23  18946.430507  18946.430507  18946.430507  18946.430507  18946.430507   \n24  19514.823422  19514.823422  19514.823422  19514.823422  19514.823422   \n25  20100.268125  20100.268125  20100.268125  20100.268125  20100.268125   \n26  20703.276168  20703.276168  20703.276168  20703.276168  20703.276168   \n27  21324.374453  21324.374453  21324.374453  21324.374453  21324.374453   \n28  21964.105687  21964.105687  21964.105687  21964.105687  21964.105687   \n29  22623.028858  22623.028858  22623.028858  22623.028858  22623.028858   \n30  23301.719723  23301.719723  23301.719723  23301.719723  23301.719723   \n31  24000.771315  24000.771315  24000.771315  24000.771315  24000.771315   \n32  24720.794455  24720.794455  24720.794455  24720.794455  24720.794455   \n33  25462.418288  25462.418288  25462.418288  25462.418288  25462.418288   \n34  26226.290837  26226.290837  26226.290837  26226.290837  26226.290837   \n35  27013.079562  27013.079562  27013.079562  27013.079562  27013.079562   \n36  27823.471949  27823.471949  27823.471949  27823.471949  27823.471949   \n37  28658.176107  28658.176107  28658.176107  28658.176107  28658.176107   \n38  29517.921391  29517.921391  29517.921391  29517.921391  29517.921391   \n39  30403.459032  30403.459032  30403.459032  30403.459032  30403.459032   \n40  31315.562803  31315.562803  31315.562803  31315.562803  31315.562803   \n41  32255.029687  32255.029687  32255.029687  32255.029687  32255.029687   \n42  33222.680578  33222.680578  33222.680578  33222.680578  33222.680578   \n43  34219.360995  34219.360995  34219.360995  34219.360995  34219.360995   \n44  35245.941825  35245.941825  35245.941825  35245.941825  35245.941825   \n45  36303.320080  36303.320080  36303.320080  36303.320080  36303.320080   \n46  37392.419682  37392.419682  37392.419682  37392.419682  37392.419682   \n47  38514.192273  38514.192273  38514.192273  38514.192273  38514.192273   \n48  39669.618041  39669.618041  39669.618041  39669.618041  39669.618041   \n49  40859.706582  40859.706582  40859.706582  40859.706582  40859.706582   \n50  42085.497780  42085.497780  42085.497780  42085.497780  42085.497780   \n51  43348.062713  43348.062713  43348.062713  43348.062713  43348.062713   \n52  44648.504594  44648.504594  44648.504594  44648.504594  44648.504594   \n53  45987.959732  45987.959732  45987.959732  45987.959732  45987.959732   \n54  47367.598524  47367.598524  47367.598524  47367.598524  47367.598524   \n55  48788.626480  48788.626480  48788.626480  48788.626480  48788.626480   \n56  50252.285274  50252.285274  50252.285274  50252.285274  50252.285274   \n57  51759.853833  51759.853833  51759.853833  51759.853833  51759.853833   \n58  53312.649447  53312.649447  53312.649447  53312.649447  53312.649447   \n59  54912.028931  54912.028931  54912.028931  54912.028931  54912.028931   \n60  56559.389799  56559.389799  56559.389799  56559.389799  56559.389799   \n\n         750000        800000        850000        900000        950000   \\\n1   -2472.000000  -2472.000000  -2472.000000  -2472.000000  -2472.000000   \n2   -2546.160000  -2546.160000  -2546.160000  -2546.160000  -2546.160000   \n3   -2622.544800  -2622.544800  -2622.544800  -2622.544800  -2622.544800   \n4   -2701.221144  -2701.221144  -2701.221144  -2701.221144  -2701.221144   \n5   -2782.257778  -2782.257778  -2782.257778  -2782.257778  -2782.257778   \n6   11462.902047  11462.902047  11462.902047  11462.902047  11462.902047   \n7   11806.789108  11806.789108  11806.789108  11806.789108  11806.789108   \n8   12160.992781  12160.992781  12160.992781  12160.992781  12160.992781   \n9   12525.822565  12525.822565  12525.822565  12525.822565  12525.822565   \n10  12901.597242  12901.597242  12901.597242  12901.597242  12901.597242   \n11  13288.645159  13288.645159  13288.645159  13288.645159  13288.645159   \n12  13687.304514  13687.304514  13687.304514  13687.304514  13687.304514   \n13  14097.923649  14097.923649  14097.923649  14097.923649  14097.923649   \n14  14520.861359  14520.861359  14520.861359  14520.861359  14520.861359   \n15  14956.487199  14956.487199  14956.487199  14956.487199  14956.487199   \n16  15405.181815  15405.181815  15405.181815  15405.181815  15405.181815   \n17  15867.337270  15867.337270  15867.337270  15867.337270  15867.337270   \n18  16343.357388  16343.357388  16343.357388  16343.357388  16343.357388   \n19  16833.658110  16833.658110  16833.658110  16833.658110  16833.658110   \n20  17338.667853  17338.667853  17338.667853  17338.667853  17338.667853   \n21  17858.827888  17858.827888  17858.827888  17858.827888  17858.827888   \n22  18394.592725  18394.592725  18394.592725  18394.592725  18394.592725   \n23  18946.430507  18946.430507  18946.430507  18946.430507  18946.430507   \n24  19514.823422  19514.823422  19514.823422  19514.823422  19514.823422   \n25  20100.268125  20100.268125  20100.268125  20100.268125  20100.268125   \n26  20703.276168  20703.276168  20703.276168  20703.276168  20703.276168   \n27  21324.374453  21324.374453  21324.374453  21324.374453  21324.374453   \n28  21964.105687  21964.105687  21964.105687  21964.105687  21964.105687   \n29  22623.028858  22623.028858  22623.028858  22623.028858  22623.028858   \n30  23301.719723  23301.719723  23301.719723  23301.719723  23301.719723   \n31  24000.771315  24000.771315  24000.771315  24000.771315  24000.771315   \n32  24720.794455  24720.794455  24720.794455  24720.794455  24720.794455   \n33  25462.418288  25462.418288  25462.418288  25462.418288  25462.418288   \n34  26226.290837  26226.290837  26226.290837  26226.290837  26226.290837   \n35  27013.079562  27013.079562  27013.079562  27013.079562  27013.079562   \n36  27823.471949  27823.471949  27823.471949  27823.471949  27823.471949   \n37  28658.176107  28658.176107  28658.176107  28658.176107  28658.176107   \n38  29517.921391  29517.921391  29517.921391  29517.921391  29517.921391   \n39  30403.459032  30403.459032  30403.459032  30403.459032  30403.459032   \n40  31315.562803  31315.562803  31315.562803  31315.562803  31315.562803   \n41  32255.029687  32255.029687  32255.029687  32255.029687  32255.029687   \n42  33222.680578  33222.680578  33222.680578  33222.680578  33222.680578   \n43  34219.360995  34219.360995  34219.360995  34219.360995  34219.360995   \n44  35245.941825  35245.941825  35245.941825  35245.941825  35245.941825   \n45  36303.320080  36303.320080  36303.320080  36303.320080  36303.320080   \n46  37392.419682  37392.419682  37392.419682  37392.419682  37392.419682   \n47  38514.192273  38514.192273  38514.192273  38514.192273  38514.192273   \n48  39669.618041  39669.618041  39669.618041  39669.618041  39669.618041   \n49  40859.706582  40859.706582  40859.706582  40859.706582  40859.706582   \n50  42085.497780  42085.497780  42085.497780  42085.497780  42085.497780   \n51  43348.062713  43348.062713  43348.062713  43348.062713  43348.062713   \n52  44648.504594  44648.504594  44648.504594  44648.504594  44648.504594   \n53  45987.959732  45987.959732  45987.959732  45987.959732  45987.959732   \n54  47367.598524  47367.598524  47367.598524  47367.598524  47367.598524   \n55  48788.626480  48788.626480  48788.626480  48788.626480  48788.626480   \n56  50252.285274  50252.285274  50252.285274  50252.285274  50252.285274   \n57  51759.853833  51759.853833  51759.853833  51759.853833  51759.853833   \n58  53312.649447  53312.649447  53312.649447  53312.649447  53312.649447   \n59  54912.028931  54912.028931  54912.028931  54912.028931  54912.028931   \n60  56559.389799  56559.389799  56559.389799  56559.389799  56559.389799   \n\n         1000000  \n1   -2472.000000  \n2   -2546.160000  \n3   -2622.544800  \n4   -2701.221144  \n5   -2782.257778  \n6   11462.902047  \n7   11806.789108  \n8   12160.992781  \n9   12525.822565  \n10  12901.597242  \n11  13288.645159  \n12  13687.304514  \n13  14097.923649  \n14  14520.861359  \n15  14956.487199  \n16  15405.181815  \n17  15867.337270  \n18  16343.357388  \n19  16833.658110  \n20  17338.667853  \n21  17858.827888  \n22  18394.592725  \n23  18946.430507  \n24  19514.823422  \n25  20100.268125  \n26  20703.276168  \n27  21324.374453  \n28  21964.105687  \n29  22623.028858  \n30  23301.719723  \n31  24000.771315  \n32  24720.794455  \n33  25462.418288  \n34  26226.290837  \n35  27013.079562  \n36  27823.471949  \n37  28658.176107  \n38  29517.921391  \n39  30403.459032  \n40  31315.562803  \n41  32255.029687  \n42  33222.680578  \n43  34219.360995  \n44  35245.941825  \n45  36303.320080  \n46  37392.419682  \n47  38514.192273  \n48  39669.618041  \n49  40859.706582  \n50  42085.497780  \n51  43348.062713  \n52  44648.504594  \n53  45987.959732  \n54  47367.598524  \n55  48788.626480  \n56  50252.285274  \n57  51759.853833  \n58  53312.649447  \n59  54912.028931  \n60  56559.389799  ",
      "text/html": "<div>\n<style scoped>\n    .dataframe tbody tr th:only-of-type {\n        vertical-align: middle;\n    }\n\n    .dataframe tbody tr th {\n        vertical-align: top;\n    }\n\n    .dataframe thead th {\n        text-align: right;\n    }\n</style>\n<table border=\"1\" class=\"dataframe\">\n  <thead>\n    <tr style=\"text-align: right;\">\n      <th></th>\n      <th>0</th>\n      <th>50000</th>\n      <th>100000</th>\n      <th>150000</th>\n      <th>200000</th>\n      <th>250000</th>\n      <th>300000</th>\n      <th>350000</th>\n      <th>400000</th>\n      <th>450000</th>\n      <th>500000</th>\n      <th>550000</th>\n      <th>600000</th>\n      <th>650000</th>\n      <th>700000</th>\n      <th>750000</th>\n      <th>800000</th>\n      <th>850000</th>\n      <th>900000</th>\n      <th>950000</th>\n      <th>1000000</th>\n    </tr>\n  </thead>\n  <tbody>\n    <tr>\n      <th>1</th>\n      <td>-2472.000000</td>\n      <td>-2472.000000</td>\n      <td>-2472.000000</td>\n      <td>-2472.000000</td>\n      <td>-2472.000000</td>\n      <td>-2472.000000</td>\n      <td>-2472.000000</td>\n      <td>-2472.000000</td>\n      <td>-2472.000000</td>\n      <td>-2472.000000</td>\n      <td>-2472.000000</td>\n      <td>-2472.000000</td>\n      <td>-2472.000000</td>\n      <td>-2472.000000</td>\n      <td>-2472.000000</td>\n      <td>-2472.000000</td>\n      <td>-2472.000000</td>\n      <td>-2472.000000</td>\n      <td>-2472.000000</td>\n      <td>-2472.000000</td>\n      <td>-2472.000000</td>\n    </tr>\n    <tr>\n      <th>2</th>\n      <td>-2546.160000</td>\n      <td>-2546.160000</td>\n      <td>-2546.160000</td>\n      <td>-2546.160000</td>\n      <td>-2546.160000</td>\n      <td>-2546.160000</td>\n      <td>-2546.160000</td>\n      <td>-2546.160000</td>\n      <td>-2546.160000</td>\n      <td>-2546.160000</td>\n      <td>-2546.160000</td>\n      <td>-2546.160000</td>\n      <td>-2546.160000</td>\n      <td>-2546.160000</td>\n      <td>-2546.160000</td>\n      <td>-2546.160000</td>\n      <td>-2546.160000</td>\n      <td>-2546.160000</td>\n      <td>-2546.160000</td>\n      <td>-2546.160000</td>\n      <td>-2546.160000</td>\n    </tr>\n    <tr>\n      <th>3</th>\n      <td>-2622.544800</td>\n      <td>-2622.544800</td>\n      <td>-2622.544800</td>\n      <td>-2622.544800</td>\n      <td>-2622.544800</td>\n      <td>-2622.544800</td>\n      <td>-2622.544800</td>\n      <td>-2622.544800</td>\n      <td>-2622.544800</td>\n      <td>-2622.544800</td>\n      <td>-2622.544800</td>\n      <td>-2622.544800</td>\n      <td>-2622.544800</td>\n      <td>-2622.544800</td>\n      <td>-2622.544800</td>\n      <td>-2622.544800</td>\n      <td>-2622.544800</td>\n      <td>-2622.544800</td>\n      <td>-2622.544800</td>\n      <td>-2622.544800</td>\n      <td>-2622.544800</td>\n    </tr>\n    <tr>\n      <th>4</th>\n      <td>-2701.221144</td>\n      <td>-2701.221144</td>\n      <td>-2701.221144</td>\n      <td>-2701.221144</td>\n      <td>-2701.221144</td>\n      <td>-2701.221144</td>\n      <td>-2701.221144</td>\n      <td>-2701.221144</td>\n      <td>-2701.221144</td>\n      <td>-2701.221144</td>\n      <td>-2701.221144</td>\n      <td>-2701.221144</td>\n      <td>-2701.221144</td>\n      <td>-2701.221144</td>\n      <td>-2701.221144</td>\n      <td>-2701.221144</td>\n      <td>-2701.221144</td>\n      <td>-2701.221144</td>\n      <td>-2701.221144</td>\n      <td>-2701.221144</td>\n      <td>-2701.221144</td>\n    </tr>\n    <tr>\n      <th>5</th>\n      <td>-2782.257778</td>\n      <td>-2782.257778</td>\n      <td>-2782.257778</td>\n      <td>-2782.257778</td>\n      <td>-2782.257778</td>\n      <td>-2782.257778</td>\n      <td>-2782.257778</td>\n      <td>-2782.257778</td>\n      <td>-2782.257778</td>\n      <td>-2782.257778</td>\n      <td>-2782.257778</td>\n      <td>-2782.257778</td>\n      <td>-2782.257778</td>\n      <td>-2782.257778</td>\n      <td>-2782.257778</td>\n      <td>-2782.257778</td>\n      <td>-2782.257778</td>\n      <td>-2782.257778</td>\n      <td>-2782.257778</td>\n      <td>-2782.257778</td>\n      <td>-2782.257778</td>\n    </tr>\n    <tr>\n      <th>6</th>\n      <td>11462.902047</td>\n      <td>11462.902047</td>\n      <td>11462.902047</td>\n      <td>11462.902047</td>\n      <td>11462.902047</td>\n      <td>11462.902047</td>\n      <td>11462.902047</td>\n      <td>11462.902047</td>\n      <td>11462.902047</td>\n      <td>11462.902047</td>\n      <td>11462.902047</td>\n      <td>11462.902047</td>\n      <td>11462.902047</td>\n      <td>11462.902047</td>\n      <td>11462.902047</td>\n      <td>11462.902047</td>\n      <td>11462.902047</td>\n      <td>11462.902047</td>\n      <td>11462.902047</td>\n      <td>11462.902047</td>\n      <td>11462.902047</td>\n    </tr>\n    <tr>\n      <th>7</th>\n      <td>11806.789108</td>\n      <td>11806.789108</td>\n      <td>11806.789108</td>\n      <td>11806.789108</td>\n      <td>11806.789108</td>\n      <td>11806.789108</td>\n      <td>11806.789108</td>\n      <td>11806.789108</td>\n      <td>11806.789108</td>\n      <td>11806.789108</td>\n      <td>11806.789108</td>\n      <td>11806.789108</td>\n      <td>11806.789108</td>\n      <td>11806.789108</td>\n      <td>11806.789108</td>\n      <td>11806.789108</td>\n      <td>11806.789108</td>\n      <td>11806.789108</td>\n      <td>11806.789108</td>\n      <td>11806.789108</td>\n      <td>11806.789108</td>\n    </tr>\n    <tr>\n      <th>8</th>\n      <td>12160.992781</td>\n      <td>12160.992781</td>\n      <td>12160.992781</td>\n      <td>12160.992781</td>\n      <td>12160.992781</td>\n      <td>12160.992781</td>\n      <td>12160.992781</td>\n      <td>12160.992781</td>\n      <td>12160.992781</td>\n      <td>12160.992781</td>\n      <td>12160.992781</td>\n      <td>12160.992781</td>\n      <td>12160.992781</td>\n      <td>12160.992781</td>\n      <td>12160.992781</td>\n      <td>12160.992781</td>\n      <td>12160.992781</td>\n      <td>12160.992781</td>\n      <td>12160.992781</td>\n      <td>12160.992781</td>\n      <td>12160.992781</td>\n    </tr>\n    <tr>\n      <th>9</th>\n      <td>12525.822565</td>\n      <td>12525.822565</td>\n      <td>12525.822565</td>\n      <td>12525.822565</td>\n      <td>12525.822565</td>\n      <td>12525.822565</td>\n      <td>12525.822565</td>\n      <td>12525.822565</td>\n      <td>12525.822565</td>\n      <td>12525.822565</td>\n      <td>12525.822565</td>\n      <td>12525.822565</td>\n      <td>12525.822565</td>\n      <td>12525.822565</td>\n      <td>12525.822565</td>\n      <td>12525.822565</td>\n      <td>12525.822565</td>\n      <td>12525.822565</td>\n      <td>12525.822565</td>\n      <td>12525.822565</td>\n      <td>12525.822565</td>\n    </tr>\n    <tr>\n      <th>10</th>\n      <td>12901.597242</td>\n      <td>12901.597242</td>\n      <td>12901.597242</td>\n      <td>12901.597242</td>\n      <td>12901.597242</td>\n      <td>12901.597242</td>\n      <td>12901.597242</td>\n      <td>12901.597242</td>\n      <td>12901.597242</td>\n      <td>12901.597242</td>\n      <td>12901.597242</td>\n      <td>12901.597242</td>\n      <td>12901.597242</td>\n      <td>12901.597242</td>\n      <td>12901.597242</td>\n      <td>12901.597242</td>\n      <td>12901.597242</td>\n      <td>12901.597242</td>\n      <td>12901.597242</td>\n      <td>12901.597242</td>\n      <td>12901.597242</td>\n    </tr>\n    <tr>\n      <th>11</th>\n      <td>13288.645159</td>\n      <td>13288.645159</td>\n      <td>13288.645159</td>\n      <td>13288.645159</td>\n      <td>13288.645159</td>\n      <td>13288.645159</td>\n      <td>13288.645159</td>\n      <td>13288.645159</td>\n      <td>13288.645159</td>\n      <td>13288.645159</td>\n      <td>13288.645159</td>\n      <td>13288.645159</td>\n      <td>13288.645159</td>\n      <td>13288.645159</td>\n      <td>13288.645159</td>\n      <td>13288.645159</td>\n      <td>13288.645159</td>\n      <td>13288.645159</td>\n      <td>13288.645159</td>\n      <td>13288.645159</td>\n      <td>13288.645159</td>\n    </tr>\n    <tr>\n      <th>12</th>\n      <td>13687.304514</td>\n      <td>13687.304514</td>\n      <td>13687.304514</td>\n      <td>13687.304514</td>\n      <td>13687.304514</td>\n      <td>13687.304514</td>\n      <td>13687.304514</td>\n      <td>13687.304514</td>\n      <td>13687.304514</td>\n      <td>13687.304514</td>\n      <td>13687.304514</td>\n      <td>13687.304514</td>\n      <td>13687.304514</td>\n      <td>13687.304514</td>\n      <td>13687.304514</td>\n      <td>13687.304514</td>\n      <td>13687.304514</td>\n      <td>13687.304514</td>\n      <td>13687.304514</td>\n      <td>13687.304514</td>\n      <td>13687.304514</td>\n    </tr>\n    <tr>\n      <th>13</th>\n      <td>14097.923649</td>\n      <td>14097.923649</td>\n      <td>14097.923649</td>\n      <td>14097.923649</td>\n      <td>14097.923649</td>\n      <td>14097.923649</td>\n      <td>14097.923649</td>\n      <td>14097.923649</td>\n      <td>14097.923649</td>\n      <td>14097.923649</td>\n      <td>14097.923649</td>\n      <td>14097.923649</td>\n      <td>14097.923649</td>\n      <td>14097.923649</td>\n      <td>14097.923649</td>\n      <td>14097.923649</td>\n      <td>14097.923649</td>\n      <td>14097.923649</td>\n      <td>14097.923649</td>\n      <td>14097.923649</td>\n      <td>14097.923649</td>\n    </tr>\n    <tr>\n      <th>14</th>\n      <td>14520.861359</td>\n      <td>14520.861359</td>\n      <td>14520.861359</td>\n      <td>14520.861359</td>\n      <td>14520.861359</td>\n      <td>14520.861359</td>\n      <td>14520.861359</td>\n      <td>14520.861359</td>\n      <td>14520.861359</td>\n      <td>14520.861359</td>\n      <td>14520.861359</td>\n      <td>14520.861359</td>\n      <td>14520.861359</td>\n      <td>14520.861359</td>\n      <td>14520.861359</td>\n      <td>14520.861359</td>\n      <td>14520.861359</td>\n      <td>14520.861359</td>\n      <td>14520.861359</td>\n      <td>14520.861359</td>\n      <td>14520.861359</td>\n    </tr>\n    <tr>\n      <th>15</th>\n      <td>14956.487199</td>\n      <td>14956.487199</td>\n      <td>14956.487199</td>\n      <td>14956.487199</td>\n      <td>14956.487199</td>\n      <td>14956.487199</td>\n      <td>14956.487199</td>\n      <td>14956.487199</td>\n      <td>14956.487199</td>\n      <td>14956.487199</td>\n      <td>14956.487199</td>\n      <td>14956.487199</td>\n      <td>14956.487199</td>\n      <td>14956.487199</td>\n      <td>14956.487199</td>\n      <td>14956.487199</td>\n      <td>14956.487199</td>\n      <td>14956.487199</td>\n      <td>14956.487199</td>\n      <td>14956.487199</td>\n      <td>14956.487199</td>\n    </tr>\n    <tr>\n      <th>16</th>\n      <td>15405.181815</td>\n      <td>15405.181815</td>\n      <td>15405.181815</td>\n      <td>15405.181815</td>\n      <td>15405.181815</td>\n      <td>15405.181815</td>\n      <td>15405.181815</td>\n      <td>15405.181815</td>\n      <td>15405.181815</td>\n      <td>15405.181815</td>\n      <td>15405.181815</td>\n      <td>15405.181815</td>\n      <td>15405.181815</td>\n      <td>15405.181815</td>\n      <td>15405.181815</td>\n      <td>15405.181815</td>\n      <td>15405.181815</td>\n      <td>15405.181815</td>\n      <td>15405.181815</td>\n      <td>15405.181815</td>\n      <td>15405.181815</td>\n    </tr>\n    <tr>\n      <th>17</th>\n      <td>15867.337270</td>\n      <td>15867.337270</td>\n      <td>15867.337270</td>\n      <td>15867.337270</td>\n      <td>15867.337270</td>\n      <td>15867.337270</td>\n      <td>15867.337270</td>\n      <td>15867.337270</td>\n      <td>15867.337270</td>\n      <td>15867.337270</td>\n      <td>15867.337270</td>\n      <td>15867.337270</td>\n      <td>15867.337270</td>\n      <td>15867.337270</td>\n      <td>15867.337270</td>\n      <td>15867.337270</td>\n      <td>15867.337270</td>\n      <td>15867.337270</td>\n      <td>15867.337270</td>\n      <td>15867.337270</td>\n      <td>15867.337270</td>\n    </tr>\n    <tr>\n      <th>18</th>\n      <td>16343.357388</td>\n      <td>16343.357388</td>\n      <td>16343.357388</td>\n      <td>16343.357388</td>\n      <td>16343.357388</td>\n      <td>16343.357388</td>\n      <td>16343.357388</td>\n      <td>16343.357388</td>\n      <td>16343.357388</td>\n      <td>16343.357388</td>\n      <td>16343.357388</td>\n      <td>16343.357388</td>\n      <td>16343.357388</td>\n      <td>16343.357388</td>\n      <td>16343.357388</td>\n      <td>16343.357388</td>\n      <td>16343.357388</td>\n      <td>16343.357388</td>\n      <td>16343.357388</td>\n      <td>16343.357388</td>\n      <td>16343.357388</td>\n    </tr>\n    <tr>\n      <th>19</th>\n      <td>16833.658110</td>\n      <td>16833.658110</td>\n      <td>16833.658110</td>\n      <td>16833.658110</td>\n      <td>16833.658110</td>\n      <td>16833.658110</td>\n      <td>16833.658110</td>\n      <td>16833.658110</td>\n      <td>16833.658110</td>\n      <td>16833.658110</td>\n      <td>16833.658110</td>\n      <td>16833.658110</td>\n      <td>16833.658110</td>\n      <td>16833.658110</td>\n      <td>16833.658110</td>\n      <td>16833.658110</td>\n      <td>16833.658110</td>\n      <td>16833.658110</td>\n      <td>16833.658110</td>\n      <td>16833.658110</td>\n      <td>16833.658110</td>\n    </tr>\n    <tr>\n      <th>20</th>\n      <td>17338.667853</td>\n      <td>17338.667853</td>\n      <td>17338.667853</td>\n      <td>17338.667853</td>\n      <td>17338.667853</td>\n      <td>17338.667853</td>\n      <td>17338.667853</td>\n      <td>17338.667853</td>\n      <td>17338.667853</td>\n      <td>17338.667853</td>\n      <td>17338.667853</td>\n      <td>17338.667853</td>\n      <td>17338.667853</td>\n      <td>17338.667853</td>\n      <td>17338.667853</td>\n      <td>17338.667853</td>\n      <td>17338.667853</td>\n      <td>17338.667853</td>\n      <td>17338.667853</td>\n      <td>17338.667853</td>\n      <td>17338.667853</td>\n    </tr>\n    <tr>\n      <th>21</th>\n      <td>17858.827888</td>\n      <td>17858.827888</td>\n      <td>17858.827888</td>\n      <td>17858.827888</td>\n      <td>17858.827888</td>\n      <td>17858.827888</td>\n      <td>17858.827888</td>\n      <td>17858.827888</td>\n      <td>17858.827888</td>\n      <td>17858.827888</td>\n      <td>17858.827888</td>\n      <td>17858.827888</td>\n      <td>17858.827888</td>\n      <td>17858.827888</td>\n      <td>17858.827888</td>\n      <td>17858.827888</td>\n      <td>17858.827888</td>\n      <td>17858.827888</td>\n      <td>17858.827888</td>\n      <td>17858.827888</td>\n      <td>17858.827888</td>\n    </tr>\n    <tr>\n      <th>22</th>\n      <td>18394.592725</td>\n      <td>18394.592725</td>\n      <td>18394.592725</td>\n      <td>18394.592725</td>\n      <td>18394.592725</td>\n      <td>18394.592725</td>\n      <td>18394.592725</td>\n      <td>18394.592725</td>\n      <td>18394.592725</td>\n      <td>18394.592725</td>\n      <td>18394.592725</td>\n      <td>18394.592725</td>\n      <td>18394.592725</td>\n      <td>18394.592725</td>\n      <td>18394.592725</td>\n      <td>18394.592725</td>\n      <td>18394.592725</td>\n      <td>18394.592725</td>\n      <td>18394.592725</td>\n      <td>18394.592725</td>\n      <td>18394.592725</td>\n    </tr>\n    <tr>\n      <th>23</th>\n      <td>18946.430507</td>\n      <td>18946.430507</td>\n      <td>18946.430507</td>\n      <td>18946.430507</td>\n      <td>18946.430507</td>\n      <td>18946.430507</td>\n      <td>18946.430507</td>\n      <td>18946.430507</td>\n      <td>18946.430507</td>\n      <td>18946.430507</td>\n      <td>18946.430507</td>\n      <td>18946.430507</td>\n      <td>18946.430507</td>\n      <td>18946.430507</td>\n      <td>18946.430507</td>\n      <td>18946.430507</td>\n      <td>18946.430507</td>\n      <td>18946.430507</td>\n      <td>18946.430507</td>\n      <td>18946.430507</td>\n      <td>18946.430507</td>\n    </tr>\n    <tr>\n      <th>24</th>\n      <td>19514.823422</td>\n      <td>19514.823422</td>\n      <td>19514.823422</td>\n      <td>19514.823422</td>\n      <td>19514.823422</td>\n      <td>19514.823422</td>\n      <td>19514.823422</td>\n      <td>19514.823422</td>\n      <td>19514.823422</td>\n      <td>19514.823422</td>\n      <td>19514.823422</td>\n      <td>19514.823422</td>\n      <td>19514.823422</td>\n      <td>19514.823422</td>\n      <td>19514.823422</td>\n      <td>19514.823422</td>\n      <td>19514.823422</td>\n      <td>19514.823422</td>\n      <td>19514.823422</td>\n      <td>19514.823422</td>\n      <td>19514.823422</td>\n    </tr>\n    <tr>\n      <th>25</th>\n      <td>20100.268125</td>\n      <td>20100.268125</td>\n      <td>20100.268125</td>\n      <td>20100.268125</td>\n      <td>20100.268125</td>\n      <td>20100.268125</td>\n      <td>20100.268125</td>\n      <td>20100.268125</td>\n      <td>20100.268125</td>\n      <td>20100.268125</td>\n      <td>20100.268125</td>\n      <td>20100.268125</td>\n      <td>20100.268125</td>\n      <td>20100.268125</td>\n      <td>20100.268125</td>\n      <td>20100.268125</td>\n      <td>20100.268125</td>\n      <td>20100.268125</td>\n      <td>20100.268125</td>\n      <td>20100.268125</td>\n      <td>20100.268125</td>\n    </tr>\n    <tr>\n      <th>26</th>\n      <td>20703.276168</td>\n      <td>20703.276168</td>\n      <td>20703.276168</td>\n      <td>20703.276168</td>\n      <td>20703.276168</td>\n      <td>20703.276168</td>\n      <td>20703.276168</td>\n      <td>20703.276168</td>\n      <td>20703.276168</td>\n      <td>20703.276168</td>\n      <td>20703.276168</td>\n      <td>20703.276168</td>\n      <td>20703.276168</td>\n      <td>20703.276168</td>\n      <td>20703.276168</td>\n      <td>20703.276168</td>\n      <td>20703.276168</td>\n      <td>20703.276168</td>\n      <td>20703.276168</td>\n      <td>20703.276168</td>\n      <td>20703.276168</td>\n    </tr>\n    <tr>\n      <th>27</th>\n      <td>21324.374453</td>\n      <td>21324.374453</td>\n      <td>21324.374453</td>\n      <td>21324.374453</td>\n      <td>21324.374453</td>\n      <td>21324.374453</td>\n      <td>21324.374453</td>\n      <td>21324.374453</td>\n      <td>21324.374453</td>\n      <td>21324.374453</td>\n      <td>21324.374453</td>\n      <td>21324.374453</td>\n      <td>21324.374453</td>\n      <td>21324.374453</td>\n      <td>21324.374453</td>\n      <td>21324.374453</td>\n      <td>21324.374453</td>\n      <td>21324.374453</td>\n      <td>21324.374453</td>\n      <td>21324.374453</td>\n      <td>21324.374453</td>\n    </tr>\n    <tr>\n      <th>28</th>\n      <td>21964.105687</td>\n      <td>21964.105687</td>\n      <td>21964.105687</td>\n      <td>21964.105687</td>\n      <td>21964.105687</td>\n      <td>21964.105687</td>\n      <td>21964.105687</td>\n      <td>21964.105687</td>\n      <td>21964.105687</td>\n      <td>21964.105687</td>\n      <td>21964.105687</td>\n      <td>21964.105687</td>\n      <td>21964.105687</td>\n      <td>21964.105687</td>\n      <td>21964.105687</td>\n      <td>21964.105687</td>\n      <td>21964.105687</td>\n      <td>21964.105687</td>\n      <td>21964.105687</td>\n      <td>21964.105687</td>\n      <td>21964.105687</td>\n    </tr>\n    <tr>\n      <th>29</th>\n      <td>22623.028858</td>\n      <td>22623.028858</td>\n      <td>22623.028858</td>\n      <td>22623.028858</td>\n      <td>22623.028858</td>\n      <td>22623.028858</td>\n      <td>22623.028858</td>\n      <td>22623.028858</td>\n      <td>22623.028858</td>\n      <td>22623.028858</td>\n      <td>22623.028858</td>\n      <td>22623.028858</td>\n      <td>22623.028858</td>\n      <td>22623.028858</td>\n      <td>22623.028858</td>\n      <td>22623.028858</td>\n      <td>22623.028858</td>\n      <td>22623.028858</td>\n      <td>22623.028858</td>\n      <td>22623.028858</td>\n      <td>22623.028858</td>\n    </tr>\n    <tr>\n      <th>30</th>\n      <td>23301.719723</td>\n      <td>23301.719723</td>\n      <td>23301.719723</td>\n      <td>23301.719723</td>\n      <td>23301.719723</td>\n      <td>23301.719723</td>\n      <td>23301.719723</td>\n      <td>23301.719723</td>\n      <td>23301.719723</td>\n      <td>23301.719723</td>\n      <td>23301.719723</td>\n      <td>23301.719723</td>\n      <td>23301.719723</td>\n      <td>23301.719723</td>\n      <td>23301.719723</td>\n      <td>23301.719723</td>\n      <td>23301.719723</td>\n      <td>23301.719723</td>\n      <td>23301.719723</td>\n      <td>23301.719723</td>\n      <td>23301.719723</td>\n    </tr>\n    <tr>\n      <th>31</th>\n      <td>24000.771315</td>\n      <td>24000.771315</td>\n      <td>24000.771315</td>\n      <td>24000.771315</td>\n      <td>24000.771315</td>\n      <td>24000.771315</td>\n      <td>24000.771315</td>\n      <td>24000.771315</td>\n      <td>24000.771315</td>\n      <td>24000.771315</td>\n      <td>24000.771315</td>\n      <td>24000.771315</td>\n      <td>24000.771315</td>\n      <td>24000.771315</td>\n      <td>24000.771315</td>\n      <td>24000.771315</td>\n      <td>24000.771315</td>\n      <td>24000.771315</td>\n      <td>24000.771315</td>\n      <td>24000.771315</td>\n      <td>24000.771315</td>\n    </tr>\n    <tr>\n      <th>32</th>\n      <td>24720.794455</td>\n      <td>24720.794455</td>\n      <td>24720.794455</td>\n      <td>24720.794455</td>\n      <td>24720.794455</td>\n      <td>24720.794455</td>\n      <td>24720.794455</td>\n      <td>24720.794455</td>\n      <td>24720.794455</td>\n      <td>24720.794455</td>\n      <td>24720.794455</td>\n      <td>24720.794455</td>\n      <td>24720.794455</td>\n      <td>24720.794455</td>\n      <td>24720.794455</td>\n      <td>24720.794455</td>\n      <td>24720.794455</td>\n      <td>24720.794455</td>\n      <td>24720.794455</td>\n      <td>24720.794455</td>\n      <td>24720.794455</td>\n    </tr>\n    <tr>\n      <th>33</th>\n      <td>25462.418288</td>\n      <td>25462.418288</td>\n      <td>25462.418288</td>\n      <td>25462.418288</td>\n      <td>25462.418288</td>\n      <td>25462.418288</td>\n      <td>25462.418288</td>\n      <td>25462.418288</td>\n      <td>25462.418288</td>\n      <td>25462.418288</td>\n      <td>25462.418288</td>\n      <td>25462.418288</td>\n      <td>25462.418288</td>\n      <td>25462.418288</td>\n      <td>25462.418288</td>\n      <td>25462.418288</td>\n      <td>25462.418288</td>\n      <td>25462.418288</td>\n      <td>25462.418288</td>\n      <td>25462.418288</td>\n      <td>25462.418288</td>\n    </tr>\n    <tr>\n      <th>34</th>\n      <td>26226.290837</td>\n      <td>26226.290837</td>\n      <td>26226.290837</td>\n      <td>26226.290837</td>\n      <td>26226.290837</td>\n      <td>26226.290837</td>\n      <td>26226.290837</td>\n      <td>26226.290837</td>\n      <td>26226.290837</td>\n      <td>26226.290837</td>\n      <td>26226.290837</td>\n      <td>26226.290837</td>\n      <td>26226.290837</td>\n      <td>26226.290837</td>\n      <td>26226.290837</td>\n      <td>26226.290837</td>\n      <td>26226.290837</td>\n      <td>26226.290837</td>\n      <td>26226.290837</td>\n      <td>26226.290837</td>\n      <td>26226.290837</td>\n    </tr>\n    <tr>\n      <th>35</th>\n      <td>27013.079562</td>\n      <td>27013.079562</td>\n      <td>27013.079562</td>\n      <td>27013.079562</td>\n      <td>27013.079562</td>\n      <td>27013.079562</td>\n      <td>27013.079562</td>\n      <td>27013.079562</td>\n      <td>27013.079562</td>\n      <td>27013.079562</td>\n      <td>27013.079562</td>\n      <td>27013.079562</td>\n      <td>27013.079562</td>\n      <td>27013.079562</td>\n      <td>27013.079562</td>\n      <td>27013.079562</td>\n      <td>27013.079562</td>\n      <td>27013.079562</td>\n      <td>27013.079562</td>\n      <td>27013.079562</td>\n      <td>27013.079562</td>\n    </tr>\n    <tr>\n      <th>36</th>\n      <td>27823.471949</td>\n      <td>27823.471949</td>\n      <td>27823.471949</td>\n      <td>27823.471949</td>\n      <td>27823.471949</td>\n      <td>27823.471949</td>\n      <td>27823.471949</td>\n      <td>27823.471949</td>\n      <td>27823.471949</td>\n      <td>27823.471949</td>\n      <td>27823.471949</td>\n      <td>27823.471949</td>\n      <td>27823.471949</td>\n      <td>27823.471949</td>\n      <td>27823.471949</td>\n      <td>27823.471949</td>\n      <td>27823.471949</td>\n      <td>27823.471949</td>\n      <td>27823.471949</td>\n      <td>27823.471949</td>\n      <td>27823.471949</td>\n    </tr>\n    <tr>\n      <th>37</th>\n      <td>28658.176107</td>\n      <td>28658.176107</td>\n      <td>28658.176107</td>\n      <td>28658.176107</td>\n      <td>28658.176107</td>\n      <td>28658.176107</td>\n      <td>28658.176107</td>\n      <td>28658.176107</td>\n      <td>28658.176107</td>\n      <td>28658.176107</td>\n      <td>28658.176107</td>\n      <td>28658.176107</td>\n      <td>28658.176107</td>\n      <td>28658.176107</td>\n      <td>28658.176107</td>\n      <td>28658.176107</td>\n      <td>28658.176107</td>\n      <td>28658.176107</td>\n      <td>28658.176107</td>\n      <td>28658.176107</td>\n      <td>28658.176107</td>\n    </tr>\n    <tr>\n      <th>38</th>\n      <td>29517.921391</td>\n      <td>29517.921391</td>\n      <td>29517.921391</td>\n      <td>29517.921391</td>\n      <td>29517.921391</td>\n      <td>29517.921391</td>\n      <td>29517.921391</td>\n      <td>29517.921391</td>\n      <td>29517.921391</td>\n      <td>29517.921391</td>\n      <td>29517.921391</td>\n      <td>29517.921391</td>\n      <td>29517.921391</td>\n      <td>29517.921391</td>\n      <td>29517.921391</td>\n      <td>29517.921391</td>\n      <td>29517.921391</td>\n      <td>29517.921391</td>\n      <td>29517.921391</td>\n      <td>29517.921391</td>\n      <td>29517.921391</td>\n    </tr>\n    <tr>\n      <th>39</th>\n      <td>30403.459032</td>\n      <td>30403.459032</td>\n      <td>30403.459032</td>\n      <td>30403.459032</td>\n      <td>30403.459032</td>\n      <td>30403.459032</td>\n      <td>30403.459032</td>\n      <td>30403.459032</td>\n      <td>30403.459032</td>\n      <td>30403.459032</td>\n      <td>30403.459032</td>\n      <td>30403.459032</td>\n      <td>30403.459032</td>\n      <td>30403.459032</td>\n      <td>30403.459032</td>\n      <td>30403.459032</td>\n      <td>30403.459032</td>\n      <td>30403.459032</td>\n      <td>30403.459032</td>\n      <td>30403.459032</td>\n      <td>30403.459032</td>\n    </tr>\n    <tr>\n      <th>40</th>\n      <td>31315.562803</td>\n      <td>31315.562803</td>\n      <td>31315.562803</td>\n      <td>31315.562803</td>\n      <td>31315.562803</td>\n      <td>31315.562803</td>\n      <td>31315.562803</td>\n      <td>31315.562803</td>\n      <td>31315.562803</td>\n      <td>31315.562803</td>\n      <td>31315.562803</td>\n      <td>31315.562803</td>\n      <td>31315.562803</td>\n      <td>31315.562803</td>\n      <td>31315.562803</td>\n      <td>31315.562803</td>\n      <td>31315.562803</td>\n      <td>31315.562803</td>\n      <td>31315.562803</td>\n      <td>31315.562803</td>\n      <td>31315.562803</td>\n    </tr>\n    <tr>\n      <th>41</th>\n      <td>32255.029687</td>\n      <td>32255.029687</td>\n      <td>32255.029687</td>\n      <td>32255.029687</td>\n      <td>32255.029687</td>\n      <td>32255.029687</td>\n      <td>32255.029687</td>\n      <td>32255.029687</td>\n      <td>32255.029687</td>\n      <td>32255.029687</td>\n      <td>32255.029687</td>\n      <td>32255.029687</td>\n      <td>32255.029687</td>\n      <td>32255.029687</td>\n      <td>32255.029687</td>\n      <td>32255.029687</td>\n      <td>32255.029687</td>\n      <td>32255.029687</td>\n      <td>32255.029687</td>\n      <td>32255.029687</td>\n      <td>32255.029687</td>\n    </tr>\n    <tr>\n      <th>42</th>\n      <td>33222.680578</td>\n      <td>33222.680578</td>\n      <td>33222.680578</td>\n      <td>33222.680578</td>\n      <td>33222.680578</td>\n      <td>33222.680578</td>\n      <td>33222.680578</td>\n      <td>33222.680578</td>\n      <td>33222.680578</td>\n      <td>33222.680578</td>\n      <td>33222.680578</td>\n      <td>33222.680578</td>\n      <td>33222.680578</td>\n      <td>33222.680578</td>\n      <td>33222.680578</td>\n      <td>33222.680578</td>\n      <td>33222.680578</td>\n      <td>33222.680578</td>\n      <td>33222.680578</td>\n      <td>33222.680578</td>\n      <td>33222.680578</td>\n    </tr>\n    <tr>\n      <th>43</th>\n      <td>34219.360995</td>\n      <td>34219.360995</td>\n      <td>34219.360995</td>\n      <td>34219.360995</td>\n      <td>34219.360995</td>\n      <td>34219.360995</td>\n      <td>34219.360995</td>\n      <td>34219.360995</td>\n      <td>34219.360995</td>\n      <td>34219.360995</td>\n      <td>34219.360995</td>\n      <td>34219.360995</td>\n      <td>34219.360995</td>\n      <td>34219.360995</td>\n      <td>34219.360995</td>\n      <td>34219.360995</td>\n      <td>34219.360995</td>\n      <td>34219.360995</td>\n      <td>34219.360995</td>\n      <td>34219.360995</td>\n      <td>34219.360995</td>\n    </tr>\n    <tr>\n      <th>44</th>\n      <td>35245.941825</td>\n      <td>35245.941825</td>\n      <td>35245.941825</td>\n      <td>35245.941825</td>\n      <td>35245.941825</td>\n      <td>35245.941825</td>\n      <td>35245.941825</td>\n      <td>35245.941825</td>\n      <td>35245.941825</td>\n      <td>35245.941825</td>\n      <td>35245.941825</td>\n      <td>35245.941825</td>\n      <td>35245.941825</td>\n      <td>35245.941825</td>\n      <td>35245.941825</td>\n      <td>35245.941825</td>\n      <td>35245.941825</td>\n      <td>35245.941825</td>\n      <td>35245.941825</td>\n      <td>35245.941825</td>\n      <td>35245.941825</td>\n    </tr>\n    <tr>\n      <th>45</th>\n      <td>36303.320080</td>\n      <td>36303.320080</td>\n      <td>36303.320080</td>\n      <td>36303.320080</td>\n      <td>36303.320080</td>\n      <td>36303.320080</td>\n      <td>36303.320080</td>\n      <td>36303.320080</td>\n      <td>36303.320080</td>\n      <td>36303.320080</td>\n      <td>36303.320080</td>\n      <td>36303.320080</td>\n      <td>36303.320080</td>\n      <td>36303.320080</td>\n      <td>36303.320080</td>\n      <td>36303.320080</td>\n      <td>36303.320080</td>\n      <td>36303.320080</td>\n      <td>36303.320080</td>\n      <td>36303.320080</td>\n      <td>36303.320080</td>\n    </tr>\n    <tr>\n      <th>46</th>\n      <td>37392.419682</td>\n      <td>37392.419682</td>\n      <td>37392.419682</td>\n      <td>37392.419682</td>\n      <td>37392.419682</td>\n      <td>37392.419682</td>\n      <td>37392.419682</td>\n      <td>37392.419682</td>\n      <td>37392.419682</td>\n      <td>37392.419682</td>\n      <td>37392.419682</td>\n      <td>37392.419682</td>\n      <td>37392.419682</td>\n      <td>37392.419682</td>\n      <td>37392.419682</td>\n      <td>37392.419682</td>\n      <td>37392.419682</td>\n      <td>37392.419682</td>\n      <td>37392.419682</td>\n      <td>37392.419682</td>\n      <td>37392.419682</td>\n    </tr>\n    <tr>\n      <th>47</th>\n      <td>38514.192273</td>\n      <td>38514.192273</td>\n      <td>38514.192273</td>\n      <td>38514.192273</td>\n      <td>38514.192273</td>\n      <td>38514.192273</td>\n      <td>38514.192273</td>\n      <td>38514.192273</td>\n      <td>38514.192273</td>\n      <td>38514.192273</td>\n      <td>38514.192273</td>\n      <td>38514.192273</td>\n      <td>38514.192273</td>\n      <td>38514.192273</td>\n      <td>38514.192273</td>\n      <td>38514.192273</td>\n      <td>38514.192273</td>\n      <td>38514.192273</td>\n      <td>38514.192273</td>\n      <td>38514.192273</td>\n      <td>38514.192273</td>\n    </tr>\n    <tr>\n      <th>48</th>\n      <td>39669.618041</td>\n      <td>39669.618041</td>\n      <td>39669.618041</td>\n      <td>39669.618041</td>\n      <td>39669.618041</td>\n      <td>39669.618041</td>\n      <td>39669.618041</td>\n      <td>39669.618041</td>\n      <td>39669.618041</td>\n      <td>39669.618041</td>\n      <td>39669.618041</td>\n      <td>39669.618041</td>\n      <td>39669.618041</td>\n      <td>39669.618041</td>\n      <td>39669.618041</td>\n      <td>39669.618041</td>\n      <td>39669.618041</td>\n      <td>39669.618041</td>\n      <td>39669.618041</td>\n      <td>39669.618041</td>\n      <td>39669.618041</td>\n    </tr>\n    <tr>\n      <th>49</th>\n      <td>40859.706582</td>\n      <td>40859.706582</td>\n      <td>40859.706582</td>\n      <td>40859.706582</td>\n      <td>40859.706582</td>\n      <td>40859.706582</td>\n      <td>40859.706582</td>\n      <td>40859.706582</td>\n      <td>40859.706582</td>\n      <td>40859.706582</td>\n      <td>40859.706582</td>\n      <td>40859.706582</td>\n      <td>40859.706582</td>\n      <td>40859.706582</td>\n      <td>40859.706582</td>\n      <td>40859.706582</td>\n      <td>40859.706582</td>\n      <td>40859.706582</td>\n      <td>40859.706582</td>\n      <td>40859.706582</td>\n      <td>40859.706582</td>\n    </tr>\n    <tr>\n      <th>50</th>\n      <td>42085.497780</td>\n      <td>42085.497780</td>\n      <td>42085.497780</td>\n      <td>42085.497780</td>\n      <td>42085.497780</td>\n      <td>42085.497780</td>\n      <td>42085.497780</td>\n      <td>42085.497780</td>\n      <td>42085.497780</td>\n      <td>42085.497780</td>\n      <td>42085.497780</td>\n      <td>42085.497780</td>\n      <td>42085.497780</td>\n      <td>42085.497780</td>\n      <td>42085.497780</td>\n      <td>42085.497780</td>\n      <td>42085.497780</td>\n      <td>42085.497780</td>\n      <td>42085.497780</td>\n      <td>42085.497780</td>\n      <td>42085.497780</td>\n    </tr>\n    <tr>\n      <th>51</th>\n      <td>43348.062713</td>\n      <td>43348.062713</td>\n      <td>43348.062713</td>\n      <td>43348.062713</td>\n      <td>43348.062713</td>\n      <td>43348.062713</td>\n      <td>43348.062713</td>\n      <td>43348.062713</td>\n      <td>43348.062713</td>\n      <td>43348.062713</td>\n      <td>43348.062713</td>\n      <td>43348.062713</td>\n      <td>43348.062713</td>\n      <td>43348.062713</td>\n      <td>43348.062713</td>\n      <td>43348.062713</td>\n      <td>43348.062713</td>\n      <td>43348.062713</td>\n      <td>43348.062713</td>\n      <td>43348.062713</td>\n      <td>43348.062713</td>\n    </tr>\n    <tr>\n      <th>52</th>\n      <td>44648.504594</td>\n      <td>44648.504594</td>\n      <td>44648.504594</td>\n      <td>44648.504594</td>\n      <td>44648.504594</td>\n      <td>44648.504594</td>\n      <td>44648.504594</td>\n      <td>44648.504594</td>\n      <td>44648.504594</td>\n      <td>44648.504594</td>\n      <td>44648.504594</td>\n      <td>44648.504594</td>\n      <td>44648.504594</td>\n      <td>44648.504594</td>\n      <td>44648.504594</td>\n      <td>44648.504594</td>\n      <td>44648.504594</td>\n      <td>44648.504594</td>\n      <td>44648.504594</td>\n      <td>44648.504594</td>\n      <td>44648.504594</td>\n    </tr>\n    <tr>\n      <th>53</th>\n      <td>45987.959732</td>\n      <td>45987.959732</td>\n      <td>45987.959732</td>\n      <td>45987.959732</td>\n      <td>45987.959732</td>\n      <td>45987.959732</td>\n      <td>45987.959732</td>\n      <td>45987.959732</td>\n      <td>45987.959732</td>\n      <td>45987.959732</td>\n      <td>45987.959732</td>\n      <td>45987.959732</td>\n      <td>45987.959732</td>\n      <td>45987.959732</td>\n      <td>45987.959732</td>\n      <td>45987.959732</td>\n      <td>45987.959732</td>\n      <td>45987.959732</td>\n      <td>45987.959732</td>\n      <td>45987.959732</td>\n      <td>45987.959732</td>\n    </tr>\n    <tr>\n      <th>54</th>\n      <td>47367.598524</td>\n      <td>47367.598524</td>\n      <td>47367.598524</td>\n      <td>47367.598524</td>\n      <td>47367.598524</td>\n      <td>47367.598524</td>\n      <td>47367.598524</td>\n      <td>47367.598524</td>\n      <td>47367.598524</td>\n      <td>47367.598524</td>\n      <td>47367.598524</td>\n      <td>47367.598524</td>\n      <td>47367.598524</td>\n      <td>47367.598524</td>\n      <td>47367.598524</td>\n      <td>47367.598524</td>\n      <td>47367.598524</td>\n      <td>47367.598524</td>\n      <td>47367.598524</td>\n      <td>47367.598524</td>\n      <td>47367.598524</td>\n    </tr>\n    <tr>\n      <th>55</th>\n      <td>48788.626480</td>\n      <td>48788.626480</td>\n      <td>48788.626480</td>\n      <td>48788.626480</td>\n      <td>48788.626480</td>\n      <td>48788.626480</td>\n      <td>48788.626480</td>\n      <td>48788.626480</td>\n      <td>48788.626480</td>\n      <td>48788.626480</td>\n      <td>48788.626480</td>\n      <td>48788.626480</td>\n      <td>48788.626480</td>\n      <td>48788.626480</td>\n      <td>48788.626480</td>\n      <td>48788.626480</td>\n      <td>48788.626480</td>\n      <td>48788.626480</td>\n      <td>48788.626480</td>\n      <td>48788.626480</td>\n      <td>48788.626480</td>\n    </tr>\n    <tr>\n      <th>56</th>\n      <td>50252.285274</td>\n      <td>50252.285274</td>\n      <td>50252.285274</td>\n      <td>50252.285274</td>\n      <td>50252.285274</td>\n      <td>50252.285274</td>\n      <td>50252.285274</td>\n      <td>50252.285274</td>\n      <td>50252.285274</td>\n      <td>50252.285274</td>\n      <td>50252.285274</td>\n      <td>50252.285274</td>\n      <td>50252.285274</td>\n      <td>50252.285274</td>\n      <td>50252.285274</td>\n      <td>50252.285274</td>\n      <td>50252.285274</td>\n      <td>50252.285274</td>\n      <td>50252.285274</td>\n      <td>50252.285274</td>\n      <td>50252.285274</td>\n    </tr>\n    <tr>\n      <th>57</th>\n      <td>51759.853833</td>\n      <td>51759.853833</td>\n      <td>51759.853833</td>\n      <td>51759.853833</td>\n      <td>51759.853833</td>\n      <td>51759.853833</td>\n      <td>51759.853833</td>\n      <td>51759.853833</td>\n      <td>51759.853833</td>\n      <td>51759.853833</td>\n      <td>51759.853833</td>\n      <td>51759.853833</td>\n      <td>51759.853833</td>\n      <td>51759.853833</td>\n      <td>51759.853833</td>\n      <td>51759.853833</td>\n      <td>51759.853833</td>\n      <td>51759.853833</td>\n      <td>51759.853833</td>\n      <td>51759.853833</td>\n      <td>51759.853833</td>\n    </tr>\n    <tr>\n      <th>58</th>\n      <td>53312.649447</td>\n      <td>53312.649447</td>\n      <td>53312.649447</td>\n      <td>53312.649447</td>\n      <td>53312.649447</td>\n      <td>53312.649447</td>\n      <td>53312.649447</td>\n      <td>53312.649447</td>\n      <td>53312.649447</td>\n      <td>53312.649447</td>\n      <td>53312.649447</td>\n      <td>53312.649447</td>\n      <td>53312.649447</td>\n      <td>53312.649447</td>\n      <td>53312.649447</td>\n      <td>53312.649447</td>\n      <td>53312.649447</td>\n      <td>53312.649447</td>\n      <td>53312.649447</td>\n      <td>53312.649447</td>\n      <td>53312.649447</td>\n    </tr>\n    <tr>\n      <th>59</th>\n      <td>54912.028931</td>\n      <td>54912.028931</td>\n      <td>54912.028931</td>\n      <td>54912.028931</td>\n      <td>54912.028931</td>\n      <td>54912.028931</td>\n      <td>54912.028931</td>\n      <td>54912.028931</td>\n      <td>54912.028931</td>\n      <td>54912.028931</td>\n      <td>54912.028931</td>\n      <td>54912.028931</td>\n      <td>54912.028931</td>\n      <td>54912.028931</td>\n      <td>54912.028931</td>\n      <td>54912.028931</td>\n      <td>54912.028931</td>\n      <td>54912.028931</td>\n      <td>54912.028931</td>\n      <td>54912.028931</td>\n      <td>54912.028931</td>\n    </tr>\n    <tr>\n      <th>60</th>\n      <td>56559.389799</td>\n      <td>56559.389799</td>\n      <td>56559.389799</td>\n      <td>56559.389799</td>\n      <td>56559.389799</td>\n      <td>56559.389799</td>\n      <td>56559.389799</td>\n      <td>56559.389799</td>\n      <td>56559.389799</td>\n      <td>56559.389799</td>\n      <td>56559.389799</td>\n      <td>56559.389799</td>\n      <td>56559.389799</td>\n      <td>56559.389799</td>\n      <td>56559.389799</td>\n      <td>56559.389799</td>\n      <td>56559.389799</td>\n      <td>56559.389799</td>\n      <td>56559.389799</td>\n      <td>56559.389799</td>\n      <td>56559.389799</td>\n    </tr>\n  </tbody>\n</table>\n</div>"
     },
     "execution_count": 19,
     "metadata": {},
     "output_type": "execute_result"
    }
   ],
   "source": [
    "avg_withdrawals_table"
   ]
  },
  {
   "cell_type": "code",
   "execution_count": 20,
   "metadata": {
    "collapsed": false,
    "jupyter": {
     "outputs_hidden": false
    }
   },
   "outputs": [],
   "source": [
    "\n",
    "# Plotting setup\n",
    "plt.figure(figsize=(12, 8))\n",
    "cm = plt.get_cmap('viridis')  # Get a color map\n",
    "colors = [cm(x / len(starting_equities)) for x in range(len(starting_equities))]\n",
    "\n",
    "# Plot each equity line\n",
    "for i, equity in enumerate(starting_equities):\n",
    "    plt.plot(avg_equities_table[equity], label=f'Starting Equity: ${equity}', color=colors[i], linewidth=1.5)\n",
    "\n",
    "plt.title('Evolution of Mean Total Equity and Buffer Over Years')\n",
    "plt.xlabel('Year')\n",
    "plt.ylabel('Mean Total Value ($)')\n",
    "plt.legend(title='Starting Equity', bbox_to_anchor=(1.05, 1), loc='upper left')\n",
    "plt.grid(True)\n",
    "plt.tight_layout()  # Adjust layout to make room for legend\n",
    "plt.show()"
   ]
  },
  {
   "cell_type": "code",
   "execution_count": 21,
   "metadata": {
    "collapsed": false,
    "jupyter": {
     "outputs_hidden": false
    }
   },
   "outputs": [
    {
     "name": "stdout",
     "output_type": "stream",
     "text": [
      "1     5154.206682\n",
      "2     8321.665204\n",
      "3    11901.962684\n",
      "4    15997.735582\n",
      "5    20727.889632\n",
      "Name: 0, dtype: float64\n"
     ]
    }
   ],
   "source": [
    "\n",
    "# Plot setup\n",
    "plt.figure(figsize=(12, 8))\n",
    "colors = plt.cm.viridis(np.linspace(0, 1, len(starting_equities)))  # Color map for distinction\n",
    "\n",
    "for i, equity in enumerate(starting_equities[:1]):\n",
    "    # Debug: Print the first few values to see if they're populated correctly\n",
    "    if i == 0:\n",
    "        print(avg_equities_table[equity].head())\n",
    "\n",
    "    plt.plot(avg_equities_table.index, avg_equities_table[equity], label=f'Starting Equity: ${equity}', color=colors[i], linewidth=2)\n",
    "\n",
    "plt.title('Evolution of Mean Total Equity and Buffer Over Years')\n",
    "plt.xlabel('Year')\n",
    "plt.ylabel('Mean Total Value ($)')\n",
    "plt.legend(title='Starting Equity', bbox_to_anchor=(1.05, 1), loc='upper left')\n",
    "plt.grid(True)\n",
    "plt.tight_layout()\n",
    "plt.show()"
   ]
  }
 ],
 "metadata": {
  "kernelspec": {
   "display_name": "Python 3 (ipykernel)",
   "language": "python",
   "name": "python3"
  },
  "language_info": {
   "codemirror_mode": {
    "name": "ipython",
    "version": 3
   },
   "file_extension": ".py",
   "mimetype": "text/x-python",
   "name": "python",
   "nbconvert_exporter": "python",
   "pygments_lexer": "ipython3",
   "version": "3.11.2"
  }
 },
 "nbformat": 4,
 "nbformat_minor": 4
}
