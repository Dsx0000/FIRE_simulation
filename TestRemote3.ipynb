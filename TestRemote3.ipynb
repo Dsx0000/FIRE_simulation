{
 "cells": [
  {
   "cell_type": "code",
   "execution_count": 1,
   "metadata": {
    "collapsed": true
   },
   "outputs": [],
   "source": [
    "# Set the backend for matplotlib based on the environment.\n",
    "#\n",
    "#     Available backends:\n",
    "#     - 'inline': Use this backend for inline plots within Jupyter notebooks. Plots will render inside the notebook.\n",
    "#     - 'notebook': An interactive backend specifically for Jupyter notebooks, enabling zooming and panning within the notebook.\n",
    "#     - 'qt': A GUI backend suitable for PyCharm or standalone scripts, allowing for interactive plots in external windows.\n",
    "backend = \"inline\"\n",
    "if backend == \"inline\":\n",
    "    try:\n",
    "        %matplotlib inline\n",
    "    except (ImportError, AttributeError) as e:\n",
    "            print(f\"Error: Cannot set matplotlib to inline due to: {e}\")\n",
    "elif backend == \"notebook\":\n",
    "    try:\n",
    "        %matplotlib notebook\n",
    "    except (ImportError, AttributeError) as e:\n",
    "            print(f\"Error: Cannot set matplotlib to notebook due to: {e}\")\n",
    "elif backend == \"qt\":\n",
    "    import matplotlib\n",
    "    matplotlib.use('Qt5Agg')\n",
    "else:\n",
    "    raise ValueError(f\"Unknown backend: {backend}.\\n\"\n",
    "                     f\"Available backends:\\n\"\n",
    "                     f\"inline\\n\"\n",
    "                     f\"notebook\\n\"\n",
    "                     f\"qt\"\n",
    "                     )"
   ]
  },
  {
   "cell_type": "code",
   "execution_count": 2,
   "outputs": [],
   "source": [
    "from matplotlib import pyplot as plt"
   ],
   "metadata": {
    "collapsed": false
   }
  },
  {
   "cell_type": "code",
   "execution_count": 3,
   "outputs": [],
   "source": [
    "import pandas as pd\n",
    "import numpy as np\n",
    "import yfinance as yf\n",
    "import random\n",
    "import seaborn\n",
    "import warnings"
   ],
   "metadata": {
    "collapsed": false
   }
  },
  {
   "cell_type": "markdown",
   "source": [
    "## Optional:\n",
    " Set plot style and print of pandas df"
   ],
   "metadata": {
    "collapsed": false
   }
  },
  {
   "cell_type": "code",
   "execution_count": 4,
   "outputs": [],
   "source": [
    "# OPTIONAL:\n",
    "# set plot style and print of pandas df\n",
    "\n",
    "plt.style.use(\"seaborn-v0_8\")\n",
    "pd.set_option('display.max_rows', None)\n",
    "pd.set_option('display.max_columns', None)\n",
    "pd.set_option('display.width', None)\n",
    "pd.set_option('display.max_colwidth', None)\n",
    "np.set_printoptions(threshold=1000)"
   ],
   "metadata": {
    "collapsed": false
   }
  },
  {
   "cell_type": "markdown",
   "source": [
    "## Asset and Data Acquisition Section\n",
    "Obtain market data for investment analysis. In this guide, we use the S&P 500, a benchmark for quality investments.\n",
    "Note that the market does not operate every day of the year; the number of trading days varies by asset.\n",
    "To proceed, download the annual returns of the selected financial instrument, adjusting for the specific number of market days in a year if you choose an asset other than the S&P 500.\n"
   ],
   "metadata": {
    "collapsed": false
   }
  },
  {
   "cell_type": "code",
   "execution_count": 5,
   "outputs": [
    {
     "name": "stderr",
     "output_type": "stream",
     "text": [
      "[*********************100%%**********************]  1 of 1 completed"
     ]
    },
    {
     "name": "stdout",
     "output_type": "stream",
     "text": [
      "Your average annual return would be in percentage: 12.130581539770342%\n"
     ]
    },
    {
     "name": "stderr",
     "output_type": "stream",
     "text": [
      "\n"
     ]
    }
   ],
   "source": [
    "# ASSET AND DATA ACQUISITION SECTION\n",
    "# Obtain market data for investment analysis. In this guide, we use the S&P 500, a benchmark for quality investments.\n",
    "# Note that the market does not operate every day of the year; the number of trading days varies by asset.\n",
    "# To proceed, download the annual returns of the selected financial instrument, adjusting for the specific number of\n",
    "# market days in a year if you choose an asset other than the S&P 500.\n",
    "u = 2+2\n",
    "asset = \"^SP500TR\"\n",
    "year_market_days = 253\n",
    "df = yf.download(asset)[\"Adj Close\"].pct_change(year_market_days).dropna()\n",
    "average_asset_gain = df.mean()\n",
    "print(f\"Your average annual return would be in percentage: {average_asset_gain*100}%\" )\n"
   ],
   "metadata": {
    "collapsed": false
   }
  }
 ],
 "metadata": {
  "kernelspec": {
   "display_name": "Python 3",
   "language": "python",
   "name": "python3"
  },
  "language_info": {
   "codemirror_mode": {
    "name": "ipython",
    "version": 2
   },
   "file_extension": ".py",
   "mimetype": "text/x-python",
   "name": "python",
   "nbconvert_exporter": "python",
   "pygments_lexer": "ipython2",
   "version": "2.7.6"
  }
 },
 "nbformat": 4,
 "nbformat_minor": 0
}
